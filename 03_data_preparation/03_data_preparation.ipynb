{
 "cells": [
  {
   "cell_type": "markdown",
   "id": "979df71c",
   "metadata": {},
   "source": [
    "# Data Preparation\n",
    "In this notebook all data preparation steps will be taken with the end goal to produce a clean and ready to use dataset\n",
    "\n",
    "First step is to load the libraries and set global variables"
   ]
  },
  {
   "cell_type": "code",
   "execution_count": 1,
   "id": "abd3b73e",
   "metadata": {},
   "outputs": [],
   "source": [
    "import pandas as pd\n",
    "import os\n",
    "import matplotlib.pyplot as plt\n",
    "from pathlib import Path\n",
    "from PIL import Image\n",
    "\n",
    "SEED=42"
   ]
  },
  {
   "cell_type": "markdown",
   "id": "a93c619a",
   "metadata": {},
   "source": [
    "Now the data can be loaded. The labels will be stored initially in the dataframe and the paths to images will be added later. The seperator used in the csv is a tab"
   ]
  },
  {
   "cell_type": "code",
   "execution_count": 2,
   "id": "25689ebf",
   "metadata": {},
   "outputs": [
    {
     "name": "stdout",
     "output_type": "stream",
     "text": [
      "<class 'pandas.core.frame.DataFrame'>\n",
      "RangeIndex: 43455 entries, 0 to 43454\n",
      "Data columns (total 13 columns):\n",
      " #   Column     Non-Null Count  Dtype \n",
      "---  ------     --------------  ----- \n",
      " 0   ID         43455 non-null  int64 \n",
      " 1   FILE       43454 non-null  object\n",
      " 2   AUTHOR     43455 non-null  object\n",
      " 3   BORN-DIED  43455 non-null  object\n",
      " 4   TITLE      43455 non-null  object\n",
      " 5   DATE       43455 non-null  object\n",
      " 6   TECHNIQUE  43455 non-null  object\n",
      " 7   LOCATION   43455 non-null  object\n",
      " 8   FORM       43455 non-null  object\n",
      " 9   TYPE       43455 non-null  object\n",
      " 10  SCHOOL     43455 non-null  object\n",
      " 11  TIMELINE   43455 non-null  object\n",
      " 12  URL        43455 non-null  object\n",
      "dtypes: int64(1), object(12)\n",
      "memory usage: 4.3+ MB\n"
     ]
    }
   ],
   "source": [
    "image_dir = '../data/toy_dataset/'\n",
    "labels_path = '../data/toy_dataset_label.csv'\n",
    "\n",
    "df = pd.read_csv(labels_path, sep='\\t')\n",
    "df.info()"
   ]
  },
  {
   "cell_type": "code",
   "execution_count": 3,
   "id": "9ebc2614",
   "metadata": {},
   "outputs": [
    {
     "data": {
      "text/html": [
       "<div>\n",
       "<style scoped>\n",
       "    .dataframe tbody tr th:only-of-type {\n",
       "        vertical-align: middle;\n",
       "    }\n",
       "\n",
       "    .dataframe tbody tr th {\n",
       "        vertical-align: top;\n",
       "    }\n",
       "\n",
       "    .dataframe thead th {\n",
       "        text-align: right;\n",
       "    }\n",
       "</style>\n",
       "<table border=\"1\" class=\"dataframe\">\n",
       "  <thead>\n",
       "    <tr style=\"text-align: right;\">\n",
       "      <th></th>\n",
       "      <th>ID</th>\n",
       "      <th>FILE</th>\n",
       "      <th>AUTHOR</th>\n",
       "      <th>BORN-DIED</th>\n",
       "      <th>TITLE</th>\n",
       "      <th>DATE</th>\n",
       "      <th>TECHNIQUE</th>\n",
       "      <th>LOCATION</th>\n",
       "      <th>FORM</th>\n",
       "      <th>TYPE</th>\n",
       "      <th>SCHOOL</th>\n",
       "      <th>TIMELINE</th>\n",
       "      <th>URL</th>\n",
       "    </tr>\n",
       "  </thead>\n",
       "  <tbody>\n",
       "    <tr>\n",
       "      <th>22587</th>\n",
       "      <td>22588</td>\n",
       "      <td>22588.jpg</td>\n",
       "      <td>LUINI, Bernardino</td>\n",
       "      <td>(b. 1480, Luino, d. 1532, Milano)</td>\n",
       "      <td>Salome Receiving the Head of St John the Baptist</td>\n",
       "      <td>-</td>\n",
       "      <td>Oil on canvas, 62 x 55 cm</td>\n",
       "      <td>Musée du Louvre, Paris</td>\n",
       "      <td>painting</td>\n",
       "      <td>religious</td>\n",
       "      <td>Italian</td>\n",
       "      <td>1501-1550</td>\n",
       "      <td>http://www.wga.hu/html/l/luini/father/2/salome...</td>\n",
       "    </tr>\n",
       "    <tr>\n",
       "      <th>29020</th>\n",
       "      <td>29021</td>\n",
       "      <td>29021.jpg</td>\n",
       "      <td>OUDRY, Jean-Baptiste</td>\n",
       "      <td>(b. 1686, Paris, d. 1755, Beauvais)</td>\n",
       "      <td>Still-Life with a Partridge, a Hare and Hollyhock</td>\n",
       "      <td>1718</td>\n",
       "      <td>Oil on canvas, 81 x 87 cm</td>\n",
       "      <td>Private collection</td>\n",
       "      <td>painting</td>\n",
       "      <td>still-life</td>\n",
       "      <td>French</td>\n",
       "      <td>1701-1750</td>\n",
       "      <td>http://www.wga.hu/html/o/oudry/father/stil_lif...</td>\n",
       "    </tr>\n",
       "    <tr>\n",
       "      <th>37682</th>\n",
       "      <td>37683</td>\n",
       "      <td>37683.jpg</td>\n",
       "      <td>TIEPOLO, Giovanni Battista</td>\n",
       "      <td>(b. 1696, Venezia, d. 1770, Madrid)</td>\n",
       "      <td>The Institution of the Rosary</td>\n",
       "      <td>1737-39</td>\n",
       "      <td>Fresco, 1200 x 450 cm</td>\n",
       "      <td>Santa Maria del Rosario (Gesuati), Venice</td>\n",
       "      <td>painting</td>\n",
       "      <td>religious</td>\n",
       "      <td>Italian</td>\n",
       "      <td>1701-1750</td>\n",
       "      <td>http://www.wga.hu/html/t/tiepolo/gianbatt/2_ge...</td>\n",
       "    </tr>\n",
       "  </tbody>\n",
       "</table>\n",
       "</div>"
      ],
      "text/plain": [
       "          ID       FILE                      AUTHOR  \\\n",
       "22587  22588  22588.jpg           LUINI, Bernardino   \n",
       "29020  29021  29021.jpg        OUDRY, Jean-Baptiste   \n",
       "37682  37683  37683.jpg  TIEPOLO, Giovanni Battista   \n",
       "\n",
       "                                 BORN-DIED  \\\n",
       "22587    (b. 1480, Luino, d. 1532, Milano)   \n",
       "29020  (b. 1686, Paris, d. 1755, Beauvais)   \n",
       "37682  (b. 1696, Venezia, d. 1770, Madrid)   \n",
       "\n",
       "                                                   TITLE     DATE  \\\n",
       "22587   Salome Receiving the Head of St John the Baptist        -   \n",
       "29020  Still-Life with a Partridge, a Hare and Hollyhock     1718   \n",
       "37682                      The Institution of the Rosary  1737-39   \n",
       "\n",
       "                       TECHNIQUE                                   LOCATION  \\\n",
       "22587  Oil on canvas, 62 x 55 cm                     Musée du Louvre, Paris   \n",
       "29020  Oil on canvas, 81 x 87 cm                         Private collection   \n",
       "37682      Fresco, 1200 x 450 cm  Santa Maria del Rosario (Gesuati), Venice   \n",
       "\n",
       "           FORM        TYPE   SCHOOL   TIMELINE  \\\n",
       "22587  painting   religious  Italian  1501-1550   \n",
       "29020  painting  still-life   French  1701-1750   \n",
       "37682  painting   religious  Italian  1701-1750   \n",
       "\n",
       "                                                     URL  \n",
       "22587  http://www.wga.hu/html/l/luini/father/2/salome...  \n",
       "29020  http://www.wga.hu/html/o/oudry/father/stil_lif...  \n",
       "37682  http://www.wga.hu/html/t/tiepolo/gianbatt/2_ge...  "
      ]
     },
     "execution_count": 3,
     "metadata": {},
     "output_type": "execute_result"
    }
   ],
   "source": [
    "df.sample(n=3)"
   ]
  },
  {
   "cell_type": "markdown",
   "id": "ed08d64a",
   "metadata": {},
   "source": [
    "The labels are loaded succesfully."
   ]
  },
  {
   "cell_type": "markdown",
   "id": "15d8d492",
   "metadata": {},
   "source": [
    "## Select Data\n",
    "\n",
    "### Columns\n",
    "The columns that need to be included are:\n",
    "- ID\n",
    "- FORM (Only for filtering)\n",
    "- TYPE\n",
    "- FILE\n",
    "\n",
    "With these columns a good first modeling phase can be started too see technical viability"
   ]
  },
  {
   "cell_type": "code",
   "execution_count": 4,
   "id": "5c664bb2",
   "metadata": {},
   "outputs": [
    {
     "name": "stdout",
     "output_type": "stream",
     "text": [
      "<class 'pandas.core.frame.DataFrame'>\n",
      "Index: 43454 entries, 0 to 43453\n",
      "Data columns (total 4 columns):\n",
      " #   Column  Non-Null Count  Dtype \n",
      "---  ------  --------------  ----- \n",
      " 0   ID      43454 non-null  int64 \n",
      " 1   FORM    43454 non-null  object\n",
      " 2   TYPE    43454 non-null  object\n",
      " 3   FILE    43454 non-null  object\n",
      "dtypes: int64(1), object(3)\n",
      "memory usage: 1.7+ MB\n"
     ]
    },
    {
     "data": {
      "text/html": [
       "<div>\n",
       "<style scoped>\n",
       "    .dataframe tbody tr th:only-of-type {\n",
       "        vertical-align: middle;\n",
       "    }\n",
       "\n",
       "    .dataframe tbody tr th {\n",
       "        vertical-align: top;\n",
       "    }\n",
       "\n",
       "    .dataframe thead th {\n",
       "        text-align: right;\n",
       "    }\n",
       "</style>\n",
       "<table border=\"1\" class=\"dataframe\">\n",
       "  <thead>\n",
       "    <tr style=\"text-align: right;\">\n",
       "      <th></th>\n",
       "      <th>ID</th>\n",
       "      <th>FORM</th>\n",
       "      <th>TYPE</th>\n",
       "      <th>FILE</th>\n",
       "    </tr>\n",
       "  </thead>\n",
       "  <tbody>\n",
       "    <tr>\n",
       "      <th>24287</th>\n",
       "      <td>24288</td>\n",
       "      <td>painting</td>\n",
       "      <td>religious</td>\n",
       "      <td>24288.jpg</td>\n",
       "    </tr>\n",
       "    <tr>\n",
       "      <th>3013</th>\n",
       "      <td>3014</td>\n",
       "      <td>painting</td>\n",
       "      <td>religious</td>\n",
       "      <td>3014.jpg</td>\n",
       "    </tr>\n",
       "    <tr>\n",
       "      <th>34591</th>\n",
       "      <td>34592</td>\n",
       "      <td>painting</td>\n",
       "      <td>landscape</td>\n",
       "      <td>34592.jpg</td>\n",
       "    </tr>\n",
       "  </tbody>\n",
       "</table>\n",
       "</div>"
      ],
      "text/plain": [
       "          ID      FORM       TYPE       FILE\n",
       "24287  24288  painting  religious  24288.jpg\n",
       "3013    3014  painting  religious   3014.jpg\n",
       "34591  34592  painting  landscape  34592.jpg"
      ]
     },
     "execution_count": 4,
     "metadata": {},
     "output_type": "execute_result"
    }
   ],
   "source": [
    "# From the .info() it was visible that FILE has one NaN value\n",
    "df = df.dropna(subset=['FILE'])\n",
    "\n",
    "# Create a dataframe with only the relevant columns\n",
    "columns_to_keep = ['ID', 'FORM', 'TYPE', 'FILE']\n",
    "df = df[columns_to_keep]\n",
    "\n",
    "df.info()\n",
    "df.sample(n=3)"
   ]
  },
  {
   "cell_type": "markdown",
   "id": "572b59eb",
   "metadata": {},
   "source": [
    "### Rows\n",
    "- Rows where the `FORM` equals `painting` will be kept\n",
    "- The `TYPE` rows will be filtered to only include `religious`, `portrait`, `landscape`, and `mythological`"
   ]
  },
  {
   "cell_type": "code",
   "execution_count": 5,
   "id": "f0550356",
   "metadata": {},
   "outputs": [
    {
     "name": "stdout",
     "output_type": "stream",
     "text": [
      "<class 'pandas.core.frame.DataFrame'>\n",
      "Index: 23697 entries, 0 to 43446\n",
      "Data columns (total 4 columns):\n",
      " #   Column  Non-Null Count  Dtype \n",
      "---  ------  --------------  ----- \n",
      " 0   ID      23697 non-null  int64 \n",
      " 1   FORM    23697 non-null  object\n",
      " 2   TYPE    23697 non-null  object\n",
      " 3   FILE    23697 non-null  object\n",
      "dtypes: int64(1), object(3)\n",
      "memory usage: 925.7+ KB\n"
     ]
    },
    {
     "data": {
      "text/html": [
       "<div>\n",
       "<style scoped>\n",
       "    .dataframe tbody tr th:only-of-type {\n",
       "        vertical-align: middle;\n",
       "    }\n",
       "\n",
       "    .dataframe tbody tr th {\n",
       "        vertical-align: top;\n",
       "    }\n",
       "\n",
       "    .dataframe thead th {\n",
       "        text-align: right;\n",
       "    }\n",
       "</style>\n",
       "<table border=\"1\" class=\"dataframe\">\n",
       "  <thead>\n",
       "    <tr style=\"text-align: right;\">\n",
       "      <th></th>\n",
       "      <th>ID</th>\n",
       "      <th>FORM</th>\n",
       "      <th>TYPE</th>\n",
       "      <th>FILE</th>\n",
       "    </tr>\n",
       "  </thead>\n",
       "  <tbody>\n",
       "    <tr>\n",
       "      <th>25841</th>\n",
       "      <td>25842</td>\n",
       "      <td>painting</td>\n",
       "      <td>religious</td>\n",
       "      <td>25842.jpg</td>\n",
       "    </tr>\n",
       "    <tr>\n",
       "      <th>22951</th>\n",
       "      <td>22952</td>\n",
       "      <td>painting</td>\n",
       "      <td>landscape</td>\n",
       "      <td>22952.jpg</td>\n",
       "    </tr>\n",
       "    <tr>\n",
       "      <th>40065</th>\n",
       "      <td>40066</td>\n",
       "      <td>painting</td>\n",
       "      <td>religious</td>\n",
       "      <td>40066.jpg</td>\n",
       "    </tr>\n",
       "  </tbody>\n",
       "</table>\n",
       "</div>"
      ],
      "text/plain": [
       "          ID      FORM       TYPE       FILE\n",
       "25841  25842  painting  religious  25842.jpg\n",
       "22951  22952  painting  landscape  22952.jpg\n",
       "40065  40066  painting  religious  40066.jpg"
      ]
     },
     "execution_count": 5,
     "metadata": {},
     "output_type": "execute_result"
    }
   ],
   "source": [
    "# Before this operation the values have to be normalized \n",
    "df['FORM'] = df['FORM'].astype(str).str.strip().str.lower()\n",
    "df['TYPE'] = df['TYPE'].astype(str).str.strip().str.lower()\n",
    "\n",
    "types_to_keep = ['religious', 'portrait', 'landscape', 'mythological']\n",
    "df = df[df['TYPE'].isin(types_to_keep)]\n",
    "\n",
    "df = df[\n",
    "    (df['FORM'] == 'painting') &\n",
    "    (df['TYPE'].isin(types_to_keep))\n",
    "]\n",
    "\n",
    "df.info()\n",
    "df.sample(n=3)"
   ]
  },
  {
   "cell_type": "markdown",
   "id": "e976280a",
   "metadata": {},
   "source": [
    "Now that the filter is applied the FORM column can be dropped. This holds no extra information for the model to use as it is only one repeated value"
   ]
  },
  {
   "cell_type": "code",
   "execution_count": 6,
   "id": "8f9a0f94",
   "metadata": {},
   "outputs": [
    {
     "name": "stdout",
     "output_type": "stream",
     "text": [
      "<class 'pandas.core.frame.DataFrame'>\n",
      "Index: 23697 entries, 0 to 43446\n",
      "Data columns (total 3 columns):\n",
      " #   Column  Non-Null Count  Dtype \n",
      "---  ------  --------------  ----- \n",
      " 0   ID      23697 non-null  int64 \n",
      " 1   TYPE    23697 non-null  object\n",
      " 2   FILE    23697 non-null  object\n",
      "dtypes: int64(1), object(2)\n",
      "memory usage: 740.5+ KB\n"
     ]
    }
   ],
   "source": [
    "df = df.drop('FORM', axis=1)\n",
    "df.info()"
   ]
  },
  {
   "cell_type": "markdown",
   "id": "ab539111",
   "metadata": {},
   "source": [
    "The amount of rows (`23697`) is too high to get initial insights, it is also not evenly distributed as seen in the EDA"
   ]
  },
  {
   "cell_type": "code",
   "execution_count": 7,
   "id": "8315a82f",
   "metadata": {},
   "outputs": [
    {
     "data": {
      "image/png": "[encoded data removed]",
      "text/plain": [
       "<Figure size 640x480 with 1 Axes>"
      ]
     },
     "metadata": {},
     "output_type": "display_data"
    }
   ],
   "source": [
    "plt.figure()\n",
    "df['TYPE'].value_counts().plot.bar()\n",
    "plt.title('Counts by TYPE')\n",
    "plt.ylabel('Number of Artworks')\n",
    "plt.tight_layout()"
   ]
  },
  {
   "cell_type": "markdown",
   "id": "e3d6db74",
   "metadata": {},
   "source": [
    "For every type there should be `500` rows for a good initial insight into model performance and make model fine tuning feasible."
   ]
  },
  {
   "cell_type": "code",
   "execution_count": 8,
   "id": "757ba409",
   "metadata": {},
   "outputs": [],
   "source": [
    "n_samples = 500\n",
    "\n",
    "# 200 random samples from each TYPE\n",
    "df = df.groupby('TYPE', group_keys=False).apply(lambda x: x.sample(n=n_samples, random_state=SEED))"
   ]
  },
  {
   "cell_type": "code",
   "execution_count": 9,
   "id": "55cacc8f",
   "metadata": {},
   "outputs": [
    {
     "data": {
      "image/png": "[encoded data removed]",
      "text/plain": [
       "<Figure size 640x480 with 1 Axes>"
      ]
     },
     "metadata": {},
     "output_type": "display_data"
    }
   ],
   "source": [
    "plt.figure()\n",
    "df['TYPE'].value_counts().plot.bar()\n",
    "plt.title('Counts by TYPE')\n",
    "plt.ylabel('Number of Artworks')\n",
    "plt.tight_layout()"
   ]
  },
  {
   "cell_type": "markdown",
   "id": "876fabf3",
   "metadata": {},
   "source": [
    "Now the relevant data has been selected the index will be reset"
   ]
  },
  {
   "cell_type": "code",
   "execution_count": 10,
   "id": "221608f7",
   "metadata": {},
   "outputs": [
    {
     "data": {
      "text/html": [
       "<div>\n",
       "<style scoped>\n",
       "    .dataframe tbody tr th:only-of-type {\n",
       "        vertical-align: middle;\n",
       "    }\n",
       "\n",
       "    .dataframe tbody tr th {\n",
       "        vertical-align: top;\n",
       "    }\n",
       "\n",
       "    .dataframe thead th {\n",
       "        text-align: right;\n",
       "    }\n",
       "</style>\n",
       "<table border=\"1\" class=\"dataframe\">\n",
       "  <thead>\n",
       "    <tr style=\"text-align: right;\">\n",
       "      <th></th>\n",
       "      <th>ID</th>\n",
       "      <th>TYPE</th>\n",
       "      <th>FILE</th>\n",
       "    </tr>\n",
       "  </thead>\n",
       "  <tbody>\n",
       "    <tr>\n",
       "      <th>1860</th>\n",
       "      <td>23306</td>\n",
       "      <td>religious</td>\n",
       "      <td>23306.jpg</td>\n",
       "    </tr>\n",
       "    <tr>\n",
       "      <th>353</th>\n",
       "      <td>34203</td>\n",
       "      <td>landscape</td>\n",
       "      <td>34203.jpg</td>\n",
       "    </tr>\n",
       "    <tr>\n",
       "      <th>1333</th>\n",
       "      <td>18417</td>\n",
       "      <td>portrait</td>\n",
       "      <td>18417.jpg</td>\n",
       "    </tr>\n",
       "    <tr>\n",
       "      <th>905</th>\n",
       "      <td>13165</td>\n",
       "      <td>mythological</td>\n",
       "      <td>13165.jpg</td>\n",
       "    </tr>\n",
       "    <tr>\n",
       "      <th>1289</th>\n",
       "      <td>17128</td>\n",
       "      <td>portrait</td>\n",
       "      <td>17128.jpg</td>\n",
       "    </tr>\n",
       "  </tbody>\n",
       "</table>\n",
       "</div>"
      ],
      "text/plain": [
       "         ID          TYPE       FILE\n",
       "1860  23306     religious  23306.jpg\n",
       "353   34203     landscape  34203.jpg\n",
       "1333  18417      portrait  18417.jpg\n",
       "905   13165  mythological  13165.jpg\n",
       "1289  17128      portrait  17128.jpg"
      ]
     },
     "execution_count": 10,
     "metadata": {},
     "output_type": "execute_result"
    }
   ],
   "source": [
    "df = df.reset_index(drop=True)\n",
    "df.sample(n=5, random_state=SEED)"
   ]
  },
  {
   "cell_type": "markdown",
   "id": "b957cc16",
   "metadata": {},
   "source": [
    "## Clean Data\n",
    "All columns will be transformed to lowercase. Checks will be implemented that throw an error if any value is not lowercase or includes any unwanted spaces"
   ]
  },
  {
   "cell_type": "code",
   "execution_count": 11,
   "id": "df78e540",
   "metadata": {},
   "outputs": [
    {
     "name": "stdout",
     "output_type": "stream",
     "text": [
      "<class 'pandas.core.frame.DataFrame'>\n",
      "RangeIndex: 2000 entries, 0 to 1999\n",
      "Data columns (total 3 columns):\n",
      " #   Column  Non-Null Count  Dtype \n",
      "---  ------  --------------  ----- \n",
      " 0   id      2000 non-null   int64 \n",
      " 1   type    2000 non-null   object\n",
      " 2   file    2000 non-null   object\n",
      "dtypes: int64(1), object(2)\n",
      "memory usage: 47.0+ KB\n"
     ]
    }
   ],
   "source": [
    "df.columns = [col.lower() for col in df.columns]\n",
    "df.info()"
   ]
  },
  {
   "cell_type": "code",
   "execution_count": 12,
   "id": "f5b4bbe3",
   "metadata": {},
   "outputs": [
    {
     "name": "stdout",
     "output_type": "stream",
     "text": [
      "All string values are lowercase and have no leading/trailing whitespace\n"
     ]
    }
   ],
   "source": [
    "def check_df_string_cleanliness(df):\n",
    "    # Check all string/object columns\n",
    "    for col in df.select_dtypes(include=['object', 'string']):\n",
    "        col_notnull = df[col].dropna()\n",
    "        # Check for lowercase\n",
    "        if not col_notnull.apply(lambda x: x == x.lower()).all():\n",
    "            raise ValueError(f\"Column '{col}' contains non-lowercase string values.\")\n",
    "        # Check for leading/trailing whitespace\n",
    "        if not col_notnull.apply(lambda x: x == x.strip()).all():\n",
    "            raise ValueError(f\"Column '{col}' contains leading or trailing whitespace.\")\n",
    "    print(\"All string values are lowercase and have no leading/trailing whitespace\")\n",
    "\n",
    "check_df_string_cleanliness(df)"
   ]
  },
  {
   "cell_type": "markdown",
   "id": "ab232313",
   "metadata": {},
   "source": [
    "All column names and values within the rows are now lowercase and without spaces. \n",
    "\n",
    "The last step is to change the DType for `form` and `type` to categorical"
   ]
  },
  {
   "cell_type": "code",
   "execution_count": 13,
   "id": "d57adabd",
   "metadata": {},
   "outputs": [
    {
     "name": "stdout",
     "output_type": "stream",
     "text": [
      "Number of unique values for column type: 4\n",
      "<class 'pandas.core.frame.DataFrame'>\n",
      "RangeIndex: 2000 entries, 0 to 1999\n",
      "Data columns (total 3 columns):\n",
      " #   Column  Non-Null Count  Dtype   \n",
      "---  ------  --------------  -----   \n",
      " 0   id      2000 non-null   int64   \n",
      " 1   type    2000 non-null   category\n",
      " 2   file    2000 non-null   object  \n",
      "dtypes: category(1), int64(1), object(1)\n",
      "memory usage: 33.5+ KB\n"
     ]
    }
   ],
   "source": [
    "categorical_cols = ['type']\n",
    "\n",
    "for col in categorical_cols:\n",
    "    df[col] = df[col].astype('category')\n",
    "    print(f\"Number of unique values for column {col}: {df[col].nunique()}\")\n",
    "\n",
    "df.info()"
   ]
  },
  {
   "cell_type": "markdown",
   "id": "5a8313e8",
   "metadata": {},
   "source": [
    "## Construct Data\n",
    "\n",
    "From the `file` column an `image_path` column can be created to load the images at the moment they are needed from the central storage"
   ]
  },
  {
   "cell_type": "code",
   "execution_count": 14,
   "id": "a5dea234",
   "metadata": {},
   "outputs": [
    {
     "name": "stdout",
     "output_type": "stream",
     "text": [
      "<class 'pandas.core.frame.DataFrame'>\n",
      "RangeIndex: 2000 entries, 0 to 1999\n",
      "Data columns (total 4 columns):\n",
      " #   Column      Non-Null Count  Dtype   \n",
      "---  ------      --------------  -----   \n",
      " 0   id          2000 non-null   int64   \n",
      " 1   type        2000 non-null   category\n",
      " 2   file        2000 non-null   object  \n",
      " 3   image_path  2000 non-null   object  \n",
      "dtypes: category(1), int64(1), object(2)\n",
      "memory usage: 49.2+ KB\n"
     ]
    }
   ],
   "source": [
    "df['image_path'] = df['file'].apply(lambda x: os.path.join(image_dir, x))\n",
    "df.info()"
   ]
  },
  {
   "cell_type": "markdown",
   "id": "2a31e77e",
   "metadata": {},
   "source": [
    "The file column will be dropped as to not have duplicate information"
   ]
  },
  {
   "cell_type": "code",
   "execution_count": 15,
   "id": "fa2629cb",
   "metadata": {},
   "outputs": [],
   "source": [
    "df = df.drop('file', axis=1)"
   ]
  },
  {
   "cell_type": "code",
   "execution_count": 16,
   "id": "0d1d387c",
   "metadata": {},
   "outputs": [
    {
     "name": "stdout",
     "output_type": "stream",
     "text": [
      "All paths in 'image_path' exist and are correctly formatted.\n"
     ]
    }
   ],
   "source": [
    "def check_df_image_path(df, image_path_col):\n",
    "# Check if image paths exist and are valid\n",
    "    if image_path_col in df.columns:\n",
    "        missing_paths = df[~df[image_path_col].dropna().apply(os.path.exists)]\n",
    "        if not missing_paths.empty:\n",
    "            raise ValueError(\n",
    "                f\"Some paths in '{image_path_col}' do not exist. Example(s):\\n{missing_paths[image_path_col].head()}\"\n",
    "            )\n",
    "        print(f\"All paths in '{image_path_col}' exist and are correctly formatted.\")\n",
    "    else:\n",
    "        print(f\"Column '{image_path_col}' not found in DataFrame.\")\n",
    "\n",
    "\n",
    "check_df_image_path(df=df, image_path_col='image_path')"
   ]
  },
  {
   "cell_type": "markdown",
   "id": "de6547d1",
   "metadata": {},
   "source": [
    "From the EDA it is known that 2 rows did not have an image available. With the above check it is confirmed that those images are not part of this subset."
   ]
  },
  {
   "cell_type": "markdown",
   "id": "e8571392",
   "metadata": {},
   "source": [
    "## Integrate Data\n",
    "\n",
    "During this iteration there is no;\n",
    "- merging or external tables\n",
    "- no aggregating or grouping\n",
    "- no joins"
   ]
  },
  {
   "cell_type": "markdown",
   "id": "3e71235d",
   "metadata": {},
   "source": [
    "## Format Data\n",
    "\n",
    "Here the dataset is finalized for modeling by performing the following:\n",
    "\n",
    "- One-hot encoding of categorical variables (`type`) for compatibility with machine learning models\n",
    "- Shuffling the dataframe to avoid ordering bias during training and validation splits\n",
    "- Documenting image resizing to ensure compatibility with CNN models"
   ]
  },
  {
   "cell_type": "code",
   "execution_count": 17,
   "id": "6a970b68",
   "metadata": {},
   "outputs": [
    {
     "data": {
      "text/html": [
       "<div>\n",
       "<style scoped>\n",
       "    .dataframe tbody tr th:only-of-type {\n",
       "        vertical-align: middle;\n",
       "    }\n",
       "\n",
       "    .dataframe tbody tr th {\n",
       "        vertical-align: top;\n",
       "    }\n",
       "\n",
       "    .dataframe thead th {\n",
       "        text-align: right;\n",
       "    }\n",
       "</style>\n",
       "<table border=\"1\" class=\"dataframe\">\n",
       "  <thead>\n",
       "    <tr style=\"text-align: right;\">\n",
       "      <th></th>\n",
       "      <th>id</th>\n",
       "      <th>image_path</th>\n",
       "      <th>type_landscape</th>\n",
       "      <th>type_mythological</th>\n",
       "      <th>type_portrait</th>\n",
       "      <th>type_religious</th>\n",
       "    </tr>\n",
       "  </thead>\n",
       "  <tbody>\n",
       "    <tr>\n",
       "      <th>1860</th>\n",
       "      <td>10448</td>\n",
       "      <td>../data/toy_dataset/10448.jpg</td>\n",
       "      <td>False</td>\n",
       "      <td>False</td>\n",
       "      <td>False</td>\n",
       "      <td>True</td>\n",
       "    </tr>\n",
       "    <tr>\n",
       "      <th>353</th>\n",
       "      <td>35713</td>\n",
       "      <td>../data/toy_dataset/35713.jpg</td>\n",
       "      <td>False</td>\n",
       "      <td>False</td>\n",
       "      <td>False</td>\n",
       "      <td>True</td>\n",
       "    </tr>\n",
       "    <tr>\n",
       "      <th>1333</th>\n",
       "      <td>8843</td>\n",
       "      <td>../data/toy_dataset/8843.jpg</td>\n",
       "      <td>False</td>\n",
       "      <td>True</td>\n",
       "      <td>False</td>\n",
       "      <td>False</td>\n",
       "    </tr>\n",
       "  </tbody>\n",
       "</table>\n",
       "</div>"
      ],
      "text/plain": [
       "         id                     image_path  type_landscape  type_mythological  \\\n",
       "1860  10448  ../data/toy_dataset/10448.jpg           False              False   \n",
       "353   35713  ../data/toy_dataset/35713.jpg           False              False   \n",
       "1333   8843   ../data/toy_dataset/8843.jpg           False               True   \n",
       "\n",
       "      type_portrait  type_religious  \n",
       "1860          False            True  \n",
       "353           False            True  \n",
       "1333          False           False  "
      ]
     },
     "execution_count": 17,
     "metadata": {},
     "output_type": "execute_result"
    }
   ],
   "source": [
    "# one hot encoding\n",
    "df_encoded = pd.get_dummies(df, columns=['type'])\n",
    "\n",
    "# Shuffle\n",
    "df_encoded = df_encoded.sample(frac=1, random_state=SEED).reset_index(drop=True)\n",
    "\n",
    "df_encoded.sample(n=3, random_state=SEED)"
   ]
  },
  {
   "cell_type": "markdown",
   "id": "9bef10d1",
   "metadata": {},
   "source": [
    "**Image REsizing**\n",
    "\n",
    "For compatibility with CNNs all images must be standardized to a fixed size. This is currently not the case as seen in the EDA\n",
    "\n",
    "To maximize flexibility and avoid unnecessary disk usage images will be resized on the fly during model training and inference. No image files will be modified or overwritten during the data preparation\n",
    "\n",
    "The image resizing function will be defined and applied as part of the pipeline in the modeling phase"
   ]
  },
  {
   "cell_type": "code",
   "execution_count": 18,
   "id": "3031e1b8",
   "metadata": {},
   "outputs": [
    {
     "name": "stdout",
     "output_type": "stream",
     "text": [
      "<class 'pandas.core.frame.DataFrame'>\n",
      "RangeIndex: 2000 entries, 0 to 1999\n",
      "Data columns (total 6 columns):\n",
      " #   Column             Non-Null Count  Dtype \n",
      "---  ------             --------------  ----- \n",
      " 0   id                 2000 non-null   int64 \n",
      " 1   image_path         2000 non-null   object\n",
      " 2   type_landscape     2000 non-null   bool  \n",
      " 3   type_mythological  2000 non-null   bool  \n",
      " 4   type_portrait      2000 non-null   bool  \n",
      " 5   type_religious     2000 non-null   bool  \n",
      "dtypes: bool(4), int64(1), object(1)\n",
      "memory usage: 39.2+ KB\n"
     ]
    }
   ],
   "source": [
    "df_encoded.info()"
   ]
  },
  {
   "cell_type": "markdown",
   "id": "041c99a0",
   "metadata": {},
   "source": [
    "# Saving the dataframe"
   ]
  },
  {
   "cell_type": "code",
   "execution_count": 19,
   "id": "ef897388",
   "metadata": {},
   "outputs": [
    {
     "name": "stdout",
     "output_type": "stream",
     "text": [
      "DataFrame successfully saved to ../data/processed/prepared_art500k_subset_paintings.pkl\n"
     ]
    }
   ],
   "source": [
    "output_dir = \"../data/processed/\"\n",
    "os.makedirs(output_dir, exist_ok=True)\n",
    "\n",
    "pkl_path = os.path.join(output_dir, \"prepared_art500k_subset_paintings.pkl\")\n",
    "df_encoded.to_pickle(pkl_path)\n",
    "\n",
    "print(f\"DataFrame successfully saved to {pkl_path}\")"
   ]
  },
  {
   "cell_type": "code",
   "execution_count": null,
   "id": "18b9c652",
   "metadata": {},
   "outputs": [],
   "source": []
  }
 ],
 "metadata": {
  "kernelspec": {
   "display_name": "Python 3",
   "language": "python",
   "name": "python3"
  },
  "language_info": {
   "codemirror_mode": {
    "name": "ipython",
    "version": 3
   },
   "file_extension": ".py",
   "mimetype": "text/x-python",
   "name": "python",
   "nbconvert_exporter": "python",
   "pygments_lexer": "ipython3",
   "version": "3.11.9"
  }
 },
 "nbformat": 4,
 "nbformat_minor": 5
}
