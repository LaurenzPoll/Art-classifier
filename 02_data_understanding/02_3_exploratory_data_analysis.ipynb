{
 "cells": [
  {
   "cell_type": "markdown",
   "id": "beabcd29",
   "metadata": {},
   "source": [
    "# Exploratory Data Analysis (EDA)\n",
    "Within the crisp-dm framework this can be seen as `Explore data`"
   ]
  },
  {
   "cell_type": "markdown",
   "id": "67a94272",
   "metadata": {},
   "source": [
    "## Overview\n",
    "This EDA aims to provide a comprehensive first look at the ART500K Toy Dataset, assessing its structure, basic statistics, distributions, relationships, potential data quality issues, and initial implications for downstream modeling. All findings here will inform both the data preparation phase and modeling choices."
   ]
  },
  {
   "cell_type": "markdown",
   "id": "92793e7e",
   "metadata": {},
   "source": [
    "## Loading packages"
   ]
  },
  {
   "cell_type": "code",
   "execution_count": 2,
   "id": "a4189a3c",
   "metadata": {},
   "outputs": [],
   "source": [
    "import pandas as pd\n",
    "import os\n",
    "\n",
    "SEED=42"
   ]
  },
  {
   "cell_type": "markdown",
   "id": "729a7b00",
   "metadata": {},
   "source": [
    "## Importing data"
   ]
  },
  {
   "cell_type": "code",
   "execution_count": 3,
   "id": "b07f7e55",
   "metadata": {},
   "outputs": [
    {
     "name": "stdout",
     "output_type": "stream",
     "text": [
      "<class 'pandas.core.frame.DataFrame'>\n",
      "RangeIndex: 43455 entries, 0 to 43454\n",
      "Data columns (total 13 columns):\n",
      " #   Column     Non-Null Count  Dtype \n",
      "---  ------     --------------  ----- \n",
      " 0   ID         43455 non-null  int64 \n",
      " 1   FILE       43454 non-null  object\n",
      " 2   AUTHOR     43455 non-null  object\n",
      " 3   BORN-DIED  43455 non-null  object\n",
      " 4   TITLE      43455 non-null  object\n",
      " 5   DATE       43455 non-null  object\n",
      " 6   TECHNIQUE  43455 non-null  object\n",
      " 7   LOCATION   43455 non-null  object\n",
      " 8   FORM       43455 non-null  object\n",
      " 9   TYPE       43455 non-null  object\n",
      " 10  SCHOOL     43455 non-null  object\n",
      " 11  TIMELINE   43455 non-null  object\n",
      " 12  URL        43455 non-null  object\n",
      "dtypes: int64(1), object(12)\n",
      "memory usage: 4.3+ MB\n"
     ]
    }
   ],
   "source": [
    "image_dir = '../data/toy_dataset/'\n",
    "\n",
    "labels_path = '../data/toy_dataset_label.csv'\n",
    "\n",
    "df = pd.read_csv(labels_path, sep='\\t')\n",
    "df.info()"
   ]
  },
  {
   "cell_type": "code",
   "execution_count": 4,
   "id": "b7ba8a54",
   "metadata": {},
   "outputs": [
    {
     "data": {
      "text/html": [
       "<div>\n",
       "<style scoped>\n",
       "    .dataframe tbody tr th:only-of-type {\n",
       "        vertical-align: middle;\n",
       "    }\n",
       "\n",
       "    .dataframe tbody tr th {\n",
       "        vertical-align: top;\n",
       "    }\n",
       "\n",
       "    .dataframe thead th {\n",
       "        text-align: right;\n",
       "    }\n",
       "</style>\n",
       "<table border=\"1\" class=\"dataframe\">\n",
       "  <thead>\n",
       "    <tr style=\"text-align: right;\">\n",
       "      <th></th>\n",
       "      <th>ID</th>\n",
       "      <th>FILE</th>\n",
       "      <th>AUTHOR</th>\n",
       "      <th>BORN-DIED</th>\n",
       "      <th>TITLE</th>\n",
       "      <th>DATE</th>\n",
       "      <th>TECHNIQUE</th>\n",
       "      <th>LOCATION</th>\n",
       "      <th>FORM</th>\n",
       "      <th>TYPE</th>\n",
       "      <th>SCHOOL</th>\n",
       "      <th>TIMELINE</th>\n",
       "      <th>URL</th>\n",
       "    </tr>\n",
       "  </thead>\n",
       "  <tbody>\n",
       "    <tr>\n",
       "      <th>31808</th>\n",
       "      <td>31809</td>\n",
       "      <td>31809.jpg</td>\n",
       "      <td>RAFFAELLO Sanzio</td>\n",
       "      <td>(b. 1483, Urbino, d. 1520, Roma)</td>\n",
       "      <td>The Parnassus</td>\n",
       "      <td>1509-10</td>\n",
       "      <td>Fresco, width at base 670 cm</td>\n",
       "      <td>Stanza della Segnatura, Palazzi Pontifici, Vat...</td>\n",
       "      <td>painting</td>\n",
       "      <td>mythological</td>\n",
       "      <td>Italian</td>\n",
       "      <td>1501-1550</td>\n",
       "      <td>http://www.wga.hu/html/r/raphael/4stanze/1segn...</td>\n",
       "    </tr>\n",
       "    <tr>\n",
       "      <th>798</th>\n",
       "      <td>799</td>\n",
       "      <td>799.jpg</td>\n",
       "      <td>ANGELICO, Fra</td>\n",
       "      <td>(b. ca. 1400, Vicchio nell Mugello, d. 1455, R...</td>\n",
       "      <td>Annunciation (Cell 3)</td>\n",
       "      <td>1440-42</td>\n",
       "      <td>Fresco, 176 x 148 cm</td>\n",
       "      <td>Convento di San Marco, Florence</td>\n",
       "      <td>painting</td>\n",
       "      <td>religious</td>\n",
       "      <td>Italian</td>\n",
       "      <td>1401-1450</td>\n",
       "      <td>http://www.wga.hu/html/a/angelico/09/cells/03_...</td>\n",
       "    </tr>\n",
       "    <tr>\n",
       "      <th>23971</th>\n",
       "      <td>23972</td>\n",
       "      <td>23972.jpg</td>\n",
       "      <td>MASTER of Saint Veronica</td>\n",
       "      <td>(active 1400-1420 in Cologne)</td>\n",
       "      <td>Triptych (open)</td>\n",
       "      <td>c. 1410</td>\n",
       "      <td>Panel, 70 x 32,5 cm (centre), 70 x 16 cm (each...</td>\n",
       "      <td>Heinz Kisters Collection, Kreuzlingen</td>\n",
       "      <td>painting</td>\n",
       "      <td>religious</td>\n",
       "      <td>German</td>\n",
       "      <td>1401-1450</td>\n",
       "      <td>http://www.wga.hu/html/m/master/veronica/tript...</td>\n",
       "    </tr>\n",
       "  </tbody>\n",
       "</table>\n",
       "</div>"
      ],
      "text/plain": [
       "          ID       FILE                    AUTHOR  \\\n",
       "31808  31809  31809.jpg          RAFFAELLO Sanzio   \n",
       "798      799    799.jpg             ANGELICO, Fra   \n",
       "23971  23972  23972.jpg  MASTER of Saint Veronica   \n",
       "\n",
       "                                               BORN-DIED  \\\n",
       "31808                   (b. 1483, Urbino, d. 1520, Roma)   \n",
       "798    (b. ca. 1400, Vicchio nell Mugello, d. 1455, R...   \n",
       "23971                      (active 1400-1420 in Cologne)   \n",
       "\n",
       "                       TITLE     DATE  \\\n",
       "31808          The Parnassus  1509-10   \n",
       "798    Annunciation (Cell 3)  1440-42   \n",
       "23971        Triptych (open)  c. 1410   \n",
       "\n",
       "                                               TECHNIQUE  \\\n",
       "31808                       Fresco, width at base 670 cm   \n",
       "798                                 Fresco, 176 x 148 cm   \n",
       "23971  Panel, 70 x 32,5 cm (centre), 70 x 16 cm (each...   \n",
       "\n",
       "                                                LOCATION      FORM  \\\n",
       "31808  Stanza della Segnatura, Palazzi Pontifici, Vat...  painting   \n",
       "798                      Convento di San Marco, Florence  painting   \n",
       "23971              Heinz Kisters Collection, Kreuzlingen  painting   \n",
       "\n",
       "               TYPE   SCHOOL   TIMELINE  \\\n",
       "31808  mythological  Italian  1501-1550   \n",
       "798       religious  Italian  1401-1450   \n",
       "23971     religious   German  1401-1450   \n",
       "\n",
       "                                                     URL  \n",
       "31808  http://www.wga.hu/html/r/raphael/4stanze/1segn...  \n",
       "798    http://www.wga.hu/html/a/angelico/09/cells/03_...  \n",
       "23971  http://www.wga.hu/html/m/master/veronica/tript...  "
      ]
     },
     "execution_count": 4,
     "metadata": {},
     "output_type": "execute_result"
    }
   ],
   "source": [
    "df.sample(n=3)"
   ]
  },
  {
   "cell_type": "code",
   "execution_count": 3,
   "id": "1e9d4fdc",
   "metadata": {},
   "outputs": [
    {
     "data": {
      "text/plain": [
       "ID           0\n",
       "FILE         1\n",
       "AUTHOR       0\n",
       "BORN-DIED    0\n",
       "TITLE        0\n",
       "DATE         0\n",
       "TECHNIQUE    0\n",
       "LOCATION     0\n",
       "FORM         0\n",
       "TYPE         0\n",
       "SCHOOL       0\n",
       "TIMELINE     0\n",
       "URL          0\n",
       "dtype: int64"
      ]
     },
     "execution_count": 3,
     "metadata": {},
     "output_type": "execute_result"
    }
   ],
   "source": [
    "df.isnull().sum()"
   ]
  },
  {
   "cell_type": "markdown",
   "id": "d5c2d61e",
   "metadata": {},
   "source": [
    "The csv is loaded into the dataframe with the correct count of rows except for the FILE row. This is missing one value.\n",
    "Due to time constraint this row will be dropped for this iteration"
   ]
  },
  {
   "cell_type": "code",
   "execution_count": 5,
   "id": "e884d530",
   "metadata": {},
   "outputs": [],
   "source": [
    "df = df.dropna(subset=['FILE'])"
   ]
  },
  {
   "cell_type": "markdown",
   "id": "67ce9b92",
   "metadata": {},
   "source": [
    "The columns match the stated columns in `/02_describe_data.md`\n",
    "\n",
    "The image path will be added to the dataframe to easily load images when needed"
   ]
  },
  {
   "cell_type": "code",
   "execution_count": 5,
   "id": "c516b51d",
   "metadata": {},
   "outputs": [
    {
     "name": "stdout",
     "output_type": "stream",
     "text": [
      "Number of missing image files: 2\n"
     ]
    }
   ],
   "source": [
    "df['IMAGE_PATH'] = df['FILE'].apply(lambda x: os.path.join(image_dir, x))\n",
    "\n",
    "missing_images = df[~df['IMAGE_PATH'].apply(os.path.exists)]\n",
    "print(f\"Number of missing image files: {len(missing_images)}\")"
   ]
  },
  {
   "cell_type": "code",
   "execution_count": 6,
   "id": "2cb033e5",
   "metadata": {},
   "outputs": [
    {
     "data": {
      "text/html": [
       "<div>\n",
       "<style scoped>\n",
       "    .dataframe tbody tr th:only-of-type {\n",
       "        vertical-align: middle;\n",
       "    }\n",
       "\n",
       "    .dataframe tbody tr th {\n",
       "        vertical-align: top;\n",
       "    }\n",
       "\n",
       "    .dataframe thead th {\n",
       "        text-align: right;\n",
       "    }\n",
       "</style>\n",
       "<table border=\"1\" class=\"dataframe\">\n",
       "  <thead>\n",
       "    <tr style=\"text-align: right;\">\n",
       "      <th></th>\n",
       "      <th>ID</th>\n",
       "      <th>FILE</th>\n",
       "      <th>AUTHOR</th>\n",
       "      <th>BORN-DIED</th>\n",
       "      <th>TITLE</th>\n",
       "      <th>DATE</th>\n",
       "      <th>TECHNIQUE</th>\n",
       "      <th>LOCATION</th>\n",
       "      <th>FORM</th>\n",
       "      <th>TYPE</th>\n",
       "      <th>SCHOOL</th>\n",
       "      <th>TIMELINE</th>\n",
       "      <th>URL</th>\n",
       "      <th>IMAGE_PATH</th>\n",
       "    </tr>\n",
       "  </thead>\n",
       "  <tbody>\n",
       "    <tr>\n",
       "      <th>19561</th>\n",
       "      <td>19562</td>\n",
       "      <td>19562.jpg</td>\n",
       "      <td>HUNT, William Holman</td>\n",
       "      <td>(b. 1827, London, d. 1910, London)</td>\n",
       "      <td>The Lady of Shalott (detail)</td>\n",
       "      <td>1886-1905</td>\n",
       "      <td>Oil on canvas</td>\n",
       "      <td>Wadsworth Atheneum, Hartford</td>\n",
       "      <td>painting</td>\n",
       "      <td>other</td>\n",
       "      <td>English</td>\n",
       "      <td>1801-1850</td>\n",
       "      <td>http://www.wga.hu/html/h/hunt/y_lady183c.html</td>\n",
       "      <td>../data/toy_dataset/19562.jpg</td>\n",
       "    </tr>\n",
       "    <tr>\n",
       "      <th>21911</th>\n",
       "      <td>21912</td>\n",
       "      <td>21912.jpg</td>\n",
       "      <td>LISSE, Dirck van der</td>\n",
       "      <td>(b. 1607, Breda, d. 1669, Den Haag)</td>\n",
       "      <td>Landscape with Diana and Actaeon</td>\n",
       "      <td>-</td>\n",
       "      <td>Oil on panel, 35 x 47 cm</td>\n",
       "      <td>Private collection</td>\n",
       "      <td>painting</td>\n",
       "      <td>landscape</td>\n",
       "      <td>Dutch</td>\n",
       "      <td>1601-1650</td>\n",
       "      <td>http://www.wga.hu/html/l/lisse/lisse_c.html</td>\n",
       "      <td>../data/toy_dataset/21912.jpg</td>\n",
       "    </tr>\n",
       "  </tbody>\n",
       "</table>\n",
       "</div>"
      ],
      "text/plain": [
       "          ID       FILE                AUTHOR  \\\n",
       "19561  19562  19562.jpg  HUNT, William Holman   \n",
       "21911  21912  21912.jpg  LISSE, Dirck van der   \n",
       "\n",
       "                                 BORN-DIED                             TITLE  \\\n",
       "19561   (b. 1827, London, d. 1910, London)      The Lady of Shalott (detail)   \n",
       "21911  (b. 1607, Breda, d. 1669, Den Haag)  Landscape with Diana and Actaeon   \n",
       "\n",
       "            DATE                 TECHNIQUE                      LOCATION  \\\n",
       "19561  1886-1905             Oil on canvas  Wadsworth Atheneum, Hartford   \n",
       "21911          -  Oil on panel, 35 x 47 cm            Private collection   \n",
       "\n",
       "           FORM       TYPE   SCHOOL   TIMELINE  \\\n",
       "19561  painting      other  English  1801-1850   \n",
       "21911  painting  landscape    Dutch  1601-1650   \n",
       "\n",
       "                                                 URL  \\\n",
       "19561  http://www.wga.hu/html/h/hunt/y_lady183c.html   \n",
       "21911    http://www.wga.hu/html/l/lisse/lisse_c.html   \n",
       "\n",
       "                          IMAGE_PATH  \n",
       "19561  ../data/toy_dataset/19562.jpg  \n",
       "21911  ../data/toy_dataset/21912.jpg  "
      ]
     },
     "metadata": {},
     "output_type": "display_data"
    },
    {
     "name": "stdout",
     "output_type": "stream",
     "text": [
      "None\n"
     ]
    }
   ],
   "source": [
    "print(display(missing_images))"
   ]
  },
  {
   "cell_type": "code",
   "execution_count": 7,
   "id": "9f47274f",
   "metadata": {},
   "outputs": [],
   "source": [
    "df = df.drop(missing_images.index).reset_index(drop=True)"
   ]
  },
  {
   "cell_type": "markdown",
   "id": "4eda2da3",
   "metadata": {},
   "source": [
    "These two rows do not exist in the toy_dataset folder. After a manual check this is confirmed twice. These two rows will be dropped from the dataframe due to time contraint"
   ]
  },
  {
   "cell_type": "markdown",
   "id": "52a694cb",
   "metadata": {},
   "source": [
    "## Data completeness and types\n",
    "In the following code blocks there will be a check on how complete the data is and what is consists of and if the types need to be refined"
   ]
  },
  {
   "cell_type": "code",
   "execution_count": 8,
   "id": "84d31081",
   "metadata": {},
   "outputs": [
    {
     "data": {
      "text/html": [
       "<div>\n",
       "<style scoped>\n",
       "    .dataframe tbody tr th:only-of-type {\n",
       "        vertical-align: middle;\n",
       "    }\n",
       "\n",
       "    .dataframe tbody tr th {\n",
       "        vertical-align: top;\n",
       "    }\n",
       "\n",
       "    .dataframe thead th {\n",
       "        text-align: right;\n",
       "    }\n",
       "</style>\n",
       "<table border=\"1\" class=\"dataframe\">\n",
       "  <thead>\n",
       "    <tr style=\"text-align: right;\">\n",
       "      <th></th>\n",
       "      <th>ID</th>\n",
       "      <th>FILE</th>\n",
       "      <th>AUTHOR</th>\n",
       "      <th>BORN-DIED</th>\n",
       "      <th>TITLE</th>\n",
       "      <th>DATE</th>\n",
       "      <th>TECHNIQUE</th>\n",
       "      <th>LOCATION</th>\n",
       "      <th>FORM</th>\n",
       "      <th>TYPE</th>\n",
       "      <th>SCHOOL</th>\n",
       "      <th>TIMELINE</th>\n",
       "      <th>URL</th>\n",
       "      <th>IMAGE_PATH</th>\n",
       "    </tr>\n",
       "  </thead>\n",
       "  <tbody>\n",
       "    <tr>\n",
       "      <th>36197</th>\n",
       "      <td>36200</td>\n",
       "      <td>36200.jpg</td>\n",
       "      <td>SISLEY, Alfred</td>\n",
       "      <td>(b. 1839, Paris, d. 1899, Moret-sur-Loing)</td>\n",
       "      <td>Saint-Martin Canal in Paris</td>\n",
       "      <td>1870</td>\n",
       "      <td>Oil on canvas, 55 x 73 cm</td>\n",
       "      <td>Oskar Reinhart Collection, Winterthur</td>\n",
       "      <td>painting</td>\n",
       "      <td>landscape</td>\n",
       "      <td>French</td>\n",
       "      <td>1851-1900</td>\n",
       "      <td>http://www.wga.hu/html/s/sisley/2other/paris1....</td>\n",
       "      <td>../data/toy_dataset/36200.jpg</td>\n",
       "    </tr>\n",
       "    <tr>\n",
       "      <th>32360</th>\n",
       "      <td>32363</td>\n",
       "      <td>32363.jpg</td>\n",
       "      <td>REMBRANDT Harmenszoon van Rijn</td>\n",
       "      <td>(b. 1606, Leiden, d. 1669, Amsterdam)</td>\n",
       "      <td>The Denial of Peter (detail)</td>\n",
       "      <td>1660</td>\n",
       "      <td>Oil on canvas</td>\n",
       "      <td>Rijksmuseum, Amsterdam</td>\n",
       "      <td>painting</td>\n",
       "      <td>religious</td>\n",
       "      <td>Dutch</td>\n",
       "      <td>1601-1650</td>\n",
       "      <td>http://www.wga.hu/html/r/rembrand/14biblic/63n...</td>\n",
       "      <td>../data/toy_dataset/32363.jpg</td>\n",
       "    </tr>\n",
       "    <tr>\n",
       "      <th>30621</th>\n",
       "      <td>30624</td>\n",
       "      <td>30624.jpg</td>\n",
       "      <td>PISANO, Nicola</td>\n",
       "      <td>(active 1258-1278)</td>\n",
       "      <td>Adoration of the Magi</td>\n",
       "      <td>1260</td>\n",
       "      <td>Marble, 85 x 113 cm</td>\n",
       "      <td>Baptistry, Pisa</td>\n",
       "      <td>sculpture</td>\n",
       "      <td>religious</td>\n",
       "      <td>Italian</td>\n",
       "      <td>1251-1300</td>\n",
       "      <td>http://www.wga.hu/html/p/pisano/nicola/1pisa_2...</td>\n",
       "      <td>../data/toy_dataset/30624.jpg</td>\n",
       "    </tr>\n",
       "    <tr>\n",
       "      <th>23890</th>\n",
       "      <td>23893</td>\n",
       "      <td>23893.jpg</td>\n",
       "      <td>MASTER of Flémalle</td>\n",
       "      <td>(b. ca. 1375, Valenciennes, d. 1444, Tournai)</td>\n",
       "      <td>St Veronica</td>\n",
       "      <td>c. 1410</td>\n",
       "      <td>Oil on wood, 151,5 x 61 cm</td>\n",
       "      <td>Städelsches Kunstinstitut, Frankfurt</td>\n",
       "      <td>painting</td>\n",
       "      <td>religious</td>\n",
       "      <td>Flemish</td>\n",
       "      <td>1401-1450</td>\n",
       "      <td>http://www.wga.hu/html/m/master/flemalle/tript...</td>\n",
       "      <td>../data/toy_dataset/23893.jpg</td>\n",
       "    </tr>\n",
       "    <tr>\n",
       "      <th>14258</th>\n",
       "      <td>14259</td>\n",
       "      <td>14259.jpg</td>\n",
       "      <td>GASPARE DA PADOVA</td>\n",
       "      <td>(active 1466-1517 in Rome)</td>\n",
       "      <td>Caesar: Commentaries</td>\n",
       "      <td>1490s</td>\n",
       "      <td>Manuscript (Ms. 453)</td>\n",
       "      <td>Biblioteca Casanatense, Rome</td>\n",
       "      <td>illumination</td>\n",
       "      <td>other</td>\n",
       "      <td>Italian</td>\n",
       "      <td>1451-1500</td>\n",
       "      <td>http://www.wga.hu/html/g/gaspare/caesar.html</td>\n",
       "      <td>../data/toy_dataset/14259.jpg</td>\n",
       "    </tr>\n",
       "    <tr>\n",
       "      <th>35877</th>\n",
       "      <td>35880</td>\n",
       "      <td>35880.jpg</td>\n",
       "      <td>SIGNORELLI, Luca</td>\n",
       "      <td>(b. ca. 1450, Cortona, d. 1523, Cortona)</td>\n",
       "      <td>Resurrection of the Flesh (detail)</td>\n",
       "      <td>1499-1502</td>\n",
       "      <td>Fresco</td>\n",
       "      <td>Chapel of San Brizio, Duomo, Orvieto</td>\n",
       "      <td>painting</td>\n",
       "      <td>religious</td>\n",
       "      <td>Italian</td>\n",
       "      <td>1451-1500</td>\n",
       "      <td>http://www.wga.hu/html/s/signorel/brizio/2/3re...</td>\n",
       "      <td>../data/toy_dataset/35880.jpg</td>\n",
       "    </tr>\n",
       "  </tbody>\n",
       "</table>\n",
       "</div>"
      ],
      "text/plain": [
       "          ID       FILE                          AUTHOR  \\\n",
       "36197  36200  36200.jpg                  SISLEY, Alfred   \n",
       "32360  32363  32363.jpg  REMBRANDT Harmenszoon van Rijn   \n",
       "30621  30624  30624.jpg                  PISANO, Nicola   \n",
       "23890  23893  23893.jpg              MASTER of Flémalle   \n",
       "14258  14259  14259.jpg               GASPARE DA PADOVA   \n",
       "35877  35880  35880.jpg                SIGNORELLI, Luca   \n",
       "\n",
       "                                           BORN-DIED  \\\n",
       "36197     (b. 1839, Paris, d. 1899, Moret-sur-Loing)   \n",
       "32360          (b. 1606, Leiden, d. 1669, Amsterdam)   \n",
       "30621                             (active 1258-1278)   \n",
       "23890  (b. ca. 1375, Valenciennes, d. 1444, Tournai)   \n",
       "14258                     (active 1466-1517 in Rome)   \n",
       "35877       (b. ca. 1450, Cortona, d. 1523, Cortona)   \n",
       "\n",
       "                                    TITLE       DATE  \\\n",
       "36197         Saint-Martin Canal in Paris       1870   \n",
       "32360        The Denial of Peter (detail)       1660   \n",
       "30621               Adoration of the Magi       1260   \n",
       "23890                         St Veronica    c. 1410   \n",
       "14258                Caesar: Commentaries      1490s   \n",
       "35877  Resurrection of the Flesh (detail)  1499-1502   \n",
       "\n",
       "                        TECHNIQUE                               LOCATION  \\\n",
       "36197   Oil on canvas, 55 x 73 cm  Oskar Reinhart Collection, Winterthur   \n",
       "32360               Oil on canvas                 Rijksmuseum, Amsterdam   \n",
       "30621         Marble, 85 x 113 cm                        Baptistry, Pisa   \n",
       "23890  Oil on wood, 151,5 x 61 cm   Städelsches Kunstinstitut, Frankfurt   \n",
       "14258        Manuscript (Ms. 453)           Biblioteca Casanatense, Rome   \n",
       "35877                      Fresco   Chapel of San Brizio, Duomo, Orvieto   \n",
       "\n",
       "               FORM       TYPE   SCHOOL   TIMELINE  \\\n",
       "36197      painting  landscape   French  1851-1900   \n",
       "32360      painting  religious    Dutch  1601-1650   \n",
       "30621     sculpture  religious  Italian  1251-1300   \n",
       "23890      painting  religious  Flemish  1401-1450   \n",
       "14258  illumination      other  Italian  1451-1500   \n",
       "35877      painting  religious  Italian  1451-1500   \n",
       "\n",
       "                                                     URL  \\\n",
       "36197  http://www.wga.hu/html/s/sisley/2other/paris1....   \n",
       "32360  http://www.wga.hu/html/r/rembrand/14biblic/63n...   \n",
       "30621  http://www.wga.hu/html/p/pisano/nicola/1pisa_2...   \n",
       "23890  http://www.wga.hu/html/m/master/flemalle/tript...   \n",
       "14258       http://www.wga.hu/html/g/gaspare/caesar.html   \n",
       "35877  http://www.wga.hu/html/s/signorel/brizio/2/3re...   \n",
       "\n",
       "                          IMAGE_PATH  \n",
       "36197  ../data/toy_dataset/36200.jpg  \n",
       "32360  ../data/toy_dataset/32363.jpg  \n",
       "30621  ../data/toy_dataset/30624.jpg  \n",
       "23890  ../data/toy_dataset/23893.jpg  \n",
       "14258  ../data/toy_dataset/14259.jpg  \n",
       "35877  ../data/toy_dataset/35880.jpg  "
      ]
     },
     "execution_count": 8,
     "metadata": {},
     "output_type": "execute_result"
    }
   ],
   "source": [
    "df.sample(n=6)"
   ]
  },
  {
   "cell_type": "markdown",
   "id": "fd75675b",
   "metadata": {},
   "source": [
    "With this sample there is a good sense of how the data looks like, the column ID clearly shows integers and is not expected to deviate. The FILE, AUTHOR, TITLE are good as string(object) types\n",
    "\n",
    "now the unique values for the rows will be printed together with a percentage of how unique they are to find categorical types"
   ]
  },
  {
   "cell_type": "code",
   "execution_count": 9,
   "id": "9d687b0f",
   "metadata": {},
   "outputs": [
    {
     "name": "stdout",
     "output_type": "stream",
     "text": [
      "ID: 43452 unique values (100.00% of 43452)\n",
      "FILE: 43452 unique values (100.00% of 43452)\n",
      "AUTHOR: 4991 unique values (11.49% of 43452)\n",
      "BORN-DIED: 7151 unique values (16.46% of 43452)\n",
      "TITLE: 27090 unique values (62.34% of 43452)\n",
      "DATE: 4958 unique values (11.41% of 43452)\n",
      "TECHNIQUE: 21437 unique values (49.33% of 43452)\n",
      "LOCATION: 4064 unique values (9.35% of 43452)\n",
      "FORM: 13 unique values (0.03% of 43452)\n",
      "TYPE: 10 unique values (0.02% of 43452)\n",
      "SCHOOL: 26 unique values (0.06% of 43452)\n",
      "TIMELINE: 24 unique values (0.06% of 43452)\n",
      "URL: 43452 unique values (100.00% of 43452)\n",
      "IMAGE_PATH: 43452 unique values (100.00% of 43452)\n"
     ]
    }
   ],
   "source": [
    "for col in df.columns:\n",
    "    unique_count = df[col].nunique()\n",
    "    total_count = len(df)\n",
    "    print(f\"{col}: {unique_count} unique values ({unique_count/total_count:.2%} of {total_count})\")"
   ]
  },
  {
   "cell_type": "markdown",
   "id": "20c7446d",
   "metadata": {},
   "source": [
    "The columns `FORM`, `TYPE`, `SCHOOL`, `TIMELINE` and `LOCATION` show they do not occur many times in the dataframe and going from the column name itself it would be logical if these are categories"
   ]
  },
  {
   "cell_type": "code",
   "execution_count": 10,
   "id": "e573c7e4",
   "metadata": {},
   "outputs": [
    {
     "name": "stdout",
     "output_type": "stream",
     "text": [
      "Unique values in FORM before cleaning:\n",
      "['painting' 'ceramics' 'sculpture' 'graphics' 'architecture'\n",
      " 'stained-glass' 'metalwork' 'illumination' 'mosaic' 'others' 'furniture'\n",
      " 'tapestry' 'glassware']\n",
      "\n",
      "\n",
      "Unique values in TYPE before cleaning:\n",
      "['mythological' 'genre' 'portrait' 'landscape' 'religious' 'other'\n",
      " 'historical' 'interior' 'still-life' 'study']\n",
      "\n",
      "\n",
      "Unique values in SCHOOL before cleaning:\n",
      "['German' 'Danish' 'Spanish' 'French' 'Italian' 'Dutch' 'Scottish'\n",
      " 'Flemish' 'Netherlandish' 'Swiss' 'Russian' 'Greek' 'Other' 'American'\n",
      " 'English' 'Austrian' 'Portuguese' 'Bohemian' 'Catalan' 'Hungarian'\n",
      " 'Irish' 'Norwegian' 'Polish' 'Swedish' 'Belgian' 'Finnish']\n",
      "\n",
      "\n",
      "Unique values in TIMELINE before cleaning:\n",
      "['1601-1650' '1851-1900' '1451-1500' '1501-1550' '1751-1800' '1551-1600'\n",
      " '1801-1850' '1701-1750' '1651-1700' '1301-1350' '1401-1450' '1351-1400'\n",
      " '1151-1200' '1251-1300' '1101-1150' '1001-1050' '1201-1250' '1051-1100'\n",
      " '0801-0850' '0751-0800' '0851-0900' '0951-1000' '0701-0750' '0901-0950']\n",
      "\n",
      "\n",
      "Unique values in LOCATION before cleaning:\n",
      "['Alte Pinakothek, Munich' 'Kunsthistorisches Museum, Vienna'\n",
      " 'Private collection' ... 'Monastery, Guadalupe'\n",
      " 'Hospital of Tavera, Toledo' 'Church of St. Nicholas, Überlingen']\n",
      "\n",
      "\n"
     ]
    }
   ],
   "source": [
    "categorical_columns = ['FORM', 'TYPE', 'SCHOOL', 'TIMELINE', 'LOCATION']\n",
    "\n",
    "for col in categorical_columns:\n",
    "    print(f\"Unique values in {col} before cleaning:\")\n",
    "    print(df[col].unique())\n",
    "    print(\"\\n\")"
   ]
  },
  {
   "cell_type": "markdown",
   "id": "9f5e9f9e",
   "metadata": {},
   "source": [
    "All columns are clean without duplicates, `LOCATION` has to be inspected further to check if there are differences in the values that should be the same but are not"
   ]
  },
  {
   "cell_type": "code",
   "execution_count": 11,
   "id": "f7c9f7a4",
   "metadata": {},
   "outputs": [
    {
     "name": "stdout",
     "output_type": "stream",
     "text": [
      "Normalized: 'akademie der bildenden künste, vienna'\n",
      "Variants: {'Akademie der bildenden Künste, Vienna', 'Akademie der Bildenden Künste, Vienna'}\n",
      "\n",
      "Normalized: 'museum boijmans van beuningen, rotterdam'\n",
      "Variants: {'Museum Boijmans van Beuningen, Rotterdam', 'Museum Boijmans Van Beuningen, Rotterdam'}\n",
      "\n",
      "Normalized: 'museum der bildenden künste, leipzig'\n",
      "Variants: {'Museum der bildenden Künste, Leipzig', 'Museum der Bildenden Künste, Leipzig'}\n",
      "\n",
      "Normalized: 'museum of modern art, new york'\n",
      "Variants: {'Museum of Modern Art, new York', 'Museum of Modern Art, New York'}\n",
      "\n",
      "Normalized: 'musée cantonal des beaux-arts, lausanne'\n",
      "Variants: {'Musée cantonal des Beaux-Arts, Lausanne', 'Musée Cantonal des Beaux-Arts, Lausanne'}\n",
      "\n",
      "Normalized: 'musée d'art et d'histoire, geneva'\n",
      "Variants: {\"Musée d'art et d'histoire, Geneva\", \"Musée d'Art et d'Histoire, Geneva\"}\n",
      "\n",
      "Normalized: 'musée des arts décoratifs, paris'\n",
      "Variants: {'Musée des Arts Décoratifs, Paris', 'Musée des Arts décoratifs, Paris'}\n",
      "\n",
      "Normalized: 'musée du louvre, paris'\n",
      "Variants: {'Musée du Louvre, Paris', 'Musée du Louvre, paris'}\n",
      "\n",
      "Normalized: 'musée national du moyen âge, paris'\n",
      "Variants: {'Musée national du Moyen Âge, Paris', 'Musée National du Moyen Âge, Paris'}\n",
      "\n"
     ]
    }
   ],
   "source": [
    "def LOCATION_normalized_against_variants():\n",
    "    locations_normalized = df['LOCATION'].str.lower().str.strip()\n",
    "\n",
    "    # Group original variants by normalized form\n",
    "    groups = df.groupby(locations_normalized)['LOCATION'].apply(list)\n",
    "\n",
    "    # Filter groups with more than one distinct variant\n",
    "    groups_with_variants = groups[groups.apply(lambda x: len(set(x)) > 1)]\n",
    "\n",
    "    # Display the normalized key and its variants\n",
    "    for norm_loc, variants in groups_with_variants.items():\n",
    "        print(f\"Normalized: '{norm_loc}'\")\n",
    "        print(f\"Variants: {set(variants)}\\n\")\n",
    "\n",
    "LOCATION_normalized_against_variants()"
   ]
  },
  {
   "cell_type": "markdown",
   "id": "4e26cbbf",
   "metadata": {},
   "source": [
    "As can be seen above there can be small variations between usage of capital letters. To keep as close as possible to the original place and name of location the most used version will be used as a replacement when there are multiple versions"
   ]
  },
  {
   "cell_type": "code",
   "execution_count": 12,
   "id": "ce8498fb",
   "metadata": {},
   "outputs": [],
   "source": [
    "locations_normalized = df['LOCATION'].str.strip().str.lower()\n",
    "\n",
    "# Group original variants by normalized form\n",
    "groups = df.groupby(locations_normalized)['LOCATION'].apply(list)\n",
    "\n",
    "# Get the most frequent variant (mode) in each group\n",
    "def most_frequent_variant(variants):\n",
    "    return pd.Series(variants).mode()[0]\n",
    "\n",
    "canonical_locations = groups.apply(most_frequent_variant)\n",
    "\n",
    "# Overwrite LOCATION by mapping normalized to canonical variant\n",
    "df['LOCATION'] = locations_normalized.map(canonical_locations)"
   ]
  },
  {
   "cell_type": "code",
   "execution_count": 13,
   "id": "0c63d829",
   "metadata": {},
   "outputs": [],
   "source": [
    "LOCATION_normalized_against_variants()"
   ]
  },
  {
   "cell_type": "markdown",
   "id": "05812c9d",
   "metadata": {},
   "source": [
    "No output for the function"
   ]
  },
  {
   "cell_type": "markdown",
   "id": "43341baf",
   "metadata": {},
   "source": [
    "Now the top 3 values for each categorie will be printed"
   ]
  },
  {
   "cell_type": "code",
   "execution_count": 14,
   "id": "60f6ca47",
   "metadata": {},
   "outputs": [
    {
     "name": "stdout",
     "output_type": "stream",
     "text": [
      "\n",
      "Top 3 values for 'FORM':\n",
      "  1. painting: 30003\n",
      "  2. sculpture: 4766\n",
      "  3. graphics: 3813\n",
      "\n",
      "Top 3 values for 'TYPE':\n",
      "  1. religious: 17838\n",
      "  2. portrait: 5640\n",
      "  3. landscape: 4341\n",
      "\n",
      "Top 3 values for 'SCHOOL':\n",
      "  1. Italian: 18150\n",
      "  2. French: 6804\n",
      "  3. Dutch: 5059\n",
      "\n",
      "Top 3 values for 'TIMELINE':\n",
      "  1. 1501-1550: 6327\n",
      "  2. 1601-1650: 6115\n",
      "  3. 1451-1500: 5181\n",
      "\n",
      "Top 3 values for 'LOCATION':\n",
      "  1. Private collection: 5705\n",
      "  2. Musée du Louvre, Paris: 1790\n",
      "  3. The Hermitage, St. Petersburg: 1313\n"
     ]
    }
   ],
   "source": [
    "top = 3\n",
    "\n",
    "for col in categorical_columns:\n",
    "    print(f\"\\nTop {top} values for '{col}':\")\n",
    "    counts = df[col].value_counts().head(top)\n",
    "    for idx, (val, count) in enumerate(counts.items(), 1):\n",
    "        print(f\"  {idx}. {val}: {count}\")"
   ]
  },
  {
   "cell_type": "markdown",
   "id": "2b6c75d4",
   "metadata": {},
   "source": [
    "From these outputs the conclusion can be made that these can be seen as categories. The values will also be stripped of any leading and trailing whitespace if there is any"
   ]
  },
  {
   "cell_type": "code",
   "execution_count": 15,
   "id": "59a450d6",
   "metadata": {},
   "outputs": [
    {
     "name": "stdout",
     "output_type": "stream",
     "text": [
      "Number of unique values for column FORM: 13\n",
      "Number of unique values for column TYPE: 10\n",
      "Number of unique values for column SCHOOL: 26\n",
      "Number of unique values for column TIMELINE: 24\n",
      "Number of unique values for column LOCATION: 4055\n"
     ]
    }
   ],
   "source": [
    "categorical_cols = ['FORM', 'TYPE', 'SCHOOL', 'TIMELINE', 'LOCATION']\n",
    "\n",
    "for col in categorical_cols:\n",
    "    df[col] = df[col].astype(str).str.strip()\n",
    "    df[col] = df[col].astype('category')\n",
    "    print(f\"Number of unique values for column {col}: {df[col].nunique()}\")"
   ]
  },
  {
   "cell_type": "markdown",
   "id": "a110b644",
   "metadata": {},
   "source": [
    "When looking at the sample output above the `TECHNIQUE` column could possibly be a categorie but due to extra information about sizes this is not a clean category without dissecting the column. Due to time constraint this column will be dropped in this iteration"
   ]
  },
  {
   "cell_type": "markdown",
   "id": "43fad93e",
   "metadata": {},
   "source": [
    "The `BORD-DIED` column shows a string that has to be dissected into multiple columns. The values in the rows are not always according to the same format, due to this the decision will be made to drop this column in this iteration"
   ]
  },
  {
   "cell_type": "code",
   "execution_count": 16,
   "id": "9f6f5e17",
   "metadata": {},
   "outputs": [],
   "source": [
    "df = df.drop(['TECHNIQUE', 'BORN-DIED'], axis=1)"
   ]
  },
  {
   "cell_type": "code",
   "execution_count": 17,
   "id": "2a239a71",
   "metadata": {},
   "outputs": [
    {
     "name": "stdout",
     "output_type": "stream",
     "text": [
      "<class 'pandas.core.frame.DataFrame'>\n",
      "RangeIndex: 43452 entries, 0 to 43451\n",
      "Data columns (total 12 columns):\n",
      " #   Column      Non-Null Count  Dtype   \n",
      "---  ------      --------------  -----   \n",
      " 0   ID          43452 non-null  int64   \n",
      " 1   FILE        43452 non-null  object  \n",
      " 2   AUTHOR      43452 non-null  object  \n",
      " 3   TITLE       43452 non-null  object  \n",
      " 4   DATE        43452 non-null  object  \n",
      " 5   LOCATION    43452 non-null  category\n",
      " 6   FORM        43452 non-null  category\n",
      " 7   TYPE        43452 non-null  category\n",
      " 8   SCHOOL      43452 non-null  category\n",
      " 9   TIMELINE    43452 non-null  category\n",
      " 10  URL         43452 non-null  object  \n",
      " 11  IMAGE_PATH  43452 non-null  object  \n",
      "dtypes: category(5), int64(1), object(6)\n",
      "memory usage: 2.7+ MB\n"
     ]
    }
   ],
   "source": [
    "df.info()"
   ]
  },
  {
   "cell_type": "markdown",
   "id": "c1bebcbf",
   "metadata": {},
   "source": [
    "### Number of images and labels\n",
    "Check to verify if the surface level data description is correct"
   ]
  },
  {
   "cell_type": "code",
   "execution_count": 18,
   "id": "59a0c7f5",
   "metadata": {},
   "outputs": [
    {
     "name": "stdout",
     "output_type": "stream",
     "text": [
      "Matched images: 43452\n",
      "Images not in metadata: 1\n",
      "Metadata entries with missing image: 0\n"
     ]
    }
   ],
   "source": [
    "image_files = set(os.listdir(image_dir))\n",
    "metadata_files = set(df['FILE'])\n",
    "\n",
    "# Images with metadata\n",
    "matched_images = image_files & metadata_files\n",
    "\n",
    "# Images missing in metadata\n",
    "missing_in_metadata = image_files - metadata_files\n",
    "\n",
    "# Metadata missing images\n",
    "missing_images = metadata_files - image_files\n",
    "\n",
    "print(f\"Matched images: {len(matched_images)}\")\n",
    "print(f\"Images not in metadata: {len(missing_in_metadata)}\")\n",
    "print(f\"Metadata entries with missing image: {len(missing_images)}\")"
   ]
  },
  {
   "cell_type": "markdown",
   "id": "6e4607a1",
   "metadata": {},
   "source": [
    "There is a mismatch between the existing labels and the images in the dataset (might be solved by dropping 2 images and one null value?)"
   ]
  },
  {
   "cell_type": "markdown",
   "id": "7fab8d06",
   "metadata": {},
   "source": [
    "*Exploring the basic features and cleaning what is needed will be halted here to continue with the visualization*"
   ]
  },
  {
   "cell_type": "markdown",
   "id": "421c025c",
   "metadata": {},
   "source": [
    "## Image data\n",
    "In the preview of the images via the local folder it could be seen that the images are of various sizes, now a sample of the images will be loaded in the notebook to inspect and verify this"
   ]
  },
  {
   "cell_type": "code",
   "execution_count": 19,
   "id": "1335c677",
   "metadata": {},
   "outputs": [],
   "source": [
    "from pathlib import Path\n",
    "from PIL import Image\n",
    "import matplotlib.pyplot as plt"
   ]
  },
  {
   "cell_type": "code",
   "execution_count": 20,
   "id": "eaa96dc8",
   "metadata": {},
   "outputs": [
    {
     "name": "stdout",
     "output_type": "stream",
     "text": [
      "Failed to open 0 images out of 100\n",
      "\n",
      "         img_width   img_height\n",
      "count   100.000000   100.000000\n",
      "mean    916.820000  1058.060000\n",
      "std     229.528959   224.932934\n",
      "min     400.000000   600.000000\n",
      "25%     763.750000   900.000000\n",
      "50%     900.000000  1024.000000\n",
      "75%    1082.750000  1200.000000\n",
      "max    1455.000000  1600.000000\n"
     ]
    }
   ],
   "source": [
    "img_validation_df = df.sample(n=100, random_state=SEED).copy()\n",
    "\n",
    "widths, heights, bad = [], [], []\n",
    "for path in img_validation_df['IMAGE_PATH']:\n",
    "    try:\n",
    "        pure_path = Path(path)\n",
    "        with Image.open(pure_path) as img:\n",
    "            w, h = img.size\n",
    "        widths.append(w)\n",
    "        heights.append(h)\n",
    "    except Exception:\n",
    "        bad.append(path)\n",
    "        widths.append(None)\n",
    "        heights.append(None)\n",
    "\n",
    "img_validation_df['img_width'] = widths\n",
    "img_validation_df['img_height'] = heights\n",
    "\n",
    "print(f\"Failed to open {len(bad)} images out of 100\\n\")\n",
    "print(img_validation_df[['img_width', 'img_height']].describe())"
   ]
  },
  {
   "cell_type": "markdown",
   "id": "b8c113ad",
   "metadata": {},
   "source": [
    "All images loaded succesfully. There is a difference in sizes"
   ]
  },
  {
   "cell_type": "code",
   "execution_count": 21,
   "id": "f3239bb1",
   "metadata": {},
   "outputs": [
    {
     "data": {
      "image/png": "[encoded data removed]",
      "text/plain": [
       "<Figure size 640x480 with 1 Axes>"
      ]
     },
     "metadata": {},
     "output_type": "display_data"
    },
    {
     "data": {
      "image/png": "[encoded data removed]",
      "text/plain": [
       "<Figure size 640x480 with 1 Axes>"
      ]
     },
     "metadata": {},
     "output_type": "display_data"
    }
   ],
   "source": [
    "plt.figure()\n",
    "plt.hist(\n",
    "    img_validation_df['img_width'].dropna(),\n",
    "    bins=20,\n",
    "    edgecolor='black',\n",
    "    linewidth=1\n",
    ")\n",
    "plt.title('Sample: Image Widths (px)')\n",
    "plt.xlabel('Width (px)')\n",
    "plt.tight_layout()\n",
    "\n",
    "plt.figure()\n",
    "\n",
    "plt.hist(\n",
    "    img_validation_df['img_height'].dropna(),\n",
    "    bins=20,\n",
    "    edgecolor='black',\n",
    "    linewidth=1\n",
    ")\n",
    "plt.title('Sample: Image Heights (px)')\n",
    "plt.xlabel('Height (px)')\n",
    "plt.tight_layout()\n",
    "\n",
    "plt.show()"
   ]
  },
  {
   "cell_type": "markdown",
   "id": "256643dd",
   "metadata": {},
   "source": [
    "The histogram shows a variety in image widths and heights, this needs to be normalised before usage"
   ]
  },
  {
   "cell_type": "markdown",
   "id": "8c8d7689",
   "metadata": {},
   "source": [
    "## Visualization"
   ]
  },
  {
   "cell_type": "markdown",
   "id": "a43ec472",
   "metadata": {},
   "source": [
    "### Bar plots"
   ]
  },
  {
   "cell_type": "code",
   "execution_count": 22,
   "id": "db9ff14e",
   "metadata": {},
   "outputs": [
    {
     "data": {
      "image/png": "[encoded data removed]",
      "text/plain": [
       "<Figure size 640x480 with 1 Axes>"
      ]
     },
     "metadata": {},
     "output_type": "display_data"
    }
   ],
   "source": [
    "plt.figure()\n",
    "df['FORM'].value_counts().plot.bar()\n",
    "plt.title('Counts by FORM')\n",
    "plt.ylabel('Number of Artworks')\n",
    "plt.tight_layout()"
   ]
  },
  {
   "cell_type": "code",
   "execution_count": 23,
   "id": "02030614",
   "metadata": {},
   "outputs": [
    {
     "data": {
      "image/png": "[encoded data removed]",
      "text/plain": [
       "<Figure size 640x480 with 1 Axes>"
      ]
     },
     "metadata": {},
     "output_type": "display_data"
    }
   ],
   "source": [
    "plt.figure()\n",
    "df['TYPE'].value_counts().plot.bar()\n",
    "plt.title('Counts by TYPE')\n",
    "plt.ylabel('Number of Artworks')\n",
    "plt.tight_layout()"
   ]
  },
  {
   "cell_type": "code",
   "execution_count": 24,
   "id": "a4786650",
   "metadata": {},
   "outputs": [
    {
     "data": {
      "image/png": "[encoded data removed]",
      "text/plain": [
       "<Figure size 640x480 with 1 Axes>"
      ]
     },
     "metadata": {},
     "output_type": "display_data"
    }
   ],
   "source": [
    "plt.figure()\n",
    "df['SCHOOL'].value_counts().plot.bar()\n",
    "plt.title('Counts by SCHOOL')\n",
    "plt.ylabel('Number of Artworks')\n",
    "plt.tight_layout()"
   ]
  },
  {
   "cell_type": "code",
   "execution_count": 25,
   "id": "2bf950a4",
   "metadata": {},
   "outputs": [
    {
     "data": {
      "image/png": "[encoded data removed]",
      "text/plain": [
       "<Figure size 640x480 with 1 Axes>"
      ]
     },
     "metadata": {},
     "output_type": "display_data"
    }
   ],
   "source": [
    "plt.figure()\n",
    "df['TIMELINE'].value_counts().plot.bar()\n",
    "plt.title('Counts by TIMELINE')\n",
    "plt.ylabel('Number of Artworks')\n",
    "plt.tight_layout()"
   ]
  },
  {
   "cell_type": "code",
   "execution_count": 26,
   "id": "6e23239a",
   "metadata": {},
   "outputs": [
    {
     "data": {
      "image/png": "[encoded data removed]",
      "text/plain": [
       "<Figure size 640x480 with 1 Axes>"
      ]
     },
     "metadata": {},
     "output_type": "display_data"
    }
   ],
   "source": [
    "plt.figure()\n",
    "df['AUTHOR'].value_counts().head(10).plot.bar()\n",
    "plt.title('Top 10 Authors by Artwork Count')\n",
    "plt.ylabel('Number of Artworks')\n",
    "plt.tight_layout()"
   ]
  },
  {
   "cell_type": "markdown",
   "id": "66557148",
   "metadata": {},
   "source": [
    "### Histogram"
   ]
  },
  {
   "cell_type": "code",
   "execution_count": 27,
   "id": "2b0fbc2d",
   "metadata": {},
   "outputs": [
    {
     "data": {
      "image/png": "[encoded data removed]",
      "text/plain": [
       "<Figure size 640x480 with 1 Axes>"
      ]
     },
     "metadata": {},
     "output_type": "display_data"
    }
   ],
   "source": [
    "plt.figure()\n",
    "df['TIMELINE'].value_counts().plot.bar()\n",
    "plt.title('Distribution of Artworks by TIMELINE')\n",
    "plt.xlabel('TIMELINE')\n",
    "plt.ylabel('Number of Artworks')\n",
    "plt.tight_layout()\n",
    "plt.show()"
   ]
  },
  {
   "cell_type": "markdown",
   "id": "d94a7a86",
   "metadata": {},
   "source": [
    "# SUNBURST does not render?"
   ]
  },
  {
   "cell_type": "code",
   "execution_count": 31,
   "id": "e3b75210",
   "metadata": {},
   "outputs": [
    {
     "name": "stdout",
     "output_type": "stream",
     "text": [
      "Agg_df (16, 4)\n",
      "filter_df shape (1500, 12)\n"
     ]
    }
   ],
   "source": [
    "import plotly.express as px\n",
    "\n",
    "top_locations = df['LOCATION'].value_counts().nlargest(2).index\n",
    "top_types = df['TYPE'].value_counts().nlargest(3).index\n",
    "top_timelines = df['TIMELINE'].value_counts().nlargest(3).index\n",
    "\n",
    "filtered_df = df[\n",
    "    df['LOCATION'].isin(top_locations) &\n",
    "    df['TYPE'].isin(top_types) &\n",
    "    df['TIMELINE'].isin(top_timelines)\n",
    "]\n",
    "\n",
    "agg_df = (\n",
    "    filtered_df\n",
    "    .groupby(['LOCATION', 'TYPE', 'TIMELINE'], observed=True)\n",
    "    .size()\n",
    "    .reset_index(name='COUNT')\n",
    ")\n",
    "\n",
    "print(\"Agg_df\", agg_df.shape)\n",
    "print(\"filter_df shape\", filtered_df.shape)"
   ]
  },
  {
   "cell_type": "code",
   "execution_count": 34,
   "id": "ee1804aa",
   "metadata": {},
   "outputs": [
    {
     "name": "stdout",
     "output_type": "stream",
     "text": [
      "                 LOCATION       TYPE   TIMELINE  COUNT\n",
      "0  Musée du Louvre, Paris  landscape  1501-1550      2\n",
      "1  Musée du Louvre, Paris  landscape  1601-1650     33\n",
      "2  Musée du Louvre, Paris   portrait  1451-1500     33\n",
      "3  Musée du Louvre, Paris   portrait  1501-1550     41\n",
      "4  Musée du Louvre, Paris   portrait  1601-1650     41\n"
     ]
    }
   ],
   "source": [
    "print(agg_df.head())"
   ]
  },
  {
   "cell_type": "code",
   "execution_count": 36,
   "id": "80389788",
   "metadata": {},
   "outputs": [
    {
     "name": "stderr",
     "output_type": "stream",
     "text": [
      "c:\\Users\\laure\\anaconda3\\Lib\\site-packages\\plotly\\express\\_core.py:1619: FutureWarning:\n",
      "\n",
      "The default of observed=False is deprecated and will be changed to True in a future version of pandas. Pass observed=False to retain current behavior or observed=True to adopt the future default and silence this warning.\n",
      "\n",
      "c:\\Users\\laure\\anaconda3\\Lib\\site-packages\\plotly\\express\\_core.py:1619: FutureWarning:\n",
      "\n",
      "The default of observed=False is deprecated and will be changed to True in a future version of pandas. Pass observed=False to retain current behavior or observed=True to adopt the future default and silence this warning.\n",
      "\n",
      "c:\\Users\\laure\\anaconda3\\Lib\\site-packages\\plotly\\express\\_core.py:1619: FutureWarning:\n",
      "\n",
      "The default of observed=False is deprecated and will be changed to True in a future version of pandas. Pass observed=False to retain current behavior or observed=True to adopt the future default and silence this warning.\n",
      "\n"
     ]
    }
   ],
   "source": [
    "fig = px.sunburst(\n",
    "    agg_df,\n",
    "    path=['LOCATION', 'TYPE', 'TIMELINE'],\n",
    "    values='COUNT',\n",
    "    title='Artworks by Location, Type, and Timeline (Top 3 of Each)',\n",
    "    width=1200, height=800\n",
    ")\n",
    "\n",
    "# fig.show()\n",
    "fig.write_html(\"sunburst.html\", include_plotlyjs='inline', full_html=True)"
   ]
  },
  {
   "cell_type": "code",
   "execution_count": 38,
   "id": "7411026d",
   "metadata": {},
   "outputs": [
    {
     "data": {
      "text/html": [
       "<div>\n",
       "<style scoped>\n",
       "    .dataframe tbody tr th:only-of-type {\n",
       "        vertical-align: middle;\n",
       "    }\n",
       "\n",
       "    .dataframe tbody tr th {\n",
       "        vertical-align: top;\n",
       "    }\n",
       "\n",
       "    .dataframe thead th {\n",
       "        text-align: right;\n",
       "    }\n",
       "</style>\n",
       "<table border=\"1\" class=\"dataframe\">\n",
       "  <thead>\n",
       "    <tr style=\"text-align: right;\">\n",
       "      <th></th>\n",
       "      <th>ID</th>\n",
       "      <th>FILE</th>\n",
       "      <th>AUTHOR</th>\n",
       "      <th>TITLE</th>\n",
       "      <th>DATE</th>\n",
       "      <th>LOCATION</th>\n",
       "      <th>FORM</th>\n",
       "      <th>TYPE</th>\n",
       "      <th>SCHOOL</th>\n",
       "      <th>TIMELINE</th>\n",
       "      <th>URL</th>\n",
       "      <th>IMAGE_PATH</th>\n",
       "    </tr>\n",
       "  </thead>\n",
       "  <tbody>\n",
       "    <tr>\n",
       "      <th>36812</th>\n",
       "      <td>36815</td>\n",
       "      <td>36815.jpg</td>\n",
       "      <td>STIELER, Karl Joseph</td>\n",
       "      <td>King Ludwig I in his Coronation Robes</td>\n",
       "      <td>1826</td>\n",
       "      <td>Neue Pinakothek, Munich</td>\n",
       "      <td>painting</td>\n",
       "      <td>portrait</td>\n",
       "      <td>German</td>\n",
       "      <td>1801-1850</td>\n",
       "      <td>http://www.wga.hu/html/s/stieler/ludwig1.html</td>\n",
       "      <td>../data/toy_dataset/36815.jpg</td>\n",
       "    </tr>\n",
       "    <tr>\n",
       "      <th>2731</th>\n",
       "      <td>2732</td>\n",
       "      <td>2732.jpg</td>\n",
       "      <td>BALASSI, Mario</td>\n",
       "      <td>Santa Margherita</td>\n",
       "      <td>-</td>\n",
       "      <td>Private collection</td>\n",
       "      <td>painting</td>\n",
       "      <td>religious</td>\n",
       "      <td>Italian</td>\n",
       "      <td>1601-1650</td>\n",
       "      <td>http://www.wga.hu/html/b/balassi/balassi3.html</td>\n",
       "      <td>../data/toy_dataset/2732.jpg</td>\n",
       "    </tr>\n",
       "    <tr>\n",
       "      <th>41237</th>\n",
       "      <td>41240</td>\n",
       "      <td>41240.jpg</td>\n",
       "      <td>VERHULST, Rombout</td>\n",
       "      <td>Bust of Marie von Reygersberg</td>\n",
       "      <td>-</td>\n",
       "      <td>Rijksmuseum, Amsterdam</td>\n",
       "      <td>sculpture</td>\n",
       "      <td>portrait</td>\n",
       "      <td>Flemish</td>\n",
       "      <td>1651-1700</td>\n",
       "      <td>http://www.wga.hu/html/v/verhulst/reygersb.html</td>\n",
       "      <td>../data/toy_dataset/41240.jpg</td>\n",
       "    </tr>\n",
       "    <tr>\n",
       "      <th>16106</th>\n",
       "      <td>16107</td>\n",
       "      <td>16107.jpg</td>\n",
       "      <td>GISLEBERTUS</td>\n",
       "      <td>Last Judgment (detail)</td>\n",
       "      <td>1130-45</td>\n",
       "      <td>Cathedral of Saint-Lazare, Autun</td>\n",
       "      <td>sculpture</td>\n",
       "      <td>religious</td>\n",
       "      <td>French</td>\n",
       "      <td>1101-1150</td>\n",
       "      <td>http://www.wga.hu/html/g/gisleber/2lastj2.html</td>\n",
       "      <td>../data/toy_dataset/16107.jpg</td>\n",
       "    </tr>\n",
       "    <tr>\n",
       "      <th>5859</th>\n",
       "      <td>5860</td>\n",
       "      <td>5860.jpg</td>\n",
       "      <td>BRONZINO, Agnolo</td>\n",
       "      <td>Portrait of a Man Holding a Statuette</td>\n",
       "      <td>1545-55</td>\n",
       "      <td>Musée du Louvre, Paris</td>\n",
       "      <td>painting</td>\n",
       "      <td>portrait</td>\n",
       "      <td>Italian</td>\n",
       "      <td>1501-1550</td>\n",
       "      <td>http://www.wga.hu/html/b/bronzino/2/man_stat.html</td>\n",
       "      <td>../data/toy_dataset/5860.jpg</td>\n",
       "    </tr>\n",
       "    <tr>\n",
       "      <th>13369</th>\n",
       "      <td>13370</td>\n",
       "      <td>13370.jpg</td>\n",
       "      <td>FLORIS, Frans</td>\n",
       "      <td>The Sacrifice of Jesus Christ, Son of God, Gat...</td>\n",
       "      <td>1562</td>\n",
       "      <td>Musée du Louvre, Paris</td>\n",
       "      <td>painting</td>\n",
       "      <td>religious</td>\n",
       "      <td>Flemish</td>\n",
       "      <td>1551-1600</td>\n",
       "      <td>http://www.wga.hu/html/f/floris/frans/sacrific...</td>\n",
       "      <td>../data/toy_dataset/13370.jpg</td>\n",
       "    </tr>\n",
       "    <tr>\n",
       "      <th>30119</th>\n",
       "      <td>30122</td>\n",
       "      <td>30122.jpg</td>\n",
       "      <td>PIERO DELLA FRANCESCA</td>\n",
       "      <td>7a. Finding of the True Cross</td>\n",
       "      <td>1452-66</td>\n",
       "      <td>San Francesco, Arezzo</td>\n",
       "      <td>painting</td>\n",
       "      <td>religious</td>\n",
       "      <td>Italian</td>\n",
       "      <td>1451-1500</td>\n",
       "      <td>http://www.wga.hu/html/p/piero/2/7/7find02.html</td>\n",
       "      <td>../data/toy_dataset/30122.jpg</td>\n",
       "    </tr>\n",
       "    <tr>\n",
       "      <th>11195</th>\n",
       "      <td>11196</td>\n",
       "      <td>11196.jpg</td>\n",
       "      <td>DOMENICO DI MICHELINO</td>\n",
       "      <td>Dante Illuminating Florence with his Poem (det...</td>\n",
       "      <td>1465</td>\n",
       "      <td>Museo dell'Opera del Duomo, Florence</td>\n",
       "      <td>painting</td>\n",
       "      <td>mythological</td>\n",
       "      <td>Italian</td>\n",
       "      <td>1451-1500</td>\n",
       "      <td>http://www.wga.hu/html/d/domenico/michelin/dan...</td>\n",
       "      <td>../data/toy_dataset/11196.jpg</td>\n",
       "    </tr>\n",
       "    <tr>\n",
       "      <th>35144</th>\n",
       "      <td>35147</td>\n",
       "      <td>35147.jpg</td>\n",
       "      <td>SANSOVINO, Jacopo</td>\n",
       "      <td>Bust of Tommaso Rangone</td>\n",
       "      <td>1557</td>\n",
       "      <td>Ateneo Veneto, Venice</td>\n",
       "      <td>sculpture</td>\n",
       "      <td>other</td>\n",
       "      <td>Italian</td>\n",
       "      <td>1501-1550</td>\n",
       "      <td>http://www.wga.hu/html/s/sansovin/jacopo/2/ran...</td>\n",
       "      <td>../data/toy_dataset/35147.jpg</td>\n",
       "    </tr>\n",
       "    <tr>\n",
       "      <th>23529</th>\n",
       "      <td>23532</td>\n",
       "      <td>23532.jpg</td>\n",
       "      <td>MASACCIO</td>\n",
       "      <td>St Peter Healing the Sick with his Shadow (det...</td>\n",
       "      <td>1426-27</td>\n",
       "      <td>Cappella Brancacci, Santa Maria del Carmine, F...</td>\n",
       "      <td>painting</td>\n",
       "      <td>religious</td>\n",
       "      <td>Italian</td>\n",
       "      <td>1401-1450</td>\n",
       "      <td>http://www.wga.hu/html/m/masaccio/brancacc/st_...</td>\n",
       "      <td>../data/toy_dataset/23532.jpg</td>\n",
       "    </tr>\n",
       "  </tbody>\n",
       "</table>\n",
       "</div>"
      ],
      "text/plain": [
       "          ID       FILE                 AUTHOR  \\\n",
       "36812  36815  36815.jpg   STIELER, Karl Joseph   \n",
       "2731    2732   2732.jpg         BALASSI, Mario   \n",
       "41237  41240  41240.jpg      VERHULST, Rombout   \n",
       "16106  16107  16107.jpg            GISLEBERTUS   \n",
       "5859    5860   5860.jpg       BRONZINO, Agnolo   \n",
       "13369  13370  13370.jpg          FLORIS, Frans   \n",
       "30119  30122  30122.jpg  PIERO DELLA FRANCESCA   \n",
       "11195  11196  11196.jpg  DOMENICO DI MICHELINO   \n",
       "35144  35147  35147.jpg      SANSOVINO, Jacopo   \n",
       "23529  23532  23532.jpg               MASACCIO   \n",
       "\n",
       "                                                   TITLE     DATE  \\\n",
       "36812              King Ludwig I in his Coronation Robes     1826   \n",
       "2731                                    Santa Margherita        -   \n",
       "41237                      Bust of Marie von Reygersberg        -   \n",
       "16106                             Last Judgment (detail)  1130-45   \n",
       "5859               Portrait of a Man Holding a Statuette  1545-55   \n",
       "13369  The Sacrifice of Jesus Christ, Son of God, Gat...     1562   \n",
       "30119                      7a. Finding of the True Cross  1452-66   \n",
       "11195  Dante Illuminating Florence with his Poem (det...     1465   \n",
       "35144                            Bust of Tommaso Rangone     1557   \n",
       "23529  St Peter Healing the Sick with his Shadow (det...  1426-27   \n",
       "\n",
       "                                                LOCATION       FORM  \\\n",
       "36812                            Neue Pinakothek, Munich   painting   \n",
       "2731                                  Private collection   painting   \n",
       "41237                             Rijksmuseum, Amsterdam  sculpture   \n",
       "16106                   Cathedral of Saint-Lazare, Autun  sculpture   \n",
       "5859                              Musée du Louvre, Paris   painting   \n",
       "13369                             Musée du Louvre, Paris   painting   \n",
       "30119                              San Francesco, Arezzo   painting   \n",
       "11195               Museo dell'Opera del Duomo, Florence   painting   \n",
       "35144                              Ateneo Veneto, Venice  sculpture   \n",
       "23529  Cappella Brancacci, Santa Maria del Carmine, F...   painting   \n",
       "\n",
       "               TYPE   SCHOOL   TIMELINE  \\\n",
       "36812      portrait   German  1801-1850   \n",
       "2731      religious  Italian  1601-1650   \n",
       "41237      portrait  Flemish  1651-1700   \n",
       "16106     religious   French  1101-1150   \n",
       "5859       portrait  Italian  1501-1550   \n",
       "13369     religious  Flemish  1551-1600   \n",
       "30119     religious  Italian  1451-1500   \n",
       "11195  mythological  Italian  1451-1500   \n",
       "35144         other  Italian  1501-1550   \n",
       "23529     religious  Italian  1401-1450   \n",
       "\n",
       "                                                     URL  \\\n",
       "36812      http://www.wga.hu/html/s/stieler/ludwig1.html   \n",
       "2731      http://www.wga.hu/html/b/balassi/balassi3.html   \n",
       "41237    http://www.wga.hu/html/v/verhulst/reygersb.html   \n",
       "16106     http://www.wga.hu/html/g/gisleber/2lastj2.html   \n",
       "5859   http://www.wga.hu/html/b/bronzino/2/man_stat.html   \n",
       "13369  http://www.wga.hu/html/f/floris/frans/sacrific...   \n",
       "30119    http://www.wga.hu/html/p/piero/2/7/7find02.html   \n",
       "11195  http://www.wga.hu/html/d/domenico/michelin/dan...   \n",
       "35144  http://www.wga.hu/html/s/sansovin/jacopo/2/ran...   \n",
       "23529  http://www.wga.hu/html/m/masaccio/brancacc/st_...   \n",
       "\n",
       "                          IMAGE_PATH  \n",
       "36812  ../data/toy_dataset/36815.jpg  \n",
       "2731    ../data/toy_dataset/2732.jpg  \n",
       "41237  ../data/toy_dataset/41240.jpg  \n",
       "16106  ../data/toy_dataset/16107.jpg  \n",
       "5859    ../data/toy_dataset/5860.jpg  \n",
       "13369  ../data/toy_dataset/13370.jpg  \n",
       "30119  ../data/toy_dataset/30122.jpg  \n",
       "11195  ../data/toy_dataset/11196.jpg  \n",
       "35144  ../data/toy_dataset/35147.jpg  \n",
       "23529  ../data/toy_dataset/23532.jpg  "
      ]
     },
     "execution_count": 38,
     "metadata": {},
     "output_type": "execute_result"
    }
   ],
   "source": [
    "df.sample(n=10)"
   ]
  },
  {
   "cell_type": "code",
   "execution_count": null,
   "id": "2f4ca015",
   "metadata": {},
   "outputs": [],
   "source": [
    "# Grid where columns are the art form with example below the header\n",
    "# Sankey diagram starting with the school to type and then form \n",
    "# clustering artworks based on embeddings (maybe visible clusters related to form or type? / Umap?)"
   ]
  },
  {
   "cell_type": "markdown",
   "id": "446d3b04",
   "metadata": {},
   "source": [
    "To speed up the first iteration all other visualizations will be done in a future iteration."
   ]
  },
  {
   "cell_type": "markdown",
   "id": "33e9bdf8",
   "metadata": {},
   "source": [
    "# Conclusion\n",
    "\n",
    "While the ART500K Toy Dataset provides a broad selection of artworks with categorical metadata for type, form, timeperiod, etc, it lacks explicit labels for fine grained art movements or curated collections. This makes direct modeling or analysis of movement level curation not feasible. Although the TIMELINE field could be used as a loose placeholder, this would introduce additional noise and does not substitute for explicit movement annotation.\n",
    "\n",
    "Without a ground truth for collections, the fit check phase in this iteration will use synthetic groupings based on available metadata (type, period). The results will show technical feasibility for such groupings but is unlikely to capture the complexity of real curatorial practice. Outcomes from this prototype will be reviewed and lessons learned will inform if project objectives should be refined or rescoped in following iterations.\n",
    "\n",
    "*Key EDA outcomes:*\n",
    "- Absence of explicit movement or style labels.\n",
    "- All label records are now reliably linked to existing image files, with irrelevant or ambiguous fields removed.\n",
    "- Focusing on paintings (FORM) and four types with enough data availability (TYPE: religious, portrait, landscape, mythological) provides a relevant subset for the initial modeling phase.\n",
    "- Normalization of categorical variables and removal of problematic columns reduces risk of mislabeling and improves data quality.\n",
    "\n",
    "*Remaining challenges:*\n",
    "- Variation in image sizes must be addressed in image preprocessing.\n",
    "- Several metadata fields remain inconsistently formatted or unprocessed, and may require further cleaning or enrichment for future iterations.\n",
    "\n",
    "*Feasibility:*\n",
    "Despite these constraints the dataset supports meaningful prototyping of fit-checks and basic grouping based on the selected metadata fields. Insights from this first cycle will directly inform the direction and scope of future project work."
   ]
  },
  {
   "cell_type": "markdown",
   "id": "a77e607d",
   "metadata": {},
   "source": []
  }
 ],
 "metadata": {
  "kernelspec": {
   "display_name": "Python 3",
   "language": "python",
   "name": "python3"
  },
  "language_info": {
   "codemirror_mode": {
    "name": "ipython",
    "version": 3
   },
   "file_extension": ".py",
   "mimetype": "text/x-python",
   "name": "python",
   "nbconvert_exporter": "python",
   "pygments_lexer": "ipython3",
   "version": "3.11.9"
  }
 },
 "nbformat": 4,
 "nbformat_minor": 5
}
