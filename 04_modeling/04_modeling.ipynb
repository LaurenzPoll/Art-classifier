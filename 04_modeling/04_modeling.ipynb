{
 "cells": [
  {
   "cell_type": "markdown",
   "id": "b6c6b0e8",
   "metadata": {},
   "source": [
    "# Modeling\n",
    "\n",
    "The modeling phase aims to build and evaluate models that support the business objectives, using the analysis ready dataset produced in the `Data Preparation` phase"
   ]
  },
  {
   "cell_type": "code",
   "execution_count": 35,
   "id": "09a24b06",
   "metadata": {},
   "outputs": [
    {
     "name": "stdout",
     "output_type": "stream",
     "text": [
      "TensorFlow version: 2.10.1\n"
     ]
    }
   ],
   "source": [
    "import pandas as pd\n",
    "import os\n",
    "import numpy as np\n",
    "import matplotlib.pyplot as plt\n",
    "\n",
    "import tensorflow as tf\n",
    "from tensorflow import keras\n",
    "from keras import layers\n",
    "from sklearn.model_selection import train_test_split\n",
    "from tensorflow.keras.applications import Xception\n",
    "from tensorflow.keras.applications.xception import preprocess_input\n",
    "\n",
    "print('TensorFlow version:', tf.__version__)"
   ]
  },
  {
   "cell_type": "code",
   "execution_count": 36,
   "id": "1e3d36d5",
   "metadata": {},
   "outputs": [
    {
     "name": "stdout",
     "output_type": "stream",
     "text": [
      "DataFrame loaded from ../data/processed/prepared_art500k_subset_paintings.pkl\n",
      "<class 'pandas.core.frame.DataFrame'>\n",
      "RangeIndex: 4000 entries, 0 to 3999\n",
      "Data columns (total 6 columns):\n",
      " #   Column             Non-Null Count  Dtype \n",
      "---  ------             --------------  ----- \n",
      " 0   id                 4000 non-null   int64 \n",
      " 1   image_path         4000 non-null   object\n",
      " 2   type_landscape     4000 non-null   bool  \n",
      " 3   type_mythological  4000 non-null   bool  \n",
      " 4   type_portrait      4000 non-null   bool  \n",
      " 5   type_religious     4000 non-null   bool  \n",
      "dtypes: bool(4), int64(1), object(1)\n",
      "memory usage: 78.2+ KB\n",
      "None\n"
     ]
    }
   ],
   "source": [
    "SEED = 42\n",
    "tf.random.set_seed(SEED)\n",
    "np.random.seed(SEED)\n",
    "\n",
    "input_dir = \"../data/processed/\"\n",
    "pkl_path = os.path.join(input_dir, \"prepared_art500k_subset_paintings.pkl\")\n",
    "\n",
    "df = pd.read_pickle(pkl_path)\n",
    "\n",
    "print(f\"DataFrame loaded from {pkl_path}\")\n",
    "print(df.info())"
   ]
  },
  {
   "cell_type": "markdown",
   "id": "c710fa7a",
   "metadata": {},
   "source": [
    "## Select modeling technique\n",
    "\n",
    "### Modeling technique\n",
    "With the limited dataset, transfer learning will be used first. The GPU can be used for tensorflow/keras. One of the models in [keras.io/api/applications](https://keras.io/api/applications/) will be chosen.\n",
    "\n",
    "The XCeption model has been selected to make a first iteration due to strong accuracy on ImageNet. Besides this is it also suitable for the local GPU\n",
    "\n",
    "### Modeling assumptions\n",
    "**Input shape:**\n",
    "- All input images must be resized to the target dimensions (299x299, 3 channels)\n",
    "- Images must be preprocessed with `keras.applications.xception.preprocess_input` before input to the model (scaling to [-1, 1]).\n",
    "\n",
    "**Labels:**\n",
    "- The number of output classes matches the unique values of the `TYPE` variable (4)\n",
    "\n",
    "**Dataset Size:**\n",
    "- Transfer learning with a pre-trained backbone assumes a moderate or small labeled dataset\n",
    "\n",
    "**Distribution:**\n",
    "- Model does not require input features to be normally distributed, but assumes the label distribution is sufficiently balanced for meaningful evaluation.\n",
    "\n",
    "**Augmentation:**\n",
    "- To enhance generalization, basic image augmentation (random flip, rotation, etc.) can be applied during training if the model performs poorly [keras.io/guides_transfer_learning](https://keras.io/guides/transfer_learning/)"
   ]
  },
  {
   "cell_type": "markdown",
   "id": "370e9585",
   "metadata": {},
   "source": [
    "## Test design\n",
    "in the data preperation step the label was taken out of the dataframe. Now it needs to be added back"
   ]
  },
  {
   "cell_type": "code",
   "execution_count": 37,
   "id": "e0537275",
   "metadata": {},
   "outputs": [],
   "source": [
    "onehot_cols = ['type_landscape', 'type_mythological', 'type_portrait', 'type_religious']\n",
    "\n",
    "# Convert one-hot to class label\n",
    "df['label'] = np.argmax(df[onehot_cols].values, axis=1)\n",
    "index_to_type = {i: col.replace('type_', '') for i, col in enumerate(onehot_cols)}\n",
    "df['label_name'] = df['label'].map(index_to_type)"
   ]
  },
  {
   "cell_type": "code",
   "execution_count": 38,
   "id": "2f81edc4",
   "metadata": {},
   "outputs": [
    {
     "data": {
      "text/html": [
       "<div>\n",
       "<style scoped>\n",
       "    .dataframe tbody tr th:only-of-type {\n",
       "        vertical-align: middle;\n",
       "    }\n",
       "\n",
       "    .dataframe tbody tr th {\n",
       "        vertical-align: top;\n",
       "    }\n",
       "\n",
       "    .dataframe thead th {\n",
       "        text-align: right;\n",
       "    }\n",
       "</style>\n",
       "<table border=\"1\" class=\"dataframe\">\n",
       "  <thead>\n",
       "    <tr style=\"text-align: right;\">\n",
       "      <th></th>\n",
       "      <th>id</th>\n",
       "      <th>image_path</th>\n",
       "      <th>type_landscape</th>\n",
       "      <th>type_mythological</th>\n",
       "      <th>type_portrait</th>\n",
       "      <th>type_religious</th>\n",
       "      <th>label</th>\n",
       "      <th>label_name</th>\n",
       "    </tr>\n",
       "  </thead>\n",
       "  <tbody>\n",
       "    <tr>\n",
       "      <th>555</th>\n",
       "      <td>35811</td>\n",
       "      <td>../data/toy_dataset/35811.jpg</td>\n",
       "      <td>False</td>\n",
       "      <td>False</td>\n",
       "      <td>True</td>\n",
       "      <td>False</td>\n",
       "      <td>2</td>\n",
       "      <td>portrait</td>\n",
       "    </tr>\n",
       "    <tr>\n",
       "      <th>3491</th>\n",
       "      <td>7625</td>\n",
       "      <td>../data/toy_dataset/7625.jpg</td>\n",
       "      <td>False</td>\n",
       "      <td>False</td>\n",
       "      <td>True</td>\n",
       "      <td>False</td>\n",
       "      <td>2</td>\n",
       "      <td>portrait</td>\n",
       "    </tr>\n",
       "    <tr>\n",
       "      <th>527</th>\n",
       "      <td>40728</td>\n",
       "      <td>../data/toy_dataset/40728.jpg</td>\n",
       "      <td>False</td>\n",
       "      <td>True</td>\n",
       "      <td>False</td>\n",
       "      <td>False</td>\n",
       "      <td>1</td>\n",
       "      <td>mythological</td>\n",
       "    </tr>\n",
       "    <tr>\n",
       "      <th>3925</th>\n",
       "      <td>12868</td>\n",
       "      <td>../data/toy_dataset/12868.jpg</td>\n",
       "      <td>False</td>\n",
       "      <td>False</td>\n",
       "      <td>True</td>\n",
       "      <td>False</td>\n",
       "      <td>2</td>\n",
       "      <td>portrait</td>\n",
       "    </tr>\n",
       "    <tr>\n",
       "      <th>2989</th>\n",
       "      <td>34510</td>\n",
       "      <td>../data/toy_dataset/34510.jpg</td>\n",
       "      <td>True</td>\n",
       "      <td>False</td>\n",
       "      <td>False</td>\n",
       "      <td>False</td>\n",
       "      <td>0</td>\n",
       "      <td>landscape</td>\n",
       "    </tr>\n",
       "  </tbody>\n",
       "</table>\n",
       "</div>"
      ],
      "text/plain": [
       "         id                     image_path  type_landscape  type_mythological  \\\n",
       "555   35811  ../data/toy_dataset/35811.jpg           False              False   \n",
       "3491   7625   ../data/toy_dataset/7625.jpg           False              False   \n",
       "527   40728  ../data/toy_dataset/40728.jpg           False               True   \n",
       "3925  12868  ../data/toy_dataset/12868.jpg           False              False   \n",
       "2989  34510  ../data/toy_dataset/34510.jpg            True              False   \n",
       "\n",
       "      type_portrait  type_religious  label    label_name  \n",
       "555            True           False      2      portrait  \n",
       "3491           True           False      2      portrait  \n",
       "527           False           False      1  mythological  \n",
       "3925           True           False      2      portrait  \n",
       "2989          False           False      0     landscape  "
      ]
     },
     "execution_count": 38,
     "metadata": {},
     "output_type": "execute_result"
    }
   ],
   "source": [
    "df.sample(n=5, random_state=SEED)"
   ]
  },
  {
   "cell_type": "markdown",
   "id": "ff07febc",
   "metadata": {},
   "source": [
    "Using stratification so all train/validation/test splits have relative proportions of each label. a split of "
   ]
  },
  {
   "cell_type": "code",
   "execution_count": 39,
   "id": "6f4c7c88",
   "metadata": {},
   "outputs": [
    {
     "name": "stdout",
     "output_type": "stream",
     "text": [
      "Training samples: 3200\n",
      "Validation samples: 400\n",
      "Test samples: 400\n"
     ]
    }
   ],
   "source": [
    "# 80/20\n",
    "train_df, temp_df = train_test_split(\n",
    "    df,\n",
    "    test_size=0.2,\n",
    "    stratify=df['label'],\n",
    "    random_state=SEED\n",
    ")\n",
    "\n",
    "# 50/50 of the 20%\n",
    "validation_df, test_df = train_test_split(\n",
    "    temp_df,\n",
    "    test_size=0.5,\n",
    "    stratify=temp_df['label'],\n",
    "    random_state=SEED\n",
    ")\n",
    "\n",
    "print(f\"Training samples: {len(train_df)}\")\n",
    "print(f\"Validation samples: {len(validation_df)}\")\n",
    "print(f\"Test samples: {len(test_df)}\")"
   ]
  },
  {
   "cell_type": "markdown",
   "id": "478840fb",
   "metadata": {},
   "source": [
    "## Build model"
   ]
  },
  {
   "cell_type": "code",
   "execution_count": 41,
   "id": "719fe1c1",
   "metadata": {},
   "outputs": [],
   "source": [
    "BATCH_SIZE = 32\n",
    "IMG_SIZE = (299, 299)\n",
    "EPOCHS = 10\n",
    "AUTOTUNE = tf.data.AUTOTUNE\n",
    "ONE_HOT_DIMENSIONS = 4\n",
    "DROPOUT_RATE = 0.4"
   ]
  },
  {
   "cell_type": "markdown",
   "id": "922f1906",
   "metadata": {},
   "source": [
    "Function to parse images on teh fly"
   ]
  },
  {
   "cell_type": "code",
   "execution_count": 42,
   "id": "e653857d",
   "metadata": {},
   "outputs": [],
   "source": [
    "def parse_image(filename, label):\n",
    "    image = tf.io.read_file(filename)\n",
    "    image = tf.image.decode_jpeg(image, channels=3)\n",
    "    image = tf.image.resize(image, IMG_SIZE)\n",
    "    image = keras.applications.xception.preprocess_input(image)\n",
    "    return image, label"
   ]
  },
  {
   "cell_type": "markdown",
   "id": "9ad9de69",
   "metadata": {},
   "source": [
    "Create TensorFlow Datasets from DataFrame slices"
   ]
  },
  {
   "cell_type": "code",
   "execution_count": 43,
   "id": "b191e512",
   "metadata": {},
   "outputs": [],
   "source": [
    "train_ds = tf.data.Dataset.from_tensor_slices(\n",
    "    (train_df['image_path'].values, train_df['label'].values)\n",
    ").map(parse_image, num_parallel_calls=AUTOTUNE) \\\n",
    " .batch(BATCH_SIZE) \\\n",
    " .prefetch(AUTOTUNE)\n",
    "\n",
    "validation_ds = tf.data.Dataset.from_tensor_slices(\n",
    "    (validation_df['image_path'].values, validation_df['label'].values)\n",
    ").map(parse_image, num_parallel_calls=AUTOTUNE) \\\n",
    " .batch(BATCH_SIZE) \\\n",
    " .prefetch(AUTOTUNE)\n",
    "\n",
    "test_ds = tf.data.Dataset.from_tensor_slices(\n",
    "    (test_df['image_path'].values, test_df['label'].values)\n",
    ").map(parse_image, num_parallel_calls=AUTOTUNE) \\\n",
    " .batch(BATCH_SIZE) \\\n",
    " .prefetch(AUTOTUNE)"
   ]
  },
  {
   "cell_type": "markdown",
   "id": "a55b01d6",
   "metadata": {},
   "source": [
    "Load the XCeption model"
   ]
  },
  {
   "cell_type": "code",
   "execution_count": 44,
   "id": "4a8f3510",
   "metadata": {},
   "outputs": [],
   "source": [
    "keras.backend.clear_session()\n",
    "\n",
    "base_model = keras.applications.Xception(\n",
    "    weights=\"imagenet\",\n",
    "    include_top=False,\n",
    "    input_shape=(*IMG_SIZE, 3)\n",
    ")\n",
    "base_model.trainable = False"
   ]
  },
  {
   "cell_type": "markdown",
   "id": "27732e98",
   "metadata": {},
   "source": [
    "Build model head"
   ]
  },
  {
   "cell_type": "code",
   "execution_count": 45,
   "id": "1aaecfa7",
   "metadata": {},
   "outputs": [],
   "source": [
    "inputs = keras.Input(shape=(*IMG_SIZE, 3))\n",
    "x = base_model(inputs, training=False)\n",
    "x = keras.layers.GlobalAveragePooling2D()(x)\n",
    "x = keras.layers.Dropout(DROPOUT_RATE)(x)\n",
    "outputs = keras.layers.Dense(ONE_HOT_DIMENSIONS, activation='softmax')(x)\n",
    "model = keras.Model(inputs, outputs)"
   ]
  },
  {
   "cell_type": "markdown",
   "id": "c0712a30",
   "metadata": {},
   "source": [
    "Compile model"
   ]
  },
  {
   "cell_type": "code",
   "execution_count": 46,
   "id": "d26edd30",
   "metadata": {},
   "outputs": [
    {
     "name": "stdout",
     "output_type": "stream",
     "text": [
      "Model: \"model\"\n",
      "_________________________________________________________________\n",
      " Layer (type)                Output Shape              Param #   \n",
      "=================================================================\n",
      " input_2 (InputLayer)        [(None, 299, 299, 3)]     0         \n",
      "                                                                 \n",
      " xception (Functional)       (None, 10, 10, 2048)      20861480  \n",
      "                                                                 \n",
      " global_average_pooling2d (G  (None, 2048)             0         \n",
      " lobalAveragePooling2D)                                          \n",
      "                                                                 \n",
      " dropout (Dropout)           (None, 2048)              0         \n",
      "                                                                 \n",
      " dense (Dense)               (None, 4)                 8196      \n",
      "                                                                 \n",
      "=================================================================\n",
      "Total params: 20,869,676\n",
      "Trainable params: 8,196\n",
      "Non-trainable params: 20,861,480\n",
      "_________________________________________________________________\n"
     ]
    }
   ],
   "source": [
    "model.compile(\n",
    "    optimizer=keras.optimizers.Adam(),\n",
    "    loss=keras.losses.SparseCategoricalCrossentropy(),\n",
    "    metrics=['accuracy']\n",
    ")\n",
    "\n",
    "model.summary()"
   ]
  },
  {
   "cell_type": "markdown",
   "id": "00340ed8",
   "metadata": {},
   "source": [
    "Train the model"
   ]
  },
  {
   "cell_type": "code",
   "execution_count": null,
   "id": "251cbaed",
   "metadata": {},
   "outputs": [
    {
     "name": "stdout",
     "output_type": "stream",
     "text": [
      "Epoch 1/10\n",
      "100/100 [==============================] - 32s 298ms/step - loss: 0.8623 - accuracy: 0.6522 - val_loss: 0.6496 - val_accuracy: 0.7325\n",
      "Epoch 2/10\n",
      "100/100 [==============================] - 35s 354ms/step - loss: 0.6344 - accuracy: 0.7528 - val_loss: 0.6037 - val_accuracy: 0.7425\n",
      "Epoch 3/10\n",
      "100/100 [==============================] - 36s 360ms/step - loss: 0.5777 - accuracy: 0.7747 - val_loss: 0.5877 - val_accuracy: 0.7575\n",
      "Epoch 4/10\n",
      "100/100 [==============================] - 36s 359ms/step - loss: 0.5509 - accuracy: 0.7778 - val_loss: 0.5825 - val_accuracy: 0.7575\n",
      "Epoch 5/10\n",
      "100/100 [==============================] - 31s 312ms/step - loss: 0.5256 - accuracy: 0.7950 - val_loss: 0.5817 - val_accuracy: 0.7550\n",
      "Epoch 6/10\n",
      "100/100 [==============================] - 30s 296ms/step - loss: 0.5130 - accuracy: 0.7934 - val_loss: 0.5821 - val_accuracy: 0.7575\n",
      "Epoch 7/10\n",
      "100/100 [==============================] - 30s 296ms/step - loss: 0.4992 - accuracy: 0.8044 - val_loss: 0.5797 - val_accuracy: 0.7600\n",
      "Epoch 8/10\n",
      "100/100 [==============================] - 30s 299ms/step - loss: 0.4849 - accuracy: 0.8147 - val_loss: 0.5785 - val_accuracy: 0.7575\n",
      "Epoch 9/10\n",
      "100/100 [==============================] - 30s 299ms/step - loss: 0.4761 - accuracy: 0.8194 - val_loss: 0.5763 - val_accuracy: 0.7525\n",
      "Epoch 10/10\n",
      "100/100 [==============================] - 30s 300ms/step - loss: 0.4701 - accuracy: 0.8231 - val_loss: 0.5777 - val_accuracy: 0.7500\n"
     ]
    }
   ],
   "source": [
    "history = model.fit(\n",
    "    train_ds,\n",
    "    validation_data=validation_ds,\n",
    "    epochs=EPOCHS\n",
    ")"
   ]
  },
  {
   "cell_type": "markdown",
   "id": "a80894e5",
   "metadata": {},
   "source": [
    "### Loss plot"
   ]
  },
  {
   "cell_type": "code",
   "execution_count": 48,
   "id": "98fb119f",
   "metadata": {},
   "outputs": [
    {
     "data": {
      "image/png": "[encoded data removed]",
      "text/plain": [
       "<Figure size 640x480 with 1 Axes>"
      ]
     },
     "metadata": {},
     "output_type": "display_data"
    }
   ],
   "source": [
    "epochs = range(1, len(history.history['loss']) + 1)\n",
    "\n",
    "plt.figure()\n",
    "plt.plot(epochs, history.history['loss'], label='Training Loss')\n",
    "plt.plot(epochs, history.history['val_loss'], label='Validation Loss')\n",
    "plt.title('Training & Validation Loss')\n",
    "plt.xlabel('Epoch')\n",
    "plt.ylabel('Loss')\n",
    "plt.legend()\n",
    "plt.show()"
   ]
  },
  {
   "cell_type": "markdown",
   "id": "0d713ad7",
   "metadata": {},
   "source": [
    "Both curves fall steeply in the first 2–3 epochs. This means the learning rate and initial model capacity are sufficient to capture the broad structure quickly. After about epoch 3-4 validation loss flattens just below 0.6 whereas training loss keeps decreasing steadily down to below 0.5 by epoch 10.\n",
    "This might indicate overfitting. The model continues to fit the training data better but those gains no longer generalize.\n",
    "The gap between training and validation loss is modest at epoch 3 but grows bigger by epoch 10. A widening gap is also a sign of overfitting."
   ]
  },
  {
   "cell_type": "markdown",
   "id": "b2c5aa8e",
   "metadata": {},
   "source": [
    "### Accuracy plot"
   ]
  },
  {
   "cell_type": "code",
   "execution_count": 49,
   "id": "7c5320dd",
   "metadata": {},
   "outputs": [
    {
     "data": {
      "image/png": "[encoded data removed]",
      "text/plain": [
       "<Figure size 640x480 with 1 Axes>"
      ]
     },
     "metadata": {},
     "output_type": "display_data"
    }
   ],
   "source": [
    "plt.figure()\n",
    "plt.plot(epochs, history.history['accuracy'], label='Training Accuracy')\n",
    "plt.plot(epochs, history.history['val_accuracy'], label='Validation Accuracy')\n",
    "plt.title('Training & Validation Accuracy')\n",
    "plt.xlabel('Epoch')\n",
    "plt.ylabel('Accuracy')\n",
    "plt.legend()\n",
    "plt.show()"
   ]
  },
  {
   "cell_type": "markdown",
   "id": "ebe424a1",
   "metadata": {},
   "source": [
    "Validation accuracy climbs quickly showing the model learns the bulk of generalizable patterns very early. After epoch 3 validation accuracy stagnates and then dips slightly by epoch 10. Meanwhile, training accuracy continues rising reaching ~0.82 at epoch 10.\n",
    "\n",
    "The gap between training and validation accuracy grows from almost nothing at epoch 2 to ~0.07 by epoch 10. This is a sign of overfitting."
   ]
  },
  {
   "cell_type": "code",
   "execution_count": 50,
   "id": "511d2072",
   "metadata": {},
   "outputs": [
    {
     "name": "stdout",
     "output_type": "stream",
     "text": [
      "13/13 [==============================] - 3s 253ms/step - loss: 0.5420 - accuracy: 0.7875\n",
      "Test accuracy: 0.788\n"
     ]
    }
   ],
   "source": [
    "test_loss, test_acc = model.evaluate(test_ds)\n",
    "print(f\"Test accuracy: {test_acc:.3f}\")"
   ]
  },
  {
   "cell_type": "markdown",
   "id": "56c4d4e6",
   "metadata": {},
   "source": [
    "The accuracy is still quite good for the size of the dataset"
   ]
  },
  {
   "cell_type": "markdown",
   "id": "5ea5615b",
   "metadata": {},
   "source": [
    "It is intersting to see what the model does whith less epochs"
   ]
  },
  {
   "cell_type": "markdown",
   "id": "bf58f910",
   "metadata": {},
   "source": [
    "## Model B"
   ]
  },
  {
   "cell_type": "code",
   "execution_count": 57,
   "id": "89db03ef",
   "metadata": {},
   "outputs": [
    {
     "name": "stdout",
     "output_type": "stream",
     "text": [
      "Model: \"model_2\"\n",
      "_________________________________________________________________\n",
      " Layer (type)                Output Shape              Param #   \n",
      "=================================================================\n",
      " input_4 (InputLayer)        [(None, 299, 299, 3)]     0         \n",
      "                                                                 \n",
      " xception (Functional)       (None, 10, 10, 2048)      20861480  \n",
      "                                                                 \n",
      " global_average_pooling2d_2   (None, 2048)             0         \n",
      " (GlobalAveragePooling2D)                                        \n",
      "                                                                 \n",
      " dropout_2 (Dropout)         (None, 2048)              0         \n",
      "                                                                 \n",
      " dense_2 (Dense)             (None, 4)                 8196      \n",
      "                                                                 \n",
      "=================================================================\n",
      "Total params: 20,869,676\n",
      "Trainable params: 8,196\n",
      "Non-trainable params: 20,861,480\n",
      "_________________________________________________________________\n"
     ]
    }
   ],
   "source": [
    "EPOCHS = 4\n",
    "\n",
    "inputs = keras.Input(shape=(*IMG_SIZE, 3))\n",
    "x = base_model(inputs, training=False)\n",
    "x = keras.layers.GlobalAveragePooling2D()(x)\n",
    "x = keras.layers.Dropout(DROPOUT_RATE)(x)\n",
    "outputs = keras.layers.Dense(ONE_HOT_DIMENSIONS, activation='softmax')(x)\n",
    "modelB = keras.Model(inputs, outputs)\n",
    "\n",
    "modelB.compile(\n",
    "    optimizer=keras.optimizers.Adam(),\n",
    "    loss=keras.losses.SparseCategoricalCrossentropy(),\n",
    "    metrics=['accuracy']\n",
    ")\n",
    "\n",
    "modelB.summary()"
   ]
  },
  {
   "cell_type": "code",
   "execution_count": 58,
   "id": "3d50112d",
   "metadata": {},
   "outputs": [
    {
     "name": "stdout",
     "output_type": "stream",
     "text": [
      "Epoch 1/4\n"
     ]
    },
    {
     "name": "stdout",
     "output_type": "stream",
     "text": [
      "100/100 [==============================] - 32s 294ms/step - loss: 0.8676 - accuracy: 0.6472 - val_loss: 0.6518 - val_accuracy: 0.7450\n",
      "Epoch 2/4\n",
      "100/100 [==============================] - 32s 324ms/step - loss: 0.6335 - accuracy: 0.7519 - val_loss: 0.6053 - val_accuracy: 0.7525\n",
      "Epoch 3/4\n",
      "100/100 [==============================] - 35s 349ms/step - loss: 0.5849 - accuracy: 0.7678 - val_loss: 0.5887 - val_accuracy: 0.7625\n",
      "Epoch 4/4\n",
      "100/100 [==============================] - 30s 299ms/step - loss: 0.5505 - accuracy: 0.7819 - val_loss: 0.5823 - val_accuracy: 0.7625\n"
     ]
    }
   ],
   "source": [
    "historyB = modelB.fit(\n",
    "    train_ds,\n",
    "    validation_data=validation_ds,\n",
    "    epochs=EPOCHS\n",
    ")"
   ]
  },
  {
   "cell_type": "code",
   "execution_count": 62,
   "id": "db04d148",
   "metadata": {},
   "outputs": [
    {
     "data": {
      "image/png": "[encoded data removed]",
      "text/plain": [
       "<Figure size 640x480 with 1 Axes>"
      ]
     },
     "metadata": {},
     "output_type": "display_data"
    }
   ],
   "source": [
    "epochsB = range(1, len(historyB.history['loss']) + 1)\n",
    "\n",
    "plt.figure()\n",
    "plt.plot(epochsB, historyB.history['loss'], label='Training Loss')\n",
    "plt.plot(epochsB, historyB.history['val_loss'], label='Validation Loss')\n",
    "plt.title('Training & Validation Loss')\n",
    "plt.xlabel('Epoch')\n",
    "plt.ylabel('Loss')\n",
    "plt.legend()\n",
    "plt.show()"
   ]
  },
  {
   "cell_type": "markdown",
   "id": "105d662d",
   "metadata": {},
   "source": [
    "Training loss and validation loss drop in the first three epochs. Most learnable signals are captured by epoch 3.\n",
    "From epoch 3 to 4 training loss only inches down and validation loss barely budges.\n",
    "There are very little additional generalizable performance.\n",
    "At epoch 4 the gap is small indicating little overfitting"
   ]
  },
  {
   "cell_type": "code",
   "execution_count": 63,
   "id": "c44ba171",
   "metadata": {},
   "outputs": [
    {
     "data": {
      "image/png": "[encoded data removed]",
      "text/plain": [
       "<Figure size 640x480 with 1 Axes>"
      ]
     },
     "metadata": {},
     "output_type": "display_data"
    }
   ],
   "source": [
    "plt.figure()\n",
    "plt.plot(epochsB, historyB.history['accuracy'], label='Training Accuracy')\n",
    "plt.plot(epochsB, historyB.history['val_accuracy'], label='Validation Accuracy')\n",
    "plt.title('Training & Validation Accuracy')\n",
    "plt.xlabel('Epoch')\n",
    "plt.ylabel('Accuracy')\n",
    "plt.legend()\n",
    "plt.show()"
   ]
  },
  {
   "cell_type": "markdown",
   "id": "0d94217d",
   "metadata": {},
   "source": [
    "This accuracy plot tells the same story as the loss plot but with a few extra caveats\n",
    "\n",
    "At epoch 1 to 2 the validation accuracy sits slightly above the training accuracy. By epoch 2 both curves meet around 0.75 showing that most signals are captured very quickly. From epoch 3 to 4 training accuracy climbs a bit.\n",
    "\n",
    "That widening gap at epochs 4 signals the start of overfitting again"
   ]
  },
  {
   "cell_type": "code",
   "execution_count": 64,
   "id": "2dfea69d",
   "metadata": {},
   "outputs": [
    {
     "name": "stdout",
     "output_type": "stream",
     "text": [
      "13/13 [==============================] - 3s 242ms/step - loss: 0.5624 - accuracy: 0.7900\n",
      "Test accuracy: 0.790\n"
     ]
    }
   ],
   "source": [
    "test_loss, test_acc = modelB.evaluate(test_ds)\n",
    "print(f\"Test accuracy: {test_acc:.3f}\")"
   ]
  },
  {
   "cell_type": "markdown",
   "id": "36f2dea9",
   "metadata": {},
   "source": [
    "# Asses Model\n",
    "\n",
    "During this modelling phase 3 models are created.\n",
    "\n",
    "\n",
    "**Previous iteration**\n",
    "- base model: Xception\n",
    "- Training samples: 640\n",
    "- Validation samples: 80\n",
    "- Test samples: 80\n",
    "- DROPOUT_RATE = 0.4\n",
    "- BATCH_SIZE = 32\n",
    "- IMG_SIZE = (299, 299)\n",
    "- AUTOTUNE = tf.data.AUTOTUNE\n",
    "- ONE_HOT_DIMENSIONS = 4\n",
    "- EPOCHS = 10\n",
    "\n",
    "- accuracy on test set: 0.800\n",
    "- model fit time: 1m 8.4s\n",
    "\n",
    "\n",
    "General value for all models\n",
    "- base model: Xception\n",
    "- Training samples: 3200\n",
    "- Validation samples: 400\n",
    "- Test samples: 400\n",
    "- BATCH_SIZE = 32\n",
    "- DROPOUT_RATE = 0.4\n",
    "- IMG_SIZE = (299, 299)\n",
    "- AUTOTUNE = tf.data.AUTOTUNE\n",
    "- ONE_HOT_DIMENSIONS = 4\n",
    "\n",
    "\n",
    "**ModelA**\n",
    "- EPOCHS = 10\n",
    "- accuracy on test set: 0.788\n",
    "- model fit time: 5m 19.4s\n",
    "\n",
    "**ModelB**\n",
    "- EPOCHS = 5\n",
    "- accuracy on test set: 0.790\n",
    "- model fit time: 2m 9.4s\n",
    "\n",
    "\n",
    "\n",
    "## Conclusion\n",
    "Across the previous iterations best model and the two new models, with the same xception backbone and enlarged dataset. is the old model still the best performant on the test set.\n",
    "\n",
    "Although Model B slightly outperforms Model A while cutting training time by more than 50 % both plateau around ~0.79 test accuracy. This suggests most of the easy gains are exracted from a frozen backbone and head only training with this dataset.\n",
    "\n",
    "In the next iteration fine tuning can be tried on the xception top layers, this might be the only impactfull change left with the currect data. Fine tuning might let the model adapt to unique brush strokes in the paintings or compositional styles"
   ]
  },
  {
   "cell_type": "markdown",
   "id": "3cb1ac91",
   "metadata": {},
   "source": [
    "## Save for evaluation\n",
    "Saving the model will not be performed as previous model has not been optimized"
   ]
  },
  {
   "cell_type": "markdown",
   "id": "ff02249d",
   "metadata": {},
   "source": []
  }
 ],
 "metadata": {
  "kernelspec": {
   "display_name": "tf_env",
   "language": "python",
   "name": "python3"
  },
  "language_info": {
   "codemirror_mode": {
    "name": "ipython",
    "version": 3
   },
   "file_extension": ".py",
   "mimetype": "text/x-python",
   "name": "python",
   "nbconvert_exporter": "python",
   "pygments_lexer": "ipython3",
   "version": "3.10.16"
  }
 },
 "nbformat": 4,
 "nbformat_minor": 5
}
