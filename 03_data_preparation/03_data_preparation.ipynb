{
 "cells": [
  {
   "cell_type": "markdown",
   "id": "979df71c",
   "metadata": {},
   "source": [
    "# Data Preparation\n",
    "In this notebook all data preparation steps will be taken with the end goal to produce a clean and ready to use dataset\n",
    "\n",
    "First step is to load the libraries and set global variables"
   ]
  },
  {
   "cell_type": "code",
   "execution_count": 2,
   "id": "abd3b73e",
   "metadata": {},
   "outputs": [],
   "source": [
    "import pandas as pd\n",
    "import os\n",
    "import matplotlib.pyplot as plt\n",
    "from pathlib import Path\n",
    "from PIL import Image\n",
    "\n",
    "SEED=42"
   ]
  },
  {
   "cell_type": "markdown",
   "id": "a93c619a",
   "metadata": {},
   "source": [
    "Now the data can be loaded. The labels will be stored initially in the dataframe and the paths to images will be added later. The seperator used in the csv is a tab"
   ]
  },
  {
   "cell_type": "code",
   "execution_count": 3,
   "id": "25689ebf",
   "metadata": {},
   "outputs": [
    {
     "name": "stdout",
     "output_type": "stream",
     "text": [
      "<class 'pandas.core.frame.DataFrame'>\n",
      "RangeIndex: 43455 entries, 0 to 43454\n",
      "Data columns (total 13 columns):\n",
      " #   Column     Non-Null Count  Dtype \n",
      "---  ------     --------------  ----- \n",
      " 0   ID         43455 non-null  int64 \n",
      " 1   FILE       43454 non-null  object\n",
      " 2   AUTHOR     43455 non-null  object\n",
      " 3   BORN-DIED  43455 non-null  object\n",
      " 4   TITLE      43455 non-null  object\n",
      " 5   DATE       43455 non-null  object\n",
      " 6   TECHNIQUE  43455 non-null  object\n",
      " 7   LOCATION   43455 non-null  object\n",
      " 8   FORM       43455 non-null  object\n",
      " 9   TYPE       43455 non-null  object\n",
      " 10  SCHOOL     43455 non-null  object\n",
      " 11  TIMELINE   43455 non-null  object\n",
      " 12  URL        43455 non-null  object\n",
      "dtypes: int64(1), object(12)\n",
      "memory usage: 4.3+ MB\n"
     ]
    }
   ],
   "source": [
    "image_dir = '../data/toy_dataset/'\n",
    "labels_path = '../data/toy_dataset_label.csv'\n",
    "\n",
    "df = pd.read_csv(labels_path, sep='\\t')\n",
    "df.info()"
   ]
  },
  {
   "cell_type": "code",
   "execution_count": 4,
   "id": "9ebc2614",
   "metadata": {},
   "outputs": [
    {
     "data": {
      "text/html": [
       "<div>\n",
       "<style scoped>\n",
       "    .dataframe tbody tr th:only-of-type {\n",
       "        vertical-align: middle;\n",
       "    }\n",
       "\n",
       "    .dataframe tbody tr th {\n",
       "        vertical-align: top;\n",
       "    }\n",
       "\n",
       "    .dataframe thead th {\n",
       "        text-align: right;\n",
       "    }\n",
       "</style>\n",
       "<table border=\"1\" class=\"dataframe\">\n",
       "  <thead>\n",
       "    <tr style=\"text-align: right;\">\n",
       "      <th></th>\n",
       "      <th>ID</th>\n",
       "      <th>FILE</th>\n",
       "      <th>AUTHOR</th>\n",
       "      <th>BORN-DIED</th>\n",
       "      <th>TITLE</th>\n",
       "      <th>DATE</th>\n",
       "      <th>TECHNIQUE</th>\n",
       "      <th>LOCATION</th>\n",
       "      <th>FORM</th>\n",
       "      <th>TYPE</th>\n",
       "      <th>SCHOOL</th>\n",
       "      <th>TIMELINE</th>\n",
       "      <th>URL</th>\n",
       "    </tr>\n",
       "  </thead>\n",
       "  <tbody>\n",
       "    <tr>\n",
       "      <th>25351</th>\n",
       "      <td>25352</td>\n",
       "      <td>25352.jpg</td>\n",
       "      <td>MERANO, Giovanni Battista</td>\n",
       "      <td>(b. 1632, Genova, d. 1698, Piacenza)</td>\n",
       "      <td>Adoration of the Shepherds</td>\n",
       "      <td>-</td>\n",
       "      <td>Oil on canvas, 111 x 155 cm</td>\n",
       "      <td>Private collection</td>\n",
       "      <td>painting</td>\n",
       "      <td>religious</td>\n",
       "      <td>Italian</td>\n",
       "      <td>1651-1700</td>\n",
       "      <td>http://www.wga.hu/html/m/merano/adorati.html</td>\n",
       "    </tr>\n",
       "    <tr>\n",
       "      <th>35018</th>\n",
       "      <td>35019</td>\n",
       "      <td>35019.jpg</td>\n",
       "      <td>SANDTNER, Carlo</td>\n",
       "      <td>(b. 1591, München, d. 1630, Mantova)</td>\n",
       "      <td>Vault painting</td>\n",
       "      <td>1618</td>\n",
       "      <td>Fresco</td>\n",
       "      <td>Palazzo Ducale, Mantua</td>\n",
       "      <td>painting</td>\n",
       "      <td>interior</td>\n",
       "      <td>German</td>\n",
       "      <td>1601-1650</td>\n",
       "      <td>http://www.wga.hu/html/s/sandtner/vault.html</td>\n",
       "    </tr>\n",
       "    <tr>\n",
       "      <th>9797</th>\n",
       "      <td>9798</td>\n",
       "      <td>9798.jpg</td>\n",
       "      <td>CRANACH, Lucas the Elder</td>\n",
       "      <td>(b. 1472, Kronach, d. 1553, Weimar)</td>\n",
       "      <td>Allegory of Melancholy</td>\n",
       "      <td>1528</td>\n",
       "      <td>Oil and tempera on wood, 113 x 72 cm</td>\n",
       "      <td>National Gallery of Scotland, Edinburgh</td>\n",
       "      <td>painting</td>\n",
       "      <td>mythological</td>\n",
       "      <td>German</td>\n",
       "      <td>1501-1550</td>\n",
       "      <td>http://www.wga.hu/html/c/cranach/lucas_e/10/4m...</td>\n",
       "    </tr>\n",
       "  </tbody>\n",
       "</table>\n",
       "</div>"
      ],
      "text/plain": [
       "          ID       FILE                     AUTHOR  \\\n",
       "25351  25352  25352.jpg  MERANO, Giovanni Battista   \n",
       "35018  35019  35019.jpg            SANDTNER, Carlo   \n",
       "9797    9798   9798.jpg   CRANACH, Lucas the Elder   \n",
       "\n",
       "                                  BORN-DIED                       TITLE  DATE  \\\n",
       "25351  (b. 1632, Genova, d. 1698, Piacenza)  Adoration of the Shepherds     -   \n",
       "35018  (b. 1591, München, d. 1630, Mantova)              Vault painting  1618   \n",
       "9797    (b. 1472, Kronach, d. 1553, Weimar)      Allegory of Melancholy  1528   \n",
       "\n",
       "                                  TECHNIQUE  \\\n",
       "25351           Oil on canvas, 111 x 155 cm   \n",
       "35018                                Fresco   \n",
       "9797   Oil and tempera on wood, 113 x 72 cm   \n",
       "\n",
       "                                      LOCATION      FORM          TYPE  \\\n",
       "25351                       Private collection  painting     religious   \n",
       "35018                   Palazzo Ducale, Mantua  painting      interior   \n",
       "9797   National Gallery of Scotland, Edinburgh  painting  mythological   \n",
       "\n",
       "        SCHOOL   TIMELINE                                                URL  \n",
       "25351  Italian  1651-1700       http://www.wga.hu/html/m/merano/adorati.html  \n",
       "35018   German  1601-1650       http://www.wga.hu/html/s/sandtner/vault.html  \n",
       "9797    German  1501-1550  http://www.wga.hu/html/c/cranach/lucas_e/10/4m...  "
      ]
     },
     "execution_count": 4,
     "metadata": {},
     "output_type": "execute_result"
    }
   ],
   "source": [
    "df.sample(n=3)"
   ]
  },
  {
   "cell_type": "markdown",
   "id": "ed08d64a",
   "metadata": {},
   "source": [
    "The labels are loaded succesfully."
   ]
  },
  {
   "cell_type": "markdown",
   "id": "15d8d492",
   "metadata": {},
   "source": [
    "## Select Data\n",
    "\n",
    "### Columns\n",
    "The columns that need to be included are:\n",
    "- ID\n",
    "- FORM (Only for filtering)\n",
    "- TYPE\n",
    "- FILE\n",
    "\n",
    "With these columns a good first modeling phase can be started too see technical viability"
   ]
  },
  {
   "cell_type": "code",
   "execution_count": 5,
   "id": "5c664bb2",
   "metadata": {},
   "outputs": [
    {
     "name": "stdout",
     "output_type": "stream",
     "text": [
      "<class 'pandas.core.frame.DataFrame'>\n",
      "Index: 43454 entries, 0 to 43453\n",
      "Data columns (total 4 columns):\n",
      " #   Column  Non-Null Count  Dtype \n",
      "---  ------  --------------  ----- \n",
      " 0   ID      43454 non-null  int64 \n",
      " 1   FORM    43454 non-null  object\n",
      " 2   TYPE    43454 non-null  object\n",
      " 3   FILE    43454 non-null  object\n",
      "dtypes: int64(1), object(3)\n",
      "memory usage: 1.7+ MB\n"
     ]
    },
    {
     "data": {
      "text/html": [
       "<div>\n",
       "<style scoped>\n",
       "    .dataframe tbody tr th:only-of-type {\n",
       "        vertical-align: middle;\n",
       "    }\n",
       "\n",
       "    .dataframe tbody tr th {\n",
       "        vertical-align: top;\n",
       "    }\n",
       "\n",
       "    .dataframe thead th {\n",
       "        text-align: right;\n",
       "    }\n",
       "</style>\n",
       "<table border=\"1\" class=\"dataframe\">\n",
       "  <thead>\n",
       "    <tr style=\"text-align: right;\">\n",
       "      <th></th>\n",
       "      <th>ID</th>\n",
       "      <th>FORM</th>\n",
       "      <th>TYPE</th>\n",
       "      <th>FILE</th>\n",
       "    </tr>\n",
       "  </thead>\n",
       "  <tbody>\n",
       "    <tr>\n",
       "      <th>8302</th>\n",
       "      <td>8303</td>\n",
       "      <td>sculpture</td>\n",
       "      <td>portrait</td>\n",
       "      <td>8303.jpg</td>\n",
       "    </tr>\n",
       "    <tr>\n",
       "      <th>41340</th>\n",
       "      <td>41341</td>\n",
       "      <td>painting</td>\n",
       "      <td>genre</td>\n",
       "      <td>41341.jpg</td>\n",
       "    </tr>\n",
       "    <tr>\n",
       "      <th>22598</th>\n",
       "      <td>22599</td>\n",
       "      <td>painting</td>\n",
       "      <td>portrait</td>\n",
       "      <td>22599.jpg</td>\n",
       "    </tr>\n",
       "  </tbody>\n",
       "</table>\n",
       "</div>"
      ],
      "text/plain": [
       "          ID       FORM      TYPE       FILE\n",
       "8302    8303  sculpture  portrait   8303.jpg\n",
       "41340  41341   painting     genre  41341.jpg\n",
       "22598  22599   painting  portrait  22599.jpg"
      ]
     },
     "execution_count": 5,
     "metadata": {},
     "output_type": "execute_result"
    }
   ],
   "source": [
    "# From the .info() it was visible that FILE has one NaN value\n",
    "df = df.dropna(subset=['FILE'])\n",
    "\n",
    "# Create a dataframe with only the relevant columns\n",
    "columns_to_keep = ['ID', 'FORM', 'TYPE', 'FILE']\n",
    "df = df[columns_to_keep]\n",
    "\n",
    "df.info()\n",
    "df.sample(n=3)"
   ]
  },
  {
   "cell_type": "markdown",
   "id": "572b59eb",
   "metadata": {},
   "source": [
    "### Rows\n",
    "- Rows where the `FORM` equals `painting` will be kept\n",
    "- The `TYPE` rows will be filtered to only include `religious`, `portrait`, `landscape`, and `mythological`"
   ]
  },
  {
   "cell_type": "code",
   "execution_count": 6,
   "id": "f0550356",
   "metadata": {},
   "outputs": [
    {
     "name": "stdout",
     "output_type": "stream",
     "text": [
      "<class 'pandas.core.frame.DataFrame'>\n",
      "Index: 23697 entries, 0 to 43446\n",
      "Data columns (total 4 columns):\n",
      " #   Column  Non-Null Count  Dtype \n",
      "---  ------  --------------  ----- \n",
      " 0   ID      23697 non-null  int64 \n",
      " 1   FORM    23697 non-null  object\n",
      " 2   TYPE    23697 non-null  object\n",
      " 3   FILE    23697 non-null  object\n",
      "dtypes: int64(1), object(3)\n",
      "memory usage: 925.7+ KB\n"
     ]
    },
    {
     "data": {
      "text/html": [
       "<div>\n",
       "<style scoped>\n",
       "    .dataframe tbody tr th:only-of-type {\n",
       "        vertical-align: middle;\n",
       "    }\n",
       "\n",
       "    .dataframe tbody tr th {\n",
       "        vertical-align: top;\n",
       "    }\n",
       "\n",
       "    .dataframe thead th {\n",
       "        text-align: right;\n",
       "    }\n",
       "</style>\n",
       "<table border=\"1\" class=\"dataframe\">\n",
       "  <thead>\n",
       "    <tr style=\"text-align: right;\">\n",
       "      <th></th>\n",
       "      <th>ID</th>\n",
       "      <th>FORM</th>\n",
       "      <th>TYPE</th>\n",
       "      <th>FILE</th>\n",
       "    </tr>\n",
       "  </thead>\n",
       "  <tbody>\n",
       "    <tr>\n",
       "      <th>16002</th>\n",
       "      <td>16003</td>\n",
       "      <td>painting</td>\n",
       "      <td>religious</td>\n",
       "      <td>16003.jpg</td>\n",
       "    </tr>\n",
       "    <tr>\n",
       "      <th>12576</th>\n",
       "      <td>12577</td>\n",
       "      <td>painting</td>\n",
       "      <td>religious</td>\n",
       "      <td>12577.jpg</td>\n",
       "    </tr>\n",
       "    <tr>\n",
       "      <th>17466</th>\n",
       "      <td>17467</td>\n",
       "      <td>painting</td>\n",
       "      <td>portrait</td>\n",
       "      <td>17467.jpg</td>\n",
       "    </tr>\n",
       "  </tbody>\n",
       "</table>\n",
       "</div>"
      ],
      "text/plain": [
       "          ID      FORM       TYPE       FILE\n",
       "16002  16003  painting  religious  16003.jpg\n",
       "12576  12577  painting  religious  12577.jpg\n",
       "17466  17467  painting   portrait  17467.jpg"
      ]
     },
     "execution_count": 6,
     "metadata": {},
     "output_type": "execute_result"
    }
   ],
   "source": [
    "# Before this operation the values have to be normalized \n",
    "df['FORM'] = df['FORM'].astype(str).str.strip().str.lower()\n",
    "df['TYPE'] = df['TYPE'].astype(str).str.strip().str.lower()\n",
    "\n",
    "types_to_keep = ['religious', 'portrait', 'landscape', 'mythological']\n",
    "df = df[df['TYPE'].isin(types_to_keep)]\n",
    "\n",
    "df = df[\n",
    "    (df['FORM'] == 'painting') &\n",
    "    (df['TYPE'].isin(types_to_keep))\n",
    "]\n",
    "\n",
    "df.info()\n",
    "df.sample(n=3)"
   ]
  },
  {
   "cell_type": "markdown",
   "id": "e976280a",
   "metadata": {},
   "source": [
    "Now that the filter is applied the FORM column can be dropped. This holds no extra information for the model to use as it is only one repeated value"
   ]
  },
  {
   "cell_type": "code",
   "execution_count": 7,
   "id": "8f9a0f94",
   "metadata": {},
   "outputs": [
    {
     "name": "stdout",
     "output_type": "stream",
     "text": [
      "<class 'pandas.core.frame.DataFrame'>\n",
      "Index: 23697 entries, 0 to 43446\n",
      "Data columns (total 3 columns):\n",
      " #   Column  Non-Null Count  Dtype \n",
      "---  ------  --------------  ----- \n",
      " 0   ID      23697 non-null  int64 \n",
      " 1   TYPE    23697 non-null  object\n",
      " 2   FILE    23697 non-null  object\n",
      "dtypes: int64(1), object(2)\n",
      "memory usage: 740.5+ KB\n"
     ]
    }
   ],
   "source": [
    "df = df.drop('FORM', axis=1)\n",
    "df.info()"
   ]
  },
  {
   "cell_type": "markdown",
   "id": "ab539111",
   "metadata": {},
   "source": [
    "The amount of rows (`23697`) is too high to get initial insights, it is also not evenly distributed as seen in the EDA"
   ]
  },
  {
   "cell_type": "code",
   "execution_count": 8,
   "id": "8315a82f",
   "metadata": {},
   "outputs": [
    {
     "data": {
      "image/png": "[encoded data removed]",
      "text/plain": [
       "<Figure size 640x480 with 1 Axes>"
      ]
     },
     "metadata": {},
     "output_type": "display_data"
    }
   ],
   "source": [
    "plt.figure()\n",
    "df['TYPE'].value_counts().plot.bar()\n",
    "plt.title('Counts by TYPE')\n",
    "plt.ylabel('Number of Artworks')\n",
    "plt.tight_layout()"
   ]
  },
  {
   "cell_type": "markdown",
   "id": "e3d6db74",
   "metadata": {},
   "source": [
    "For every type there should be `1000` rows for a good initial insight into model performance and make model training feasible."
   ]
  },
  {
   "cell_type": "code",
   "execution_count": 9,
   "id": "757ba409",
   "metadata": {},
   "outputs": [],
   "source": [
    "n_samples = 1000\n",
    "\n",
    "# 200 random samples from each TYPE\n",
    "df = df.groupby('TYPE', group_keys=False).apply(lambda x: x.sample(n=n_samples, random_state=SEED))"
   ]
  },
  {
   "cell_type": "code",
   "execution_count": 10,
   "id": "55cacc8f",
   "metadata": {},
   "outputs": [
    {
     "data": {
      "image/png": "[encoded data removed]",
      "text/plain": [
       "<Figure size 640x480 with 1 Axes>"
      ]
     },
     "metadata": {},
     "output_type": "display_data"
    }
   ],
   "source": [
    "plt.figure()\n",
    "df['TYPE'].value_counts().plot.bar()\n",
    "plt.title('Counts by TYPE')\n",
    "plt.ylabel('Number of Artworks')\n",
    "plt.tight_layout()"
   ]
  },
  {
   "cell_type": "markdown",
   "id": "876fabf3",
   "metadata": {},
   "source": [
    "Now the relevant data has been selected the index will be reset"
   ]
  },
  {
   "cell_type": "code",
   "execution_count": 11,
   "id": "221608f7",
   "metadata": {},
   "outputs": [
    {
     "data": {
      "text/html": [
       "<div>\n",
       "<style scoped>\n",
       "    .dataframe tbody tr th:only-of-type {\n",
       "        vertical-align: middle;\n",
       "    }\n",
       "\n",
       "    .dataframe tbody tr th {\n",
       "        vertical-align: top;\n",
       "    }\n",
       "\n",
       "    .dataframe thead th {\n",
       "        text-align: right;\n",
       "    }\n",
       "</style>\n",
       "<table border=\"1\" class=\"dataframe\">\n",
       "  <thead>\n",
       "    <tr style=\"text-align: right;\">\n",
       "      <th></th>\n",
       "      <th>ID</th>\n",
       "      <th>TYPE</th>\n",
       "      <th>FILE</th>\n",
       "    </tr>\n",
       "  </thead>\n",
       "  <tbody>\n",
       "    <tr>\n",
       "      <th>555</th>\n",
       "      <td>42318</td>\n",
       "      <td>landscape</td>\n",
       "      <td>42318.jpg</td>\n",
       "    </tr>\n",
       "    <tr>\n",
       "      <th>3491</th>\n",
       "      <td>5490</td>\n",
       "      <td>religious</td>\n",
       "      <td>5490.jpg</td>\n",
       "    </tr>\n",
       "    <tr>\n",
       "      <th>527</th>\n",
       "      <td>6074</td>\n",
       "      <td>landscape</td>\n",
       "      <td>6074.jpg</td>\n",
       "    </tr>\n",
       "    <tr>\n",
       "      <th>3925</th>\n",
       "      <td>8750</td>\n",
       "      <td>religious</td>\n",
       "      <td>8750.jpg</td>\n",
       "    </tr>\n",
       "    <tr>\n",
       "      <th>2989</th>\n",
       "      <td>18854</td>\n",
       "      <td>portrait</td>\n",
       "      <td>18854.jpg</td>\n",
       "    </tr>\n",
       "  </tbody>\n",
       "</table>\n",
       "</div>"
      ],
      "text/plain": [
       "         ID       TYPE       FILE\n",
       "555   42318  landscape  42318.jpg\n",
       "3491   5490  religious   5490.jpg\n",
       "527    6074  landscape   6074.jpg\n",
       "3925   8750  religious   8750.jpg\n",
       "2989  18854   portrait  18854.jpg"
      ]
     },
     "execution_count": 11,
     "metadata": {},
     "output_type": "execute_result"
    }
   ],
   "source": [
    "df = df.reset_index(drop=True)\n",
    "df.sample(n=5, random_state=SEED)"
   ]
  },
  {
   "cell_type": "markdown",
   "id": "b957cc16",
   "metadata": {},
   "source": [
    "## Clean Data\n",
    "All columns will be transformed to lowercase. Checks will be implemented that throw an error if any value is not lowercase or includes any unwanted spaces"
   ]
  },
  {
   "cell_type": "code",
   "execution_count": 12,
   "id": "df78e540",
   "metadata": {},
   "outputs": [
    {
     "name": "stdout",
     "output_type": "stream",
     "text": [
      "<class 'pandas.core.frame.DataFrame'>\n",
      "RangeIndex: 4000 entries, 0 to 3999\n",
      "Data columns (total 3 columns):\n",
      " #   Column  Non-Null Count  Dtype \n",
      "---  ------  --------------  ----- \n",
      " 0   id      4000 non-null   int64 \n",
      " 1   type    4000 non-null   object\n",
      " 2   file    4000 non-null   object\n",
      "dtypes: int64(1), object(2)\n",
      "memory usage: 93.9+ KB\n"
     ]
    }
   ],
   "source": [
    "df.columns = [col.lower() for col in df.columns]\n",
    "df.info()"
   ]
  },
  {
   "cell_type": "code",
   "execution_count": 13,
   "id": "f5b4bbe3",
   "metadata": {},
   "outputs": [
    {
     "name": "stdout",
     "output_type": "stream",
     "text": [
      "All string values are lowercase and have no leading/trailing whitespace\n"
     ]
    }
   ],
   "source": [
    "def check_df_string_cleanliness(df):\n",
    "    # Check all string/object columns\n",
    "    for col in df.select_dtypes(include=['object', 'string']):\n",
    "        col_notnull = df[col].dropna()\n",
    "        # Check for lowercase\n",
    "        if not col_notnull.apply(lambda x: x == x.lower()).all():\n",
    "            raise ValueError(f\"Column '{col}' contains non-lowercase string values.\")\n",
    "        # Check for leading/trailing whitespace\n",
    "        if not col_notnull.apply(lambda x: x == x.strip()).all():\n",
    "            raise ValueError(f\"Column '{col}' contains leading or trailing whitespace.\")\n",
    "    print(\"All string values are lowercase and have no leading/trailing whitespace\")\n",
    "\n",
    "check_df_string_cleanliness(df)"
   ]
  },
  {
   "cell_type": "markdown",
   "id": "ab232313",
   "metadata": {},
   "source": [
    "All column names and values within the rows are now lowercase and without spaces. \n",
    "\n",
    "The last step is to change the DType for `form` and `type` to categorical"
   ]
  },
  {
   "cell_type": "code",
   "execution_count": 14,
   "id": "d57adabd",
   "metadata": {},
   "outputs": [
    {
     "name": "stdout",
     "output_type": "stream",
     "text": [
      "Number of unique values for column type: 4\n",
      "<class 'pandas.core.frame.DataFrame'>\n",
      "RangeIndex: 4000 entries, 0 to 3999\n",
      "Data columns (total 3 columns):\n",
      " #   Column  Non-Null Count  Dtype   \n",
      "---  ------  --------------  -----   \n",
      " 0   id      4000 non-null   int64   \n",
      " 1   type    4000 non-null   category\n",
      " 2   file    4000 non-null   object  \n",
      "dtypes: category(1), int64(1), object(1)\n",
      "memory usage: 66.7+ KB\n"
     ]
    }
   ],
   "source": [
    "categorical_cols = ['type']\n",
    "\n",
    "for col in categorical_cols:\n",
    "    df[col] = df[col].astype('category')\n",
    "    print(f\"Number of unique values for column {col}: {df[col].nunique()}\")\n",
    "\n",
    "df.info()"
   ]
  },
  {
   "cell_type": "markdown",
   "id": "5a8313e8",
   "metadata": {},
   "source": [
    "## Construct Data\n",
    "\n",
    "From the `file` column an `image_path` column can be created to load the images at the moment they are needed from the central storage"
   ]
  },
  {
   "cell_type": "code",
   "execution_count": 15,
   "id": "a5dea234",
   "metadata": {},
   "outputs": [
    {
     "name": "stdout",
     "output_type": "stream",
     "text": [
      "<class 'pandas.core.frame.DataFrame'>\n",
      "RangeIndex: 4000 entries, 0 to 3999\n",
      "Data columns (total 4 columns):\n",
      " #   Column      Non-Null Count  Dtype   \n",
      "---  ------      --------------  -----   \n",
      " 0   id          4000 non-null   int64   \n",
      " 1   type        4000 non-null   category\n",
      " 2   file        4000 non-null   object  \n",
      " 3   image_path  4000 non-null   object  \n",
      "dtypes: category(1), int64(1), object(2)\n",
      "memory usage: 98.0+ KB\n"
     ]
    }
   ],
   "source": [
    "df['image_path'] = df['file'].apply(lambda x: os.path.join(image_dir, x))\n",
    "df.info()"
   ]
  },
  {
   "cell_type": "markdown",
   "id": "2a31e77e",
   "metadata": {},
   "source": [
    "The file column will be dropped as to not have duplicate information"
   ]
  },
  {
   "cell_type": "code",
   "execution_count": 16,
   "id": "fa2629cb",
   "metadata": {},
   "outputs": [],
   "source": [
    "df = df.drop('file', axis=1)"
   ]
  },
  {
   "cell_type": "code",
   "execution_count": 17,
   "id": "0d1d387c",
   "metadata": {},
   "outputs": [
    {
     "name": "stdout",
     "output_type": "stream",
     "text": [
      "All paths in 'image_path' exist and are correctly formatted.\n"
     ]
    }
   ],
   "source": [
    "def check_df_image_path(df, image_path_col):\n",
    "# Check if image paths exist and are valid\n",
    "    if image_path_col in df.columns:\n",
    "        missing_paths = df[~df[image_path_col].dropna().apply(os.path.exists)]\n",
    "        if not missing_paths.empty:\n",
    "            raise ValueError(\n",
    "                f\"Some paths in '{image_path_col}' do not exist. Example(s):\\n{missing_paths[image_path_col].head()}\"\n",
    "            )\n",
    "        print(f\"All paths in '{image_path_col}' exist and are correctly formatted.\")\n",
    "    else:\n",
    "        print(f\"Column '{image_path_col}' not found in DataFrame.\")\n",
    "\n",
    "\n",
    "check_df_image_path(df=df, image_path_col='image_path')"
   ]
  },
  {
   "cell_type": "markdown",
   "id": "de6547d1",
   "metadata": {},
   "source": [
    "From the EDA it is known that 2 rows did not have an image available. With the above check it is confirmed that those images are not part of this subset."
   ]
  },
  {
   "cell_type": "markdown",
   "id": "e8571392",
   "metadata": {},
   "source": [
    "## Integrate Data\n",
    "\n",
    "During this iteration there is no;\n",
    "- merging or external tables\n",
    "- no aggregating or grouping\n",
    "- no joins"
   ]
  },
  {
   "cell_type": "markdown",
   "id": "3e71235d",
   "metadata": {},
   "source": [
    "## Format Data\n",
    "\n",
    "Here the dataset is finalized for modeling by performing the following:\n",
    "\n",
    "- One-hot encoding of categorical variables (`type`) for compatibility with machine learning models\n",
    "- Shuffling the dataframe to avoid ordering bias during training and validation splits\n",
    "- Documenting image resizing to ensure compatibility with CNN models"
   ]
  },
  {
   "cell_type": "code",
   "execution_count": 18,
   "id": "6a970b68",
   "metadata": {},
   "outputs": [
    {
     "data": {
      "text/html": [
       "<div>\n",
       "<style scoped>\n",
       "    .dataframe tbody tr th:only-of-type {\n",
       "        vertical-align: middle;\n",
       "    }\n",
       "\n",
       "    .dataframe tbody tr th {\n",
       "        vertical-align: top;\n",
       "    }\n",
       "\n",
       "    .dataframe thead th {\n",
       "        text-align: right;\n",
       "    }\n",
       "</style>\n",
       "<table border=\"1\" class=\"dataframe\">\n",
       "  <thead>\n",
       "    <tr style=\"text-align: right;\">\n",
       "      <th></th>\n",
       "      <th>id</th>\n",
       "      <th>image_path</th>\n",
       "      <th>type_landscape</th>\n",
       "      <th>type_mythological</th>\n",
       "      <th>type_portrait</th>\n",
       "      <th>type_religious</th>\n",
       "    </tr>\n",
       "  </thead>\n",
       "  <tbody>\n",
       "    <tr>\n",
       "      <th>555</th>\n",
       "      <td>35811</td>\n",
       "      <td>../data/toy_dataset/35811.jpg</td>\n",
       "      <td>False</td>\n",
       "      <td>False</td>\n",
       "      <td>True</td>\n",
       "      <td>False</td>\n",
       "    </tr>\n",
       "    <tr>\n",
       "      <th>3491</th>\n",
       "      <td>7625</td>\n",
       "      <td>../data/toy_dataset/7625.jpg</td>\n",
       "      <td>False</td>\n",
       "      <td>False</td>\n",
       "      <td>True</td>\n",
       "      <td>False</td>\n",
       "    </tr>\n",
       "    <tr>\n",
       "      <th>527</th>\n",
       "      <td>40728</td>\n",
       "      <td>../data/toy_dataset/40728.jpg</td>\n",
       "      <td>False</td>\n",
       "      <td>True</td>\n",
       "      <td>False</td>\n",
       "      <td>False</td>\n",
       "    </tr>\n",
       "  </tbody>\n",
       "</table>\n",
       "</div>"
      ],
      "text/plain": [
       "         id                     image_path  type_landscape  type_mythological  \\\n",
       "555   35811  ../data/toy_dataset/35811.jpg           False              False   \n",
       "3491   7625   ../data/toy_dataset/7625.jpg           False              False   \n",
       "527   40728  ../data/toy_dataset/40728.jpg           False               True   \n",
       "\n",
       "      type_portrait  type_religious  \n",
       "555            True           False  \n",
       "3491           True           False  \n",
       "527           False           False  "
      ]
     },
     "execution_count": 18,
     "metadata": {},
     "output_type": "execute_result"
    }
   ],
   "source": [
    "# one hot encoding\n",
    "df_encoded = pd.get_dummies(df, columns=['type'])\n",
    "\n",
    "# Shuffle\n",
    "df_encoded = df_encoded.sample(frac=1, random_state=SEED).reset_index(drop=True)\n",
    "\n",
    "df_encoded.sample(n=3, random_state=SEED)"
   ]
  },
  {
   "cell_type": "markdown",
   "id": "9bef10d1",
   "metadata": {},
   "source": [
    "**Image REsizing**\n",
    "\n",
    "For compatibility with CNNs all images must be standardized to a fixed size. This is currently not the case as seen in the EDA\n",
    "\n",
    "To maximize flexibility and avoid unnecessary disk usage images will be resized on the fly during model training and inference. No image files will be modified or overwritten during the data preparation\n",
    "\n",
    "The image resizing function will be defined and applied as part of the pipeline in the modeling phase"
   ]
  },
  {
   "cell_type": "code",
   "execution_count": 20,
   "id": "3031e1b8",
   "metadata": {},
   "outputs": [
    {
     "name": "stdout",
     "output_type": "stream",
     "text": [
      "<class 'pandas.core.frame.DataFrame'>\n",
      "RangeIndex: 4000 entries, 0 to 3999\n",
      "Data columns (total 6 columns):\n",
      " #   Column             Non-Null Count  Dtype \n",
      "---  ------             --------------  ----- \n",
      " 0   id                 4000 non-null   int64 \n",
      " 1   image_path         4000 non-null   object\n",
      " 2   type_landscape     4000 non-null   bool  \n",
      " 3   type_mythological  4000 non-null   bool  \n",
      " 4   type_portrait      4000 non-null   bool  \n",
      " 5   type_religious     4000 non-null   bool  \n",
      "dtypes: bool(4), int64(1), object(1)\n",
      "memory usage: 78.3+ KB\n"
     ]
    }
   ],
   "source": [
    "df_encoded.info()"
   ]
  },
  {
   "cell_type": "markdown",
   "id": "041c99a0",
   "metadata": {},
   "source": [
    "# Saving the dataframe"
   ]
  },
  {
   "cell_type": "code",
   "execution_count": 19,
   "id": "ef897388",
   "metadata": {},
   "outputs": [
    {
     "name": "stdout",
     "output_type": "stream",
     "text": [
      "DataFrame successfully saved to ../data/processed/prepared_art500k_subset_paintings.pkl\n"
     ]
    }
   ],
   "source": [
    "output_dir = \"../data/processed/\"\n",
    "os.makedirs(output_dir, exist_ok=True)\n",
    "\n",
    "pkl_path = os.path.join(output_dir, \"prepared_art500k_subset_paintings.pkl\")\n",
    "df_encoded.to_pickle(pkl_path)\n",
    "\n",
    "print(f\"DataFrame successfully saved to {pkl_path}\")"
   ]
  },
  {
   "cell_type": "code",
   "execution_count": null,
   "id": "18b9c652",
   "metadata": {},
   "outputs": [],
   "source": []
  }
 ],
 "metadata": {
  "kernelspec": {
   "display_name": "Python 3",
   "language": "python",
   "name": "python3"
  },
  "language_info": {
   "codemirror_mode": {
    "name": "ipython",
    "version": 3
   },
   "file_extension": ".py",
   "mimetype": "text/x-python",
   "name": "python",
   "nbconvert_exporter": "python",
   "pygments_lexer": "ipython3",
   "version": "3.11.9"
  }
 },
 "nbformat": 4,
 "nbformat_minor": 5
}
