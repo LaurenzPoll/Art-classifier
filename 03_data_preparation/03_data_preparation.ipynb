{
 "cells": [
  {
   "cell_type": "markdown",
   "id": "979df71c",
   "metadata": {},
   "source": [
    "# Data Preparation\n",
    "In this notebook all data preparation steps will be taken with the end goal to produce a clean and ready to use dataset\n",
    "\n",
    "First step is to load the libraries and set global variables"
   ]
  },
  {
   "cell_type": "code",
   "execution_count": 80,
   "id": "abd3b73e",
   "metadata": {},
   "outputs": [],
   "source": [
    "import pandas as pd\n",
    "import os\n",
    "import matplotlib.pyplot as plt\n",
    "from pathlib import Path\n",
    "from PIL import Image\n",
    "\n",
    "SEED=42"
   ]
  },
  {
   "cell_type": "markdown",
   "id": "a93c619a",
   "metadata": {},
   "source": [
    "Now the data can be loaded. The labels will be stored initially in the dataframe and the paths to images will be added later. The seperator used in the csv is a tab"
   ]
  },
  {
   "cell_type": "code",
   "execution_count": 81,
   "id": "25689ebf",
   "metadata": {},
   "outputs": [
    {
     "name": "stdout",
     "output_type": "stream",
     "text": [
      "<class 'pandas.core.frame.DataFrame'>\n",
      "RangeIndex: 43455 entries, 0 to 43454\n",
      "Data columns (total 13 columns):\n",
      " #   Column     Non-Null Count  Dtype \n",
      "---  ------     --------------  ----- \n",
      " 0   ID         43455 non-null  int64 \n",
      " 1   FILE       43454 non-null  object\n",
      " 2   AUTHOR     43455 non-null  object\n",
      " 3   BORN-DIED  43455 non-null  object\n",
      " 4   TITLE      43455 non-null  object\n",
      " 5   DATE       43455 non-null  object\n",
      " 6   TECHNIQUE  43455 non-null  object\n",
      " 7   LOCATION   43455 non-null  object\n",
      " 8   FORM       43455 non-null  object\n",
      " 9   TYPE       43455 non-null  object\n",
      " 10  SCHOOL     43455 non-null  object\n",
      " 11  TIMELINE   43455 non-null  object\n",
      " 12  URL        43455 non-null  object\n",
      "dtypes: int64(1), object(12)\n",
      "memory usage: 4.3+ MB\n"
     ]
    }
   ],
   "source": [
    "image_dir = '../data/toy_dataset/'\n",
    "labels_path = '../data/toy_dataset_label.csv'\n",
    "\n",
    "df = pd.read_csv(labels_path, sep='\\t')\n",
    "df.info()"
   ]
  },
  {
   "cell_type": "code",
   "execution_count": 82,
   "id": "9ebc2614",
   "metadata": {},
   "outputs": [
    {
     "data": {
      "text/html": [
       "<div>\n",
       "<style scoped>\n",
       "    .dataframe tbody tr th:only-of-type {\n",
       "        vertical-align: middle;\n",
       "    }\n",
       "\n",
       "    .dataframe tbody tr th {\n",
       "        vertical-align: top;\n",
       "    }\n",
       "\n",
       "    .dataframe thead th {\n",
       "        text-align: right;\n",
       "    }\n",
       "</style>\n",
       "<table border=\"1\" class=\"dataframe\">\n",
       "  <thead>\n",
       "    <tr style=\"text-align: right;\">\n",
       "      <th></th>\n",
       "      <th>ID</th>\n",
       "      <th>FILE</th>\n",
       "      <th>AUTHOR</th>\n",
       "      <th>BORN-DIED</th>\n",
       "      <th>TITLE</th>\n",
       "      <th>DATE</th>\n",
       "      <th>TECHNIQUE</th>\n",
       "      <th>LOCATION</th>\n",
       "      <th>FORM</th>\n",
       "      <th>TYPE</th>\n",
       "      <th>SCHOOL</th>\n",
       "      <th>TIMELINE</th>\n",
       "      <th>URL</th>\n",
       "    </tr>\n",
       "  </thead>\n",
       "  <tbody>\n",
       "    <tr>\n",
       "      <th>10675</th>\n",
       "      <td>10676</td>\n",
       "      <td>10676.jpg</td>\n",
       "      <td>DEGAS, Edgar</td>\n",
       "      <td>(b. 1834, Paris, d. 1917, Paris)</td>\n",
       "      <td>Racehorses in Longchamps</td>\n",
       "      <td>c. 1874</td>\n",
       "      <td>Oil on canvas, 34 x 42 cm</td>\n",
       "      <td>Museum of Fine Arts, Boston</td>\n",
       "      <td>painting</td>\n",
       "      <td>other</td>\n",
       "      <td>French</td>\n",
       "      <td>1851-1900</td>\n",
       "      <td>http://www.wga.hu/html/d/degas/2/1870s_18.html</td>\n",
       "    </tr>\n",
       "    <tr>\n",
       "      <th>41799</th>\n",
       "      <td>41800</td>\n",
       "      <td>41800.jpg</td>\n",
       "      <td>VERVLOET, Frans</td>\n",
       "      <td>(b. 1795, Mechelen, d. 1872, Venezia)</td>\n",
       "      <td>View of the Palazzo Ducale and the Riva degli ...</td>\n",
       "      <td>1830</td>\n",
       "      <td>Oil on canvas, 30 x 42 cm</td>\n",
       "      <td>Private collection</td>\n",
       "      <td>painting</td>\n",
       "      <td>landscape</td>\n",
       "      <td>Belgian</td>\n",
       "      <td>1801-1850</td>\n",
       "      <td>http://www.wga.hu/html/v/vervloet/venice2.html</td>\n",
       "    </tr>\n",
       "    <tr>\n",
       "      <th>24953</th>\n",
       "      <td>24954</td>\n",
       "      <td>24954.jpg</td>\n",
       "      <td>MEISSONNIER, Juste-Aurèle</td>\n",
       "      <td>(b. 1698, Torino, d. 1750, Paris)</td>\n",
       "      <td>Design of a Couch for Count Bilenski</td>\n",
       "      <td>1735</td>\n",
       "      <td>Pen, brush, Indian ink and watercolour, 233 x ...</td>\n",
       "      <td>The Hermitage, St. Petersburg</td>\n",
       "      <td>graphics</td>\n",
       "      <td>study</td>\n",
       "      <td>French</td>\n",
       "      <td>1701-1750</td>\n",
       "      <td>http://www.wga.hu/html/m/meissonn/design1.html</td>\n",
       "    </tr>\n",
       "  </tbody>\n",
       "</table>\n",
       "</div>"
      ],
      "text/plain": [
       "          ID       FILE                     AUTHOR  \\\n",
       "10675  10676  10676.jpg               DEGAS, Edgar   \n",
       "41799  41800  41800.jpg            VERVLOET, Frans   \n",
       "24953  24954  24954.jpg  MEISSONNIER, Juste-Aurèle   \n",
       "\n",
       "                                   BORN-DIED  \\\n",
       "10675       (b. 1834, Paris, d. 1917, Paris)   \n",
       "41799  (b. 1795, Mechelen, d. 1872, Venezia)   \n",
       "24953      (b. 1698, Torino, d. 1750, Paris)   \n",
       "\n",
       "                                                   TITLE     DATE  \\\n",
       "10675                           Racehorses in Longchamps  c. 1874   \n",
       "41799  View of the Palazzo Ducale and the Riva degli ...     1830   \n",
       "24953               Design of a Couch for Count Bilenski     1735   \n",
       "\n",
       "                                               TECHNIQUE  \\\n",
       "10675                          Oil on canvas, 34 x 42 cm   \n",
       "41799                          Oil on canvas, 30 x 42 cm   \n",
       "24953  Pen, brush, Indian ink and watercolour, 233 x ...   \n",
       "\n",
       "                            LOCATION      FORM       TYPE   SCHOOL   TIMELINE  \\\n",
       "10675    Museum of Fine Arts, Boston  painting      other   French  1851-1900   \n",
       "41799             Private collection  painting  landscape  Belgian  1801-1850   \n",
       "24953  The Hermitage, St. Petersburg  graphics      study   French  1701-1750   \n",
       "\n",
       "                                                  URL  \n",
       "10675  http://www.wga.hu/html/d/degas/2/1870s_18.html  \n",
       "41799  http://www.wga.hu/html/v/vervloet/venice2.html  \n",
       "24953  http://www.wga.hu/html/m/meissonn/design1.html  "
      ]
     },
     "execution_count": 82,
     "metadata": {},
     "output_type": "execute_result"
    }
   ],
   "source": [
    "df.sample(n=3)"
   ]
  },
  {
   "cell_type": "markdown",
   "id": "ed08d64a",
   "metadata": {},
   "source": [
    "The labels are loaded succesfully."
   ]
  },
  {
   "cell_type": "markdown",
   "id": "15d8d492",
   "metadata": {},
   "source": [
    "## Select Data\n",
    "\n",
    "### Columns\n",
    "The columns that need to be included are:\n",
    "- ID\n",
    "- FORM (Only for filtering)\n",
    "- TYPE\n",
    "- FILE\n",
    "\n",
    "With these columns a good first modeling phase can be started too see technical viability"
   ]
  },
  {
   "cell_type": "code",
   "execution_count": 83,
   "id": "5c664bb2",
   "metadata": {},
   "outputs": [
    {
     "name": "stdout",
     "output_type": "stream",
     "text": [
      "<class 'pandas.core.frame.DataFrame'>\n",
      "Index: 43454 entries, 0 to 43453\n",
      "Data columns (total 4 columns):\n",
      " #   Column  Non-Null Count  Dtype \n",
      "---  ------  --------------  ----- \n",
      " 0   ID      43454 non-null  int64 \n",
      " 1   FORM    43454 non-null  object\n",
      " 2   TYPE    43454 non-null  object\n",
      " 3   FILE    43454 non-null  object\n",
      "dtypes: int64(1), object(3)\n",
      "memory usage: 1.7+ MB\n"
     ]
    },
    {
     "data": {
      "text/html": [
       "<div>\n",
       "<style scoped>\n",
       "    .dataframe tbody tr th:only-of-type {\n",
       "        vertical-align: middle;\n",
       "    }\n",
       "\n",
       "    .dataframe tbody tr th {\n",
       "        vertical-align: top;\n",
       "    }\n",
       "\n",
       "    .dataframe thead th {\n",
       "        text-align: right;\n",
       "    }\n",
       "</style>\n",
       "<table border=\"1\" class=\"dataframe\">\n",
       "  <thead>\n",
       "    <tr style=\"text-align: right;\">\n",
       "      <th></th>\n",
       "      <th>ID</th>\n",
       "      <th>FORM</th>\n",
       "      <th>TYPE</th>\n",
       "      <th>FILE</th>\n",
       "    </tr>\n",
       "  </thead>\n",
       "  <tbody>\n",
       "    <tr>\n",
       "      <th>11538</th>\n",
       "      <td>11539</td>\n",
       "      <td>painting</td>\n",
       "      <td>portrait</td>\n",
       "      <td>11539.jpg</td>\n",
       "    </tr>\n",
       "    <tr>\n",
       "      <th>8687</th>\n",
       "      <td>8688</td>\n",
       "      <td>sculpture</td>\n",
       "      <td>mythological</td>\n",
       "      <td>8688.jpg</td>\n",
       "    </tr>\n",
       "    <tr>\n",
       "      <th>35034</th>\n",
       "      <td>35035</td>\n",
       "      <td>architecture</td>\n",
       "      <td>other</td>\n",
       "      <td>35035.jpg</td>\n",
       "    </tr>\n",
       "  </tbody>\n",
       "</table>\n",
       "</div>"
      ],
      "text/plain": [
       "          ID          FORM          TYPE       FILE\n",
       "11538  11539      painting      portrait  11539.jpg\n",
       "8687    8688     sculpture  mythological   8688.jpg\n",
       "35034  35035  architecture         other  35035.jpg"
      ]
     },
     "execution_count": 83,
     "metadata": {},
     "output_type": "execute_result"
    }
   ],
   "source": [
    "# From the .info() it was visible that FILE has one NaN value\n",
    "df = df.dropna(subset=['FILE'])\n",
    "\n",
    "# Create a dataframe with only the relevant columns\n",
    "columns_to_keep = ['ID', 'FORM', 'TYPE', 'FILE']\n",
    "df = df[columns_to_keep]\n",
    "\n",
    "df.info()\n",
    "df.sample(n=3)"
   ]
  },
  {
   "cell_type": "markdown",
   "id": "572b59eb",
   "metadata": {},
   "source": [
    "### Rows\n",
    "- Rows where the `FORM` equals `painting` will be kept\n",
    "- The `TYPE` rows will be filtered to only include `religious`, `portrait`, `landscape`, and `mythological`"
   ]
  },
  {
   "cell_type": "code",
   "execution_count": 84,
   "id": "f0550356",
   "metadata": {},
   "outputs": [
    {
     "name": "stdout",
     "output_type": "stream",
     "text": [
      "<class 'pandas.core.frame.DataFrame'>\n",
      "Index: 23697 entries, 0 to 43446\n",
      "Data columns (total 4 columns):\n",
      " #   Column  Non-Null Count  Dtype \n",
      "---  ------  --------------  ----- \n",
      " 0   ID      23697 non-null  int64 \n",
      " 1   FORM    23697 non-null  object\n",
      " 2   TYPE    23697 non-null  object\n",
      " 3   FILE    23697 non-null  object\n",
      "dtypes: int64(1), object(3)\n",
      "memory usage: 925.7+ KB\n"
     ]
    },
    {
     "data": {
      "text/html": [
       "<div>\n",
       "<style scoped>\n",
       "    .dataframe tbody tr th:only-of-type {\n",
       "        vertical-align: middle;\n",
       "    }\n",
       "\n",
       "    .dataframe tbody tr th {\n",
       "        vertical-align: top;\n",
       "    }\n",
       "\n",
       "    .dataframe thead th {\n",
       "        text-align: right;\n",
       "    }\n",
       "</style>\n",
       "<table border=\"1\" class=\"dataframe\">\n",
       "  <thead>\n",
       "    <tr style=\"text-align: right;\">\n",
       "      <th></th>\n",
       "      <th>ID</th>\n",
       "      <th>FORM</th>\n",
       "      <th>TYPE</th>\n",
       "      <th>FILE</th>\n",
       "    </tr>\n",
       "  </thead>\n",
       "  <tbody>\n",
       "    <tr>\n",
       "      <th>9759</th>\n",
       "      <td>9760</td>\n",
       "      <td>painting</td>\n",
       "      <td>mythological</td>\n",
       "      <td>9760.jpg</td>\n",
       "    </tr>\n",
       "    <tr>\n",
       "      <th>19557</th>\n",
       "      <td>19558</td>\n",
       "      <td>painting</td>\n",
       "      <td>mythological</td>\n",
       "      <td>19558.jpg</td>\n",
       "    </tr>\n",
       "    <tr>\n",
       "      <th>8643</th>\n",
       "      <td>8644</td>\n",
       "      <td>painting</td>\n",
       "      <td>portrait</td>\n",
       "      <td>8644.jpg</td>\n",
       "    </tr>\n",
       "  </tbody>\n",
       "</table>\n",
       "</div>"
      ],
      "text/plain": [
       "          ID      FORM          TYPE       FILE\n",
       "9759    9760  painting  mythological   9760.jpg\n",
       "19557  19558  painting  mythological  19558.jpg\n",
       "8643    8644  painting      portrait   8644.jpg"
      ]
     },
     "execution_count": 84,
     "metadata": {},
     "output_type": "execute_result"
    }
   ],
   "source": [
    "# Before this operation the values have to be normalized \n",
    "df['FORM'] = df['FORM'].astype(str).str.strip().str.lower()\n",
    "df['TYPE'] = df['TYPE'].astype(str).str.strip().str.lower()\n",
    "\n",
    "types_to_keep = ['religious', 'portrait', 'landscape', 'mythological']\n",
    "df = df[df['TYPE'].isin(types_to_keep)]\n",
    "\n",
    "df = df[\n",
    "    (df['FORM'] == 'painting') &\n",
    "    (df['TYPE'].isin(types_to_keep))\n",
    "]\n",
    "\n",
    "df.info()\n",
    "df.sample(n=3)"
   ]
  },
  {
   "cell_type": "markdown",
   "id": "e976280a",
   "metadata": {},
   "source": [
    "Now that the filter is applied the FORM column can be dropped. This holds no extra information for the model to use as it is only one repeated value"
   ]
  },
  {
   "cell_type": "code",
   "execution_count": 85,
   "id": "8f9a0f94",
   "metadata": {},
   "outputs": [
    {
     "name": "stdout",
     "output_type": "stream",
     "text": [
      "<class 'pandas.core.frame.DataFrame'>\n",
      "Index: 23697 entries, 0 to 43446\n",
      "Data columns (total 3 columns):\n",
      " #   Column  Non-Null Count  Dtype \n",
      "---  ------  --------------  ----- \n",
      " 0   ID      23697 non-null  int64 \n",
      " 1   TYPE    23697 non-null  object\n",
      " 2   FILE    23697 non-null  object\n",
      "dtypes: int64(1), object(2)\n",
      "memory usage: 740.5+ KB\n"
     ]
    }
   ],
   "source": [
    "df = df.drop('FORM', axis=1)\n",
    "df.info()"
   ]
  },
  {
   "cell_type": "markdown",
   "id": "ab539111",
   "metadata": {},
   "source": [
    "The amount of rows (`23697`) is too high to get initial insights, it is also not evenly distributed as seen in the EDA"
   ]
  },
  {
   "cell_type": "code",
   "execution_count": 86,
   "id": "8315a82f",
   "metadata": {},
   "outputs": [
    {
     "data": {
      "image/png": "[encoded data removed]",
      "text/plain": [
       "<Figure size 640x480 with 1 Axes>"
      ]
     },
     "metadata": {},
     "output_type": "display_data"
    }
   ],
   "source": [
    "plt.figure()\n",
    "df['TYPE'].value_counts().plot.bar()\n",
    "plt.title('Counts by TYPE')\n",
    "plt.ylabel('Number of Artworks')\n",
    "plt.tight_layout()"
   ]
  },
  {
   "cell_type": "markdown",
   "id": "e3d6db74",
   "metadata": {},
   "source": [
    "For every type there should be `200` rows for a good initial insight into model performance and make model training feasible."
   ]
  },
  {
   "cell_type": "code",
   "execution_count": 87,
   "id": "757ba409",
   "metadata": {},
   "outputs": [],
   "source": [
    "n_samples = 200\n",
    "\n",
    "# 200 random samples from each TYPE\n",
    "df = df.groupby('TYPE', group_keys=False).apply(lambda x: x.sample(n=n_samples, random_state=SEED))"
   ]
  },
  {
   "cell_type": "code",
   "execution_count": 88,
   "id": "55cacc8f",
   "metadata": {},
   "outputs": [
    {
     "data": {
      "image/png": "[encoded data removed]",
      "text/plain": [
       "<Figure size 640x480 with 1 Axes>"
      ]
     },
     "metadata": {},
     "output_type": "display_data"
    }
   ],
   "source": [
    "plt.figure()\n",
    "df['TYPE'].value_counts().plot.bar()\n",
    "plt.title('Counts by TYPE')\n",
    "plt.ylabel('Number of Artworks')\n",
    "plt.tight_layout()"
   ]
  },
  {
   "cell_type": "markdown",
   "id": "876fabf3",
   "metadata": {},
   "source": [
    "Now the relevant data has been selected the index will be reset"
   ]
  },
  {
   "cell_type": "code",
   "execution_count": 89,
   "id": "221608f7",
   "metadata": {},
   "outputs": [
    {
     "data": {
      "text/html": [
       "<div>\n",
       "<style scoped>\n",
       "    .dataframe tbody tr th:only-of-type {\n",
       "        vertical-align: middle;\n",
       "    }\n",
       "\n",
       "    .dataframe tbody tr th {\n",
       "        vertical-align: top;\n",
       "    }\n",
       "\n",
       "    .dataframe thead th {\n",
       "        text-align: right;\n",
       "    }\n",
       "</style>\n",
       "<table border=\"1\" class=\"dataframe\">\n",
       "  <thead>\n",
       "    <tr style=\"text-align: right;\">\n",
       "      <th></th>\n",
       "      <th>ID</th>\n",
       "      <th>TYPE</th>\n",
       "      <th>FILE</th>\n",
       "    </tr>\n",
       "  </thead>\n",
       "  <tbody>\n",
       "    <tr>\n",
       "      <th>696</th>\n",
       "      <td>14924</td>\n",
       "      <td>religious</td>\n",
       "      <td>14924.jpg</td>\n",
       "    </tr>\n",
       "    <tr>\n",
       "      <th>667</th>\n",
       "      <td>37376</td>\n",
       "      <td>religious</td>\n",
       "      <td>37376.jpg</td>\n",
       "    </tr>\n",
       "    <tr>\n",
       "      <th>63</th>\n",
       "      <td>5971</td>\n",
       "      <td>landscape</td>\n",
       "      <td>5971.jpg</td>\n",
       "    </tr>\n",
       "    <tr>\n",
       "      <th>533</th>\n",
       "      <td>36991</td>\n",
       "      <td>portrait</td>\n",
       "      <td>36991.jpg</td>\n",
       "    </tr>\n",
       "    <tr>\n",
       "      <th>66</th>\n",
       "      <td>7873</td>\n",
       "      <td>landscape</td>\n",
       "      <td>7873.jpg</td>\n",
       "    </tr>\n",
       "  </tbody>\n",
       "</table>\n",
       "</div>"
      ],
      "text/plain": [
       "        ID       TYPE       FILE\n",
       "696  14924  religious  14924.jpg\n",
       "667  37376  religious  37376.jpg\n",
       "63    5971  landscape   5971.jpg\n",
       "533  36991   portrait  36991.jpg\n",
       "66    7873  landscape   7873.jpg"
      ]
     },
     "execution_count": 89,
     "metadata": {},
     "output_type": "execute_result"
    }
   ],
   "source": [
    "df = df.reset_index(drop=True)\n",
    "df.sample(n=5, random_state=SEED)"
   ]
  },
  {
   "cell_type": "markdown",
   "id": "b957cc16",
   "metadata": {},
   "source": [
    "## Clean Data\n",
    "All columns will be transformed to lowercase. Checks will be implemented that throw an error if any value is not lowercase or includes any unwanted spaces"
   ]
  },
  {
   "cell_type": "code",
   "execution_count": 90,
   "id": "df78e540",
   "metadata": {},
   "outputs": [
    {
     "name": "stdout",
     "output_type": "stream",
     "text": [
      "<class 'pandas.core.frame.DataFrame'>\n",
      "RangeIndex: 800 entries, 0 to 799\n",
      "Data columns (total 3 columns):\n",
      " #   Column  Non-Null Count  Dtype \n",
      "---  ------  --------------  ----- \n",
      " 0   id      800 non-null    int64 \n",
      " 1   type    800 non-null    object\n",
      " 2   file    800 non-null    object\n",
      "dtypes: int64(1), object(2)\n",
      "memory usage: 18.9+ KB\n"
     ]
    }
   ],
   "source": [
    "df.columns = [col.lower() for col in df.columns]\n",
    "df.info()"
   ]
  },
  {
   "cell_type": "code",
   "execution_count": 91,
   "id": "f5b4bbe3",
   "metadata": {},
   "outputs": [
    {
     "name": "stdout",
     "output_type": "stream",
     "text": [
      "All string values are lowercase and have no leading/trailing whitespace\n"
     ]
    }
   ],
   "source": [
    "def check_df_string_cleanliness(df):\n",
    "    # Check all string/object columns\n",
    "    for col in df.select_dtypes(include=['object', 'string']):\n",
    "        col_notnull = df[col].dropna()\n",
    "        # Check for lowercase\n",
    "        if not col_notnull.apply(lambda x: x == x.lower()).all():\n",
    "            raise ValueError(f\"Column '{col}' contains non-lowercase string values.\")\n",
    "        # Check for leading/trailing whitespace\n",
    "        if not col_notnull.apply(lambda x: x == x.strip()).all():\n",
    "            raise ValueError(f\"Column '{col}' contains leading or trailing whitespace.\")\n",
    "    print(\"All string values are lowercase and have no leading/trailing whitespace\")\n",
    "\n",
    "check_df_string_cleanliness(df)"
   ]
  },
  {
   "cell_type": "markdown",
   "id": "ab232313",
   "metadata": {},
   "source": [
    "All column names and values within the rows are now lowercase and without spaces. \n",
    "\n",
    "The last step is to change the DType for `form` and `type` to categorical"
   ]
  },
  {
   "cell_type": "code",
   "execution_count": 92,
   "id": "d57adabd",
   "metadata": {},
   "outputs": [
    {
     "name": "stdout",
     "output_type": "stream",
     "text": [
      "Number of unique values for column type: 4\n",
      "<class 'pandas.core.frame.DataFrame'>\n",
      "RangeIndex: 800 entries, 0 to 799\n",
      "Data columns (total 3 columns):\n",
      " #   Column  Non-Null Count  Dtype   \n",
      "---  ------  --------------  -----   \n",
      " 0   id      800 non-null    int64   \n",
      " 1   type    800 non-null    category\n",
      " 2   file    800 non-null    object  \n",
      "dtypes: category(1), int64(1), object(1)\n",
      "memory usage: 13.6+ KB\n"
     ]
    }
   ],
   "source": [
    "categorical_cols = ['type']\n",
    "\n",
    "for col in categorical_cols:\n",
    "    df[col] = df[col].astype('category')\n",
    "    print(f\"Number of unique values for column {col}: {df[col].nunique()}\")\n",
    "\n",
    "df.info()"
   ]
  },
  {
   "cell_type": "markdown",
   "id": "5a8313e8",
   "metadata": {},
   "source": [
    "## Construct Data\n",
    "\n",
    "From the `file` column an `image_path` column can be created to load the images at the moment they are needed from the central storage"
   ]
  },
  {
   "cell_type": "code",
   "execution_count": 93,
   "id": "a5dea234",
   "metadata": {},
   "outputs": [
    {
     "name": "stdout",
     "output_type": "stream",
     "text": [
      "<class 'pandas.core.frame.DataFrame'>\n",
      "RangeIndex: 800 entries, 0 to 799\n",
      "Data columns (total 4 columns):\n",
      " #   Column      Non-Null Count  Dtype   \n",
      "---  ------      --------------  -----   \n",
      " 0   id          800 non-null    int64   \n",
      " 1   type        800 non-null    category\n",
      " 2   file        800 non-null    object  \n",
      " 3   image_path  800 non-null    object  \n",
      "dtypes: category(1), int64(1), object(2)\n",
      "memory usage: 19.9+ KB\n"
     ]
    }
   ],
   "source": [
    "df['image_path'] = df['file'].apply(lambda x: os.path.join(image_dir, x))\n",
    "df.info()"
   ]
  },
  {
   "cell_type": "markdown",
   "id": "2a31e77e",
   "metadata": {},
   "source": [
    "The file column will be dropped as to not have duplicate information"
   ]
  },
  {
   "cell_type": "code",
   "execution_count": 94,
   "id": "fa2629cb",
   "metadata": {},
   "outputs": [],
   "source": [
    "df = df.drop('file', axis=1)"
   ]
  },
  {
   "cell_type": "code",
   "execution_count": 95,
   "id": "0d1d387c",
   "metadata": {},
   "outputs": [
    {
     "name": "stdout",
     "output_type": "stream",
     "text": [
      "All paths in 'image_path' exist and are correctly formatted.\n"
     ]
    }
   ],
   "source": [
    "def check_df_image_path(df, image_path_col):\n",
    "# Check if image paths exist and are valid\n",
    "    if image_path_col in df.columns:\n",
    "        missing_paths = df[~df[image_path_col].dropna().apply(os.path.exists)]\n",
    "        if not missing_paths.empty:\n",
    "            raise ValueError(\n",
    "                f\"Some paths in '{image_path_col}' do not exist. Example(s):\\n{missing_paths[image_path_col].head()}\"\n",
    "            )\n",
    "        print(f\"All paths in '{image_path_col}' exist and are correctly formatted.\")\n",
    "    else:\n",
    "        print(f\"Column '{image_path_col}' not found in DataFrame.\")\n",
    "\n",
    "\n",
    "check_df_image_path(df=df, image_path_col='image_path')"
   ]
  },
  {
   "cell_type": "markdown",
   "id": "de6547d1",
   "metadata": {},
   "source": [
    "From the EDA it is known that 2 rows did not have an image available. With the above check it is confirmed that those images are not part of this subset."
   ]
  },
  {
   "cell_type": "markdown",
   "id": "e8571392",
   "metadata": {},
   "source": [
    "## Integrate Data\n",
    "\n",
    "During this iteration there is no;\n",
    "- merging or external tables\n",
    "- no aggregating or grouping\n",
    "- no joins"
   ]
  },
  {
   "cell_type": "markdown",
   "id": "3e71235d",
   "metadata": {},
   "source": [
    "## Format Data\n",
    "\n",
    "Here the dataset is finalized for modeling by performing the following:\n",
    "\n",
    "- One-hot encoding of categorical variables (`type`) for compatibility with machine learning models\n",
    "- Shuffling the dataframe to avoid ordering bias during training and validation splits\n",
    "- Documenting image resizing to ensure compatibility with CNN models"
   ]
  },
  {
   "cell_type": "code",
   "execution_count": 100,
   "id": "6a970b68",
   "metadata": {},
   "outputs": [
    {
     "data": {
      "text/html": [
       "<div>\n",
       "<style scoped>\n",
       "    .dataframe tbody tr th:only-of-type {\n",
       "        vertical-align: middle;\n",
       "    }\n",
       "\n",
       "    .dataframe tbody tr th {\n",
       "        vertical-align: top;\n",
       "    }\n",
       "\n",
       "    .dataframe thead th {\n",
       "        text-align: right;\n",
       "    }\n",
       "</style>\n",
       "<table border=\"1\" class=\"dataframe\">\n",
       "  <thead>\n",
       "    <tr style=\"text-align: right;\">\n",
       "      <th></th>\n",
       "      <th>id</th>\n",
       "      <th>image_path</th>\n",
       "      <th>type_landscape</th>\n",
       "      <th>type_mythological</th>\n",
       "      <th>type_portrait</th>\n",
       "      <th>type_religious</th>\n",
       "    </tr>\n",
       "  </thead>\n",
       "  <tbody>\n",
       "    <tr>\n",
       "      <th>696</th>\n",
       "      <td>36504</td>\n",
       "      <td>../data/toy_dataset/36504.jpg</td>\n",
       "      <td>True</td>\n",
       "      <td>False</td>\n",
       "      <td>False</td>\n",
       "      <td>False</td>\n",
       "    </tr>\n",
       "    <tr>\n",
       "      <th>667</th>\n",
       "      <td>13794</td>\n",
       "      <td>../data/toy_dataset/13794.jpg</td>\n",
       "      <td>False</td>\n",
       "      <td>True</td>\n",
       "      <td>False</td>\n",
       "      <td>False</td>\n",
       "    </tr>\n",
       "    <tr>\n",
       "      <th>63</th>\n",
       "      <td>42302</td>\n",
       "      <td>../data/toy_dataset/42302.jpg</td>\n",
       "      <td>False</td>\n",
       "      <td>True</td>\n",
       "      <td>False</td>\n",
       "      <td>False</td>\n",
       "    </tr>\n",
       "  </tbody>\n",
       "</table>\n",
       "</div>"
      ],
      "text/plain": [
       "        id                     image_path  type_landscape  type_mythological  \\\n",
       "696  36504  ../data/toy_dataset/36504.jpg            True              False   \n",
       "667  13794  ../data/toy_dataset/13794.jpg           False               True   \n",
       "63   42302  ../data/toy_dataset/42302.jpg           False               True   \n",
       "\n",
       "     type_portrait  type_religious  \n",
       "696          False           False  \n",
       "667          False           False  \n",
       "63           False           False  "
      ]
     },
     "execution_count": 100,
     "metadata": {},
     "output_type": "execute_result"
    }
   ],
   "source": [
    "# one hot encoding\n",
    "df_encoded = pd.get_dummies(df, columns=['type'])\n",
    "\n",
    "# Shuffle\n",
    "df_encoded = df_encoded.sample(frac=1, random_state=SEED).reset_index(drop=True)\n",
    "\n",
    "df_encoded.sample(n=3, random_state=SEED)"
   ]
  },
  {
   "cell_type": "markdown",
   "id": "9bef10d1",
   "metadata": {},
   "source": [
    "**Image REsizing**\n",
    "\n",
    "For compatibility with CNNs all images must be standardized to a fixed size. This is currently not the case as seen in the EDA\n",
    "\n",
    "To maximize flexibility and avoid unnecessary disk usage images will be resized on the fly during model training and inference. No image files will be modified or overwritten during the data preparation\n",
    "\n",
    "The image resizing function will be defined and applied as part of the pipeline in the modeling phase"
   ]
  },
  {
   "cell_type": "markdown",
   "id": "041c99a0",
   "metadata": {},
   "source": [
    "# Saving the dataframe"
   ]
  },
  {
   "cell_type": "code",
   "execution_count": null,
   "id": "ef897388",
   "metadata": {},
   "outputs": [
    {
     "name": "stdout",
     "output_type": "stream",
     "text": [
      "DataFrame successfully saved to ../data/processed/prepared_art500k_subset_paintings.pkl\n"
     ]
    }
   ],
   "source": [
    "output_dir = \"../data/processed/\"\n",
    "os.makedirs(output_dir, exist_ok=True)\n",
    "\n",
    "pkl_path = os.path.join(output_dir, \"prepared_art500k_subset_paintings.pkl\")\n",
    "df_encoded.to_pickle(pkl_path)\n",
    "\n",
    "print(f\"DataFrame successfully saved to {pkl_path}\")"
   ]
  },
  {
   "cell_type": "code",
   "execution_count": null,
   "id": "18b9c652",
   "metadata": {},
   "outputs": [],
   "source": []
  }
 ],
 "metadata": {
  "kernelspec": {
   "display_name": "Python 3",
   "language": "python",
   "name": "python3"
  },
  "language_info": {
   "codemirror_mode": {
    "name": "ipython",
    "version": 3
   },
   "file_extension": ".py",
   "mimetype": "text/x-python",
   "name": "python",
   "nbconvert_exporter": "python",
   "pygments_lexer": "ipython3",
   "version": "3.11.9"
  }
 },
 "nbformat": 4,
 "nbformat_minor": 5
}
